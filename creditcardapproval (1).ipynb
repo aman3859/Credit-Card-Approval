{
  "cells": [
    {
      "cell_type": "markdown",
      "id": "8bb14f6d",
      "metadata": {
        "papermill": {
          "duration": 0.044665,
          "end_time": "2023-08-17T06:40:01.091343",
          "exception": false,
          "start_time": "2023-08-17T06:40:01.046678",
          "status": "completed"
        },
        "tags": [],
        "id": "8bb14f6d"
      },
      "source": [
        "# Credit card approval prediction"
      ]
    },
    {
      "cell_type": "markdown",
      "id": "123aa04e",
      "metadata": {
        "papermill": {
          "duration": 0.043248,
          "end_time": "2023-08-17T06:40:01.179032",
          "exception": false,
          "start_time": "2023-08-17T06:40:01.135784",
          "status": "completed"
        },
        "tags": [],
        "id": "123aa04e"
      },
      "source": [
        "## Introduction ==========="
      ]
    },
    {
      "cell_type": "markdown",
      "id": "d18eb727",
      "metadata": {
        "papermill": {
          "duration": 0.043889,
          "end_time": "2023-08-17T06:40:01.266231",
          "exception": false,
          "start_time": "2023-08-17T06:40:01.222342",
          "status": "completed"
        },
        "tags": [],
        "id": "d18eb727"
      },
      "source": [
        "**Objective**: To predict whether to approve a credit card to customer\n",
        "\n"
      ]
    },
    {
      "cell_type": "markdown",
      "id": "e67f714d",
      "metadata": {
        "papermill": {
          "duration": 0.04302,
          "end_time": "2023-08-17T06:40:01.352590",
          "exception": false,
          "start_time": "2023-08-17T06:40:01.309570",
          "status": "completed"
        },
        "tags": [],
        "id": "e67f714d"
      },
      "source": [
        "## Import libraries ==========="
      ]
    },
    {
      "cell_type": "code",
      "execution_count": null,
      "id": "03b1cebf",
      "metadata": {
        "execution": {
          "iopub.execute_input": "2023-08-17T06:40:01.441699Z",
          "iopub.status.busy": "2023-08-17T06:40:01.441302Z",
          "iopub.status.idle": "2023-08-17T06:40:04.153986Z",
          "shell.execute_reply": "2023-08-17T06:40:04.152633Z"
        },
        "papermill": {
          "duration": 2.761413,
          "end_time": "2023-08-17T06:40:04.157221",
          "exception": false,
          "start_time": "2023-08-17T06:40:01.395808",
          "status": "completed"
        },
        "tags": [],
        "id": "03b1cebf",
        "outputId": "c6f06d86-2241-4259-c353-dff5e218c1b7"
      },
      "outputs": [
        {
          "name": "stderr",
          "output_type": "stream",
          "text": [
            "/opt/conda/lib/python3.10/site-packages/scipy/__init__.py:146: UserWarning: A NumPy version >=1.16.5 and <1.23.0 is required for this version of SciPy (detected version 1.23.5\n",
            "  warnings.warn(f\"A NumPy version >={np_minversion} and <{np_maxversion}\"\n"
          ]
        }
      ],
      "source": [
        "import pandas as pd\n",
        "import numpy as np\n",
        "import math\n",
        "import seaborn as sns\n",
        "import matplotlib.pyplot as plt\n",
        "import scipy\n",
        "from sklearn.linear_model import LogisticRegression\n",
        "from sklearn.model_selection import GridSearchCV, train_test_split\n",
        "from sklearn.metrics import accuracy_score, precision_score, recall_score,f1_score, confusion_matrix, ConfusionMatrixDisplay, classification_report\n",
        "from sklearn.metrics import roc_auc_score, roc_curve\n",
        "from imblearn.over_sampling import SMOTENC, SMOTEN\n",
        "from sklearn.ensemble import RandomForestClassifier\n",
        "from sklearn.preprocessing import OneHotEncoder\n",
        "from xgboost import XGBClassifier"
      ]
    },
    {
      "cell_type": "markdown",
      "id": "50ac0bc9",
      "metadata": {
        "papermill": {
          "duration": 0.043737,
          "end_time": "2023-08-17T06:40:04.245686",
          "exception": false,
          "start_time": "2023-08-17T06:40:04.201949",
          "status": "completed"
        },
        "tags": [],
        "id": "50ac0bc9"
      },
      "source": [
        "## Read data ==========="
      ]
    },
    {
      "cell_type": "code",
      "execution_count": null,
      "id": "99d916cb",
      "metadata": {
        "execution": {
          "iopub.execute_input": "2023-08-17T06:40:04.336676Z",
          "iopub.status.busy": "2023-08-17T06:40:04.336248Z",
          "iopub.status.idle": "2023-08-17T06:40:06.478535Z",
          "shell.execute_reply": "2023-08-17T06:40:06.477349Z"
        },
        "papermill": {
          "duration": 2.190993,
          "end_time": "2023-08-17T06:40:06.481384",
          "exception": false,
          "start_time": "2023-08-17T06:40:04.290391",
          "status": "completed"
        },
        "tags": [],
        "id": "99d916cb"
      },
      "outputs": [],
      "source": [
        "df= pd.read_csv(\"../input/credit-card-approval-prediction/application_record.csv\", encoding = 'utf-8')\n",
        "df_credit = pd.read_csv(\"../input/credit-card-approval-prediction/credit_record.csv\", encoding = 'utf-8')"
      ]
    },
    {
      "cell_type": "markdown",
      "id": "dd7cce18",
      "metadata": {
        "papermill": {
          "duration": 0.044803,
          "end_time": "2023-08-17T06:40:06.570118",
          "exception": false,
          "start_time": "2023-08-17T06:40:06.525315",
          "status": "completed"
        },
        "tags": [],
        "id": "dd7cce18"
      },
      "source": [
        "### Usable data"
      ]
    },
    {
      "cell_type": "markdown",
      "id": "0ffa0863",
      "metadata": {
        "papermill": {
          "duration": 0.043216,
          "end_time": "2023-08-17T06:40:06.657209",
          "exception": false,
          "start_time": "2023-08-17T06:40:06.613993",
          "status": "completed"
        },
        "tags": [],
        "id": "0ffa0863"
      },
      "source": [
        "We have 2 tables, the first one contains information of each customer, and the second record the payment behavior."
      ]
    },
    {
      "cell_type": "code",
      "execution_count": null,
      "id": "1e9b149b",
      "metadata": {
        "execution": {
          "iopub.execute_input": "2023-08-17T06:40:06.747375Z",
          "iopub.status.busy": "2023-08-17T06:40:06.746926Z",
          "iopub.status.idle": "2023-08-17T06:40:06.818762Z",
          "shell.execute_reply": "2023-08-17T06:40:06.817425Z"
        },
        "papermill": {
          "duration": 0.12066,
          "end_time": "2023-08-17T06:40:06.821515",
          "exception": false,
          "start_time": "2023-08-17T06:40:06.700855",
          "status": "completed"
        },
        "tags": [],
        "id": "1e9b149b",
        "outputId": "4ed48326-1da9-49b7-c506-e8ae60dfc50c"
      },
      "outputs": [
        {
          "name": "stdout",
          "output_type": "stream",
          "text": [
            "For the first table, number of unique customer ID 438510\n",
            "For the second table, number of unique customer ID 45985\n",
            "Number of unique customer ID that appearing in both tables: 36457\n"
          ]
        }
      ],
      "source": [
        "print('For the first table, number of unique customer ID',df['ID'].nunique())\n",
        "print('For the second table, number of unique customer ID',df_credit['ID'].nunique())\n",
        "print('Number of unique customer ID that appearing in both tables:',df[df['ID'].isin(df_credit['ID'])]['ID'].nunique())"
      ]
    },
    {
      "cell_type": "markdown",
      "id": "32d23eb2",
      "metadata": {
        "papermill": {
          "duration": 0.043496,
          "end_time": "2023-08-17T06:40:06.908908",
          "exception": false,
          "start_time": "2023-08-17T06:40:06.865412",
          "status": "completed"
        },
        "tags": [],
        "id": "32d23eb2"
      },
      "source": [
        "Only **36457** curtomers are on both table. Hence the maximum usable data to train the model is 36457 samples."
      ]
    },
    {
      "cell_type": "code",
      "execution_count": null,
      "id": "30d15805",
      "metadata": {
        "execution": {
          "iopub.execute_input": "2023-08-17T06:40:06.998814Z",
          "iopub.status.busy": "2023-08-17T06:40:06.998383Z",
          "iopub.status.idle": "2023-08-17T06:40:07.074776Z",
          "shell.execute_reply": "2023-08-17T06:40:07.073444Z"
        },
        "papermill": {
          "duration": 0.124126,
          "end_time": "2023-08-17T06:40:07.077474",
          "exception": false,
          "start_time": "2023-08-17T06:40:06.953348",
          "status": "completed"
        },
        "tags": [],
        "id": "30d15805"
      },
      "outputs": [],
      "source": [
        "# Filter only usable sample\n",
        "df = df[df['ID'].isin(df_credit['ID'])]\n",
        "df_credit = df_credit[df_credit['ID'].isin(df['ID'])]"
      ]
    },
    {
      "cell_type": "markdown",
      "id": "475a9960",
      "metadata": {
        "papermill": {
          "duration": 0.043707,
          "end_time": "2023-08-17T06:40:07.165772",
          "exception": false,
          "start_time": "2023-08-17T06:40:07.122065",
          "status": "completed"
        },
        "tags": [],
        "id": "475a9960"
      },
      "source": [
        "## Label good/bad customers ===========\n",
        "As the data only provide the credit record (status), but not the decision on whether we should approve a credit card, we first set up the criteria.\n",
        "\n",
        "\n",
        "\n",
        "We consider customer who make a payment later than 90 days as bad customer.\n",
        "\n",
        "We also removed customer with only X status, as those customer never used the credit card and are non-benificial data.\n",
        "\n",
        "We also removed the indeterminates, which is defined as pasting due less than 90 days (but not on time), as they are not strictly defined as good or bad customer.\n",
        "\n",
        "We used 12 months window as consideration period, we also remove customer with recording period less than 12 months."
      ]
    },
    {
      "cell_type": "code",
      "execution_count": null,
      "id": "bbec57f6",
      "metadata": {
        "execution": {
          "iopub.execute_input": "2023-08-17T06:40:07.256288Z",
          "iopub.status.busy": "2023-08-17T06:40:07.255868Z",
          "iopub.status.idle": "2023-08-17T06:40:07.262953Z",
          "shell.execute_reply": "2023-08-17T06:40:07.261684Z"
        },
        "papermill": {
          "duration": 0.054747,
          "end_time": "2023-08-17T06:40:07.265204",
          "exception": false,
          "start_time": "2023-08-17T06:40:07.210457",
          "status": "completed"
        },
        "tags": [],
        "id": "bbec57f6"
      },
      "outputs": [],
      "source": [
        "# make label\n",
        "def label_bad(df):\n",
        "    if (df[\"STATUS\"]=='3') | (df[\"STATUS\"]=='4') | (df[\"STATUS\"]=='5'): # bad\n",
        "        return 2\n",
        "    elif (df[\"STATUS\"]=='X'): # no record\n",
        "        return -1\n",
        "    elif (df[\"STATUS\"]=='0') | (df[\"STATUS\"]=='1') | (df[\"STATUS\"]=='2'): # indeterminates\n",
        "        return 1\n",
        "    else:\n",
        "        return 0\n"
      ]
    },
    {
      "cell_type": "code",
      "execution_count": null,
      "id": "6b2f416c",
      "metadata": {
        "execution": {
          "iopub.execute_input": "2023-08-17T06:40:07.355784Z",
          "iopub.status.busy": "2023-08-17T06:40:07.355003Z",
          "iopub.status.idle": "2023-08-17T06:40:20.150005Z",
          "shell.execute_reply": "2023-08-17T06:40:20.148752Z"
        },
        "papermill": {
          "duration": 12.843851,
          "end_time": "2023-08-17T06:40:20.153167",
          "exception": false,
          "start_time": "2023-08-17T06:40:07.309316",
          "status": "completed"
        },
        "tags": [],
        "id": "6b2f416c"
      },
      "outputs": [],
      "source": [
        "df_credit[\"MONTHS_BALANCE\"] = -df_credit[\"MONTHS_BALANCE\"]\n",
        "df_credit = df_credit[df_credit[\"MONTHS_BALANCE\"]<=12]\n",
        "df_credit[\"Bad_Customer\"] = df_credit.apply(label_bad, axis=1)"
      ]
    },
    {
      "cell_type": "code",
      "execution_count": null,
      "id": "275c001b",
      "metadata": {
        "execution": {
          "iopub.execute_input": "2023-08-17T06:40:20.247078Z",
          "iopub.status.busy": "2023-08-17T06:40:20.246641Z",
          "iopub.status.idle": "2023-08-17T06:40:20.277648Z",
          "shell.execute_reply": "2023-08-17T06:40:20.276529Z"
        },
        "papermill": {
          "duration": 0.079529,
          "end_time": "2023-08-17T06:40:20.280511",
          "exception": false,
          "start_time": "2023-08-17T06:40:20.200982",
          "status": "completed"
        },
        "tags": [],
        "id": "275c001b"
      },
      "outputs": [],
      "source": [
        "df_credit_labeled = df_credit[['ID','Bad_Customer',\"MONTHS_BALANCE\"]].groupby('ID',as_index=False).max()"
      ]
    },
    {
      "cell_type": "code",
      "execution_count": null,
      "id": "e200de30",
      "metadata": {
        "execution": {
          "iopub.execute_input": "2023-08-17T06:40:20.371803Z",
          "iopub.status.busy": "2023-08-17T06:40:20.371408Z",
          "iopub.status.idle": "2023-08-17T06:40:20.513744Z",
          "shell.execute_reply": "2023-08-17T06:40:20.512613Z"
        },
        "papermill": {
          "duration": 0.19176,
          "end_time": "2023-08-17T06:40:20.516688",
          "exception": false,
          "start_time": "2023-08-17T06:40:20.324928",
          "status": "completed"
        },
        "tags": [],
        "id": "e200de30"
      },
      "outputs": [],
      "source": [
        "# remove customer with only X status (no usage data) (labeled as -1)\n",
        "df_credit_labeled = df_credit_labeled[df_credit_labeled['Bad_Customer']!=-1]\n",
        "# remove indeterminates customer (labeled as 1)\n",
        "df_credit_labeled = df_credit_labeled[df_credit_labeled['Bad_Customer']!=1]\n",
        "# remove customer with period of record less than 12 month\n",
        "df_credit_labeled = df_credit_labeled[df_credit_labeled['MONTHS_BALANCE']==12]\n",
        "# Tag Bad_customer as 1 instead (former = 2)\n",
        "df_credit_labeled['Bad_Customer'] = (df_credit_labeled['Bad_Customer']/2).apply(np.int32)\n",
        "df_credit_labeled =  df_credit_labeled.drop('MONTHS_BALANCE', axis=1)"
      ]
    },
    {
      "cell_type": "code",
      "execution_count": null,
      "id": "34aeb7f0",
      "metadata": {
        "execution": {
          "iopub.execute_input": "2023-08-17T06:40:20.607222Z",
          "iopub.status.busy": "2023-08-17T06:40:20.606774Z",
          "iopub.status.idle": "2023-08-17T06:40:20.628914Z",
          "shell.execute_reply": "2023-08-17T06:40:20.627586Z"
        },
        "papermill": {
          "duration": 0.070568,
          "end_time": "2023-08-17T06:40:20.631889",
          "exception": false,
          "start_time": "2023-08-17T06:40:20.561321",
          "status": "completed"
        },
        "tags": [],
        "id": "34aeb7f0"
      },
      "outputs": [],
      "source": [
        "# merge\n",
        "df_labeled = df.merge(df_credit_labeled,on='ID',how='inner')"
      ]
    },
    {
      "cell_type": "markdown",
      "id": "898c325f",
      "metadata": {
        "papermill": {
          "duration": 0.043657,
          "end_time": "2023-08-17T06:40:20.720104",
          "exception": false,
          "start_time": "2023-08-17T06:40:20.676447",
          "status": "completed"
        },
        "tags": [],
        "id": "898c325f"
      },
      "source": [
        "## Observe and clean data ==========="
      ]
    },
    {
      "cell_type": "markdown",
      "id": "1b68c065",
      "metadata": {
        "papermill": {
          "duration": 0.04466,
          "end_time": "2023-08-17T06:40:20.808576",
          "exception": false,
          "start_time": "2023-08-17T06:40:20.763916",
          "status": "completed"
        },
        "tags": [],
        "id": "1b68c065"
      },
      "source": [
        "### Check customer information table"
      ]
    },
    {
      "cell_type": "code",
      "execution_count": null,
      "id": "2aa11d91",
      "metadata": {
        "execution": {
          "iopub.execute_input": "2023-08-17T06:40:20.898819Z",
          "iopub.status.busy": "2023-08-17T06:40:20.898425Z",
          "iopub.status.idle": "2023-08-17T06:40:20.929206Z",
          "shell.execute_reply": "2023-08-17T06:40:20.928288Z"
        },
        "papermill": {
          "duration": 0.078812,
          "end_time": "2023-08-17T06:40:20.931522",
          "exception": false,
          "start_time": "2023-08-17T06:40:20.852710",
          "status": "completed"
        },
        "tags": [],
        "id": "2aa11d91",
        "outputId": "6aa6b1a8-3c8e-4eef-e908-02ba7c258b01"
      },
      "outputs": [
        {
          "data": {
            "text/html": [
              "<div>\n",
              "<style scoped>\n",
              "    .dataframe tbody tr th:only-of-type {\n",
              "        vertical-align: middle;\n",
              "    }\n",
              "\n",
              "    .dataframe tbody tr th {\n",
              "        vertical-align: top;\n",
              "    }\n",
              "\n",
              "    .dataframe thead th {\n",
              "        text-align: right;\n",
              "    }\n",
              "</style>\n",
              "<table border=\"1\" class=\"dataframe\">\n",
              "  <thead>\n",
              "    <tr style=\"text-align: right;\">\n",
              "      <th></th>\n",
              "      <th>ID</th>\n",
              "      <th>CODE_GENDER</th>\n",
              "      <th>FLAG_OWN_CAR</th>\n",
              "      <th>FLAG_OWN_REALTY</th>\n",
              "      <th>CNT_CHILDREN</th>\n",
              "      <th>AMT_INCOME_TOTAL</th>\n",
              "      <th>NAME_INCOME_TYPE</th>\n",
              "      <th>NAME_EDUCATION_TYPE</th>\n",
              "      <th>NAME_FAMILY_STATUS</th>\n",
              "      <th>NAME_HOUSING_TYPE</th>\n",
              "      <th>DAYS_BIRTH</th>\n",
              "      <th>DAYS_EMPLOYED</th>\n",
              "      <th>FLAG_MOBIL</th>\n",
              "      <th>FLAG_WORK_PHONE</th>\n",
              "      <th>FLAG_PHONE</th>\n",
              "      <th>FLAG_EMAIL</th>\n",
              "      <th>OCCUPATION_TYPE</th>\n",
              "      <th>CNT_FAM_MEMBERS</th>\n",
              "      <th>Bad_Customer</th>\n",
              "    </tr>\n",
              "  </thead>\n",
              "  <tbody>\n",
              "    <tr>\n",
              "      <th>0</th>\n",
              "      <td>5008804</td>\n",
              "      <td>M</td>\n",
              "      <td>Y</td>\n",
              "      <td>Y</td>\n",
              "      <td>0</td>\n",
              "      <td>427500.0</td>\n",
              "      <td>Working</td>\n",
              "      <td>Higher education</td>\n",
              "      <td>Civil marriage</td>\n",
              "      <td>Rented apartment</td>\n",
              "      <td>-12005</td>\n",
              "      <td>-4542</td>\n",
              "      <td>1</td>\n",
              "      <td>1</td>\n",
              "      <td>0</td>\n",
              "      <td>0</td>\n",
              "      <td>NaN</td>\n",
              "      <td>2.0</td>\n",
              "      <td>0</td>\n",
              "    </tr>\n",
              "    <tr>\n",
              "      <th>1</th>\n",
              "      <td>5008810</td>\n",
              "      <td>F</td>\n",
              "      <td>N</td>\n",
              "      <td>Y</td>\n",
              "      <td>0</td>\n",
              "      <td>270000.0</td>\n",
              "      <td>Commercial associate</td>\n",
              "      <td>Secondary / secondary special</td>\n",
              "      <td>Single / not married</td>\n",
              "      <td>House / apartment</td>\n",
              "      <td>-19110</td>\n",
              "      <td>-3051</td>\n",
              "      <td>1</td>\n",
              "      <td>0</td>\n",
              "      <td>1</td>\n",
              "      <td>1</td>\n",
              "      <td>Sales staff</td>\n",
              "      <td>1.0</td>\n",
              "      <td>0</td>\n",
              "    </tr>\n",
              "    <tr>\n",
              "      <th>2</th>\n",
              "      <td>5008811</td>\n",
              "      <td>F</td>\n",
              "      <td>N</td>\n",
              "      <td>Y</td>\n",
              "      <td>0</td>\n",
              "      <td>270000.0</td>\n",
              "      <td>Commercial associate</td>\n",
              "      <td>Secondary / secondary special</td>\n",
              "      <td>Single / not married</td>\n",
              "      <td>House / apartment</td>\n",
              "      <td>-19110</td>\n",
              "      <td>-3051</td>\n",
              "      <td>1</td>\n",
              "      <td>0</td>\n",
              "      <td>1</td>\n",
              "      <td>1</td>\n",
              "      <td>Sales staff</td>\n",
              "      <td>1.0</td>\n",
              "      <td>0</td>\n",
              "    </tr>\n",
              "    <tr>\n",
              "      <th>3</th>\n",
              "      <td>5008826</td>\n",
              "      <td>F</td>\n",
              "      <td>Y</td>\n",
              "      <td>N</td>\n",
              "      <td>0</td>\n",
              "      <td>130500.0</td>\n",
              "      <td>Working</td>\n",
              "      <td>Incomplete higher</td>\n",
              "      <td>Married</td>\n",
              "      <td>House / apartment</td>\n",
              "      <td>-10669</td>\n",
              "      <td>-1103</td>\n",
              "      <td>1</td>\n",
              "      <td>0</td>\n",
              "      <td>0</td>\n",
              "      <td>0</td>\n",
              "      <td>Accountants</td>\n",
              "      <td>2.0</td>\n",
              "      <td>0</td>\n",
              "    </tr>\n",
              "    <tr>\n",
              "      <th>4</th>\n",
              "      <td>5008830</td>\n",
              "      <td>F</td>\n",
              "      <td>N</td>\n",
              "      <td>Y</td>\n",
              "      <td>0</td>\n",
              "      <td>157500.0</td>\n",
              "      <td>Working</td>\n",
              "      <td>Secondary / secondary special</td>\n",
              "      <td>Married</td>\n",
              "      <td>House / apartment</td>\n",
              "      <td>-10031</td>\n",
              "      <td>-1469</td>\n",
              "      <td>1</td>\n",
              "      <td>0</td>\n",
              "      <td>1</td>\n",
              "      <td>0</td>\n",
              "      <td>Laborers</td>\n",
              "      <td>2.0</td>\n",
              "      <td>0</td>\n",
              "    </tr>\n",
              "    <tr>\n",
              "      <th>5</th>\n",
              "      <td>5008832</td>\n",
              "      <td>F</td>\n",
              "      <td>N</td>\n",
              "      <td>Y</td>\n",
              "      <td>0</td>\n",
              "      <td>157500.0</td>\n",
              "      <td>Working</td>\n",
              "      <td>Secondary / secondary special</td>\n",
              "      <td>Married</td>\n",
              "      <td>House / apartment</td>\n",
              "      <td>-10031</td>\n",
              "      <td>-1469</td>\n",
              "      <td>1</td>\n",
              "      <td>0</td>\n",
              "      <td>1</td>\n",
              "      <td>0</td>\n",
              "      <td>Laborers</td>\n",
              "      <td>2.0</td>\n",
              "      <td>0</td>\n",
              "    </tr>\n",
              "    <tr>\n",
              "      <th>6</th>\n",
              "      <td>5008834</td>\n",
              "      <td>F</td>\n",
              "      <td>N</td>\n",
              "      <td>Y</td>\n",
              "      <td>1</td>\n",
              "      <td>112500.0</td>\n",
              "      <td>Working</td>\n",
              "      <td>Secondary / secondary special</td>\n",
              "      <td>Single / not married</td>\n",
              "      <td>House / apartment</td>\n",
              "      <td>-10968</td>\n",
              "      <td>-1620</td>\n",
              "      <td>1</td>\n",
              "      <td>0</td>\n",
              "      <td>0</td>\n",
              "      <td>0</td>\n",
              "      <td>NaN</td>\n",
              "      <td>2.0</td>\n",
              "      <td>0</td>\n",
              "    </tr>\n",
              "    <tr>\n",
              "      <th>7</th>\n",
              "      <td>5008836</td>\n",
              "      <td>M</td>\n",
              "      <td>Y</td>\n",
              "      <td>Y</td>\n",
              "      <td>3</td>\n",
              "      <td>270000.0</td>\n",
              "      <td>Working</td>\n",
              "      <td>Secondary / secondary special</td>\n",
              "      <td>Married</td>\n",
              "      <td>House / apartment</td>\n",
              "      <td>-12689</td>\n",
              "      <td>-1163</td>\n",
              "      <td>1</td>\n",
              "      <td>0</td>\n",
              "      <td>0</td>\n",
              "      <td>0</td>\n",
              "      <td>Laborers</td>\n",
              "      <td>5.0</td>\n",
              "      <td>0</td>\n",
              "    </tr>\n",
              "    <tr>\n",
              "      <th>8</th>\n",
              "      <td>5008837</td>\n",
              "      <td>M</td>\n",
              "      <td>Y</td>\n",
              "      <td>Y</td>\n",
              "      <td>3</td>\n",
              "      <td>270000.0</td>\n",
              "      <td>Working</td>\n",
              "      <td>Secondary / secondary special</td>\n",
              "      <td>Married</td>\n",
              "      <td>House / apartment</td>\n",
              "      <td>-12689</td>\n",
              "      <td>-1163</td>\n",
              "      <td>1</td>\n",
              "      <td>0</td>\n",
              "      <td>0</td>\n",
              "      <td>0</td>\n",
              "      <td>Laborers</td>\n",
              "      <td>5.0</td>\n",
              "      <td>0</td>\n",
              "    </tr>\n",
              "    <tr>\n",
              "      <th>9</th>\n",
              "      <td>5008840</td>\n",
              "      <td>M</td>\n",
              "      <td>N</td>\n",
              "      <td>Y</td>\n",
              "      <td>1</td>\n",
              "      <td>405000.0</td>\n",
              "      <td>Commercial associate</td>\n",
              "      <td>Higher education</td>\n",
              "      <td>Married</td>\n",
              "      <td>House / apartment</td>\n",
              "      <td>-11842</td>\n",
              "      <td>-2016</td>\n",
              "      <td>1</td>\n",
              "      <td>0</td>\n",
              "      <td>0</td>\n",
              "      <td>0</td>\n",
              "      <td>Managers</td>\n",
              "      <td>3.0</td>\n",
              "      <td>0</td>\n",
              "    </tr>\n",
              "  </tbody>\n",
              "</table>\n",
              "</div>"
            ],
            "text/plain": [
              "        ID CODE_GENDER FLAG_OWN_CAR FLAG_OWN_REALTY  CNT_CHILDREN  \\\n",
              "0  5008804           M            Y               Y             0   \n",
              "1  5008810           F            N               Y             0   \n",
              "2  5008811           F            N               Y             0   \n",
              "3  5008826           F            Y               N             0   \n",
              "4  5008830           F            N               Y             0   \n",
              "5  5008832           F            N               Y             0   \n",
              "6  5008834           F            N               Y             1   \n",
              "7  5008836           M            Y               Y             3   \n",
              "8  5008837           M            Y               Y             3   \n",
              "9  5008840           M            N               Y             1   \n",
              "\n",
              "   AMT_INCOME_TOTAL      NAME_INCOME_TYPE            NAME_EDUCATION_TYPE  \\\n",
              "0          427500.0               Working               Higher education   \n",
              "1          270000.0  Commercial associate  Secondary / secondary special   \n",
              "2          270000.0  Commercial associate  Secondary / secondary special   \n",
              "3          130500.0               Working              Incomplete higher   \n",
              "4          157500.0               Working  Secondary / secondary special   \n",
              "5          157500.0               Working  Secondary / secondary special   \n",
              "6          112500.0               Working  Secondary / secondary special   \n",
              "7          270000.0               Working  Secondary / secondary special   \n",
              "8          270000.0               Working  Secondary / secondary special   \n",
              "9          405000.0  Commercial associate               Higher education   \n",
              "\n",
              "     NAME_FAMILY_STATUS  NAME_HOUSING_TYPE  DAYS_BIRTH  DAYS_EMPLOYED  \\\n",
              "0        Civil marriage   Rented apartment      -12005          -4542   \n",
              "1  Single / not married  House / apartment      -19110          -3051   \n",
              "2  Single / not married  House / apartment      -19110          -3051   \n",
              "3               Married  House / apartment      -10669          -1103   \n",
              "4               Married  House / apartment      -10031          -1469   \n",
              "5               Married  House / apartment      -10031          -1469   \n",
              "6  Single / not married  House / apartment      -10968          -1620   \n",
              "7               Married  House / apartment      -12689          -1163   \n",
              "8               Married  House / apartment      -12689          -1163   \n",
              "9               Married  House / apartment      -11842          -2016   \n",
              "\n",
              "   FLAG_MOBIL  FLAG_WORK_PHONE  FLAG_PHONE  FLAG_EMAIL OCCUPATION_TYPE  \\\n",
              "0           1                1           0           0             NaN   \n",
              "1           1                0           1           1     Sales staff   \n",
              "2           1                0           1           1     Sales staff   \n",
              "3           1                0           0           0     Accountants   \n",
              "4           1                0           1           0        Laborers   \n",
              "5           1                0           1           0        Laborers   \n",
              "6           1                0           0           0             NaN   \n",
              "7           1                0           0           0        Laborers   \n",
              "8           1                0           0           0        Laborers   \n",
              "9           1                0           0           0        Managers   \n",
              "\n",
              "   CNT_FAM_MEMBERS  Bad_Customer  \n",
              "0              2.0             0  \n",
              "1              1.0             0  \n",
              "2              1.0             0  \n",
              "3              2.0             0  \n",
              "4              2.0             0  \n",
              "5              2.0             0  \n",
              "6              2.0             0  \n",
              "7              5.0             0  \n",
              "8              5.0             0  \n",
              "9              3.0             0  "
            ]
          },
          "execution_count": 10,
          "metadata": {},
          "output_type": "execute_result"
        }
      ],
      "source": [
        "df_labeled.head(10)"
      ]
    },
    {
      "cell_type": "markdown",
      "id": "b99fa8cc",
      "metadata": {
        "papermill": {
          "duration": 0.044301,
          "end_time": "2023-08-17T06:40:21.020504",
          "exception": false,
          "start_time": "2023-08-17T06:40:20.976203",
          "status": "completed"
        },
        "tags": [],
        "id": "b99fa8cc"
      },
      "source": [
        "There are many information that duplicated, but have different ID. These may come from multiple credit cards per user."
      ]
    },
    {
      "cell_type": "code",
      "execution_count": null,
      "id": "69c5e0f3",
      "metadata": {
        "execution": {
          "iopub.execute_input": "2023-08-17T06:40:21.111265Z",
          "iopub.status.busy": "2023-08-17T06:40:21.110826Z",
          "iopub.status.idle": "2023-08-17T06:40:21.118237Z",
          "shell.execute_reply": "2023-08-17T06:40:21.117255Z"
        },
        "papermill": {
          "duration": 0.055468,
          "end_time": "2023-08-17T06:40:21.120428",
          "exception": false,
          "start_time": "2023-08-17T06:40:21.064960",
          "status": "completed"
        },
        "tags": [],
        "id": "69c5e0f3"
      },
      "outputs": [],
      "source": [
        "df_labeled = df_labeled.drop('ID',axis=1)"
      ]
    },
    {
      "cell_type": "code",
      "execution_count": null,
      "id": "1da44952",
      "metadata": {
        "execution": {
          "iopub.execute_input": "2023-08-17T06:40:21.211977Z",
          "iopub.status.busy": "2023-08-17T06:40:21.211523Z",
          "iopub.status.idle": "2023-08-17T06:40:21.251665Z",
          "shell.execute_reply": "2023-08-17T06:40:21.250312Z"
        },
        "papermill": {
          "duration": 0.089247,
          "end_time": "2023-08-17T06:40:21.254239",
          "exception": false,
          "start_time": "2023-08-17T06:40:21.164992",
          "status": "completed"
        },
        "tags": [],
        "id": "1da44952",
        "outputId": "c89a0676-2510-4cee-e208-640822163f0f"
      },
      "outputs": [
        {
          "name": "stdout",
          "output_type": "stream",
          "text": [
            "Amount of duplicated data with bad customer labeling:  5271\n",
            "Amount of duplicated data without bad customer labeling:  5313\n"
          ]
        }
      ],
      "source": [
        "# Check whether multiple cards holder are labeled with bad/good or mixing\n",
        "print('Amount of duplicated data with bad customer labeling: ', df_labeled.duplicated().sum())\n",
        "print('Amount of duplicated data without bad customer labeling: ', df_labeled.drop('Bad_Customer',axis=1).duplicated().sum())"
      ]
    },
    {
      "cell_type": "markdown",
      "id": "1347189e",
      "metadata": {
        "papermill": {
          "duration": 0.043974,
          "end_time": "2023-08-17T06:40:21.342627",
          "exception": false,
          "start_time": "2023-08-17T06:40:21.298653",
          "status": "completed"
        },
        "tags": [],
        "id": "1347189e"
      },
      "source": [
        "Since the amounts above are not equal, there are customer who are labeled as good and bad customer on different ID. We consider these customers as bad customers (have at least 1 labeled as bad customer)."
      ]
    },
    {
      "cell_type": "code",
      "execution_count": null,
      "id": "9ca0a655",
      "metadata": {
        "execution": {
          "iopub.execute_input": "2023-08-17T06:40:21.433539Z",
          "iopub.status.busy": "2023-08-17T06:40:21.433121Z",
          "iopub.status.idle": "2023-08-17T06:40:21.462053Z",
          "shell.execute_reply": "2023-08-17T06:40:21.460864Z"
        },
        "papermill": {
          "duration": 0.077918,
          "end_time": "2023-08-17T06:40:21.464886",
          "exception": false,
          "start_time": "2023-08-17T06:40:21.386968",
          "status": "completed"
        },
        "tags": [],
        "id": "9ca0a655"
      },
      "outputs": [],
      "source": [
        "# Flag duplicate information that come from the same customer\n",
        "df_labeled['ID_same_customer'] = df_labeled.groupby(['CODE_GENDER', 'FLAG_OWN_CAR', 'FLAG_OWN_REALTY', 'CNT_CHILDREN',\n",
        "       'AMT_INCOME_TOTAL', 'NAME_INCOME_TYPE', 'NAME_EDUCATION_TYPE',\n",
        "       'NAME_FAMILY_STATUS', 'NAME_HOUSING_TYPE', 'DAYS_BIRTH',\n",
        "       'DAYS_EMPLOYED', 'FLAG_MOBIL', 'FLAG_WORK_PHONE', 'FLAG_PHONE',\n",
        "       'FLAG_EMAIL', 'OCCUPATION_TYPE', 'CNT_FAM_MEMBERS'], dropna=False).ngroup()"
      ]
    },
    {
      "cell_type": "code",
      "execution_count": null,
      "id": "55fd198b",
      "metadata": {
        "execution": {
          "iopub.execute_input": "2023-08-17T06:40:21.556423Z",
          "iopub.status.busy": "2023-08-17T06:40:21.555989Z",
          "iopub.status.idle": "2023-08-17T06:40:21.596229Z",
          "shell.execute_reply": "2023-08-17T06:40:21.594978Z"
        },
        "papermill": {
          "duration": 0.088965,
          "end_time": "2023-08-17T06:40:21.598927",
          "exception": false,
          "start_time": "2023-08-17T06:40:21.509962",
          "status": "completed"
        },
        "tags": [],
        "id": "55fd198b"
      },
      "outputs": [],
      "source": [
        "# Combine information to be just 1 for each customer. Bad_customer tag is 1 if one or more ID is tagged as bad_customer\n",
        "df_labeled = df_labeled.groupby(['ID_same_customer','CODE_GENDER', 'FLAG_OWN_CAR', 'FLAG_OWN_REALTY', 'CNT_CHILDREN',\n",
        "       'AMT_INCOME_TOTAL', 'NAME_INCOME_TYPE', 'NAME_EDUCATION_TYPE',\n",
        "       'NAME_FAMILY_STATUS', 'NAME_HOUSING_TYPE', 'DAYS_BIRTH',\n",
        "       'DAYS_EMPLOYED', 'FLAG_MOBIL', 'FLAG_WORK_PHONE', 'FLAG_PHONE',\n",
        "       'FLAG_EMAIL', 'OCCUPATION_TYPE', 'CNT_FAM_MEMBERS'],as_index=False,dropna=False).max()\n"
      ]
    },
    {
      "cell_type": "code",
      "execution_count": null,
      "id": "815cb4af",
      "metadata": {
        "execution": {
          "iopub.execute_input": "2023-08-17T06:40:21.690264Z",
          "iopub.status.busy": "2023-08-17T06:40:21.689839Z",
          "iopub.status.idle": "2023-08-17T06:40:21.710385Z",
          "shell.execute_reply": "2023-08-17T06:40:21.709387Z"
        },
        "papermill": {
          "duration": 0.069251,
          "end_time": "2023-08-17T06:40:21.712763",
          "exception": false,
          "start_time": "2023-08-17T06:40:21.643512",
          "status": "completed"
        },
        "tags": [],
        "id": "815cb4af",
        "outputId": "3ba4464f-2530-4906-edfd-4e003ea28cf4"
      },
      "outputs": [
        {
          "data": {
            "text/plain": [
              "0"
            ]
          },
          "execution_count": 15,
          "metadata": {},
          "output_type": "execute_result"
        }
      ],
      "source": [
        "# Recheck for the duplicaite information\n",
        "df_labeled.drop('ID_same_customer',axis=1).duplicated().sum()"
      ]
    },
    {
      "cell_type": "markdown",
      "id": "a79d92c5",
      "metadata": {
        "papermill": {
          "duration": 0.045381,
          "end_time": "2023-08-17T06:40:21.802767",
          "exception": false,
          "start_time": "2023-08-17T06:40:21.757386",
          "status": "completed"
        },
        "tags": [],
        "id": "a79d92c5"
      },
      "source": [
        "### Check for missing data"
      ]
    },
    {
      "cell_type": "code",
      "execution_count": null,
      "id": "9342798d",
      "metadata": {
        "execution": {
          "iopub.execute_input": "2023-08-17T06:40:21.894122Z",
          "iopub.status.busy": "2023-08-17T06:40:21.893668Z",
          "iopub.status.idle": "2023-08-17T06:40:21.919463Z",
          "shell.execute_reply": "2023-08-17T06:40:21.918267Z"
        },
        "papermill": {
          "duration": 0.074522,
          "end_time": "2023-08-17T06:40:21.921948",
          "exception": false,
          "start_time": "2023-08-17T06:40:21.847426",
          "status": "completed"
        },
        "tags": [],
        "id": "9342798d",
        "outputId": "cd1fb188-5027-4ae9-c45f-2ab43c91ff5b"
      },
      "outputs": [
        {
          "data": {
            "text/plain": [
              "ID_same_customer       0.000000\n",
              "CODE_GENDER            0.000000\n",
              "FLAG_OWN_CAR           0.000000\n",
              "FLAG_OWN_REALTY        0.000000\n",
              "CNT_CHILDREN           0.000000\n",
              "AMT_INCOME_TOTAL       0.000000\n",
              "NAME_INCOME_TYPE       0.000000\n",
              "NAME_EDUCATION_TYPE    0.000000\n",
              "NAME_FAMILY_STATUS     0.000000\n",
              "NAME_HOUSING_TYPE      0.000000\n",
              "DAYS_BIRTH             0.000000\n",
              "DAYS_EMPLOYED          0.000000\n",
              "FLAG_MOBIL             0.000000\n",
              "FLAG_WORK_PHONE        0.000000\n",
              "FLAG_PHONE             0.000000\n",
              "FLAG_EMAIL             0.000000\n",
              "OCCUPATION_TYPE        4.226897\n",
              "CNT_FAM_MEMBERS        0.000000\n",
              "Bad_Customer           0.000000\n",
              "dtype: float64"
            ]
          },
          "execution_count": 16,
          "metadata": {},
          "output_type": "execute_result"
        }
      ],
      "source": [
        "df_labeled.isna().sum()/df.shape[0]*100"
      ]
    },
    {
      "cell_type": "markdown",
      "id": "7ffe85a2",
      "metadata": {
        "papermill": {
          "duration": 0.044758,
          "end_time": "2023-08-17T06:40:22.012384",
          "exception": false,
          "start_time": "2023-08-17T06:40:21.967626",
          "status": "completed"
        },
        "tags": [],
        "id": "7ffe85a2"
      },
      "source": [
        "About 4.2 % of occupation information is missing, which is a significant amount."
      ]
    },
    {
      "cell_type": "code",
      "execution_count": null,
      "id": "e0965b86",
      "metadata": {
        "execution": {
          "iopub.execute_input": "2023-08-17T06:40:22.105821Z",
          "iopub.status.busy": "2023-08-17T06:40:22.105419Z",
          "iopub.status.idle": "2023-08-17T06:40:22.438360Z",
          "shell.execute_reply": "2023-08-17T06:40:22.437058Z"
        },
        "papermill": {
          "duration": 0.381854,
          "end_time": "2023-08-17T06:40:22.440946",
          "exception": false,
          "start_time": "2023-08-17T06:40:22.059092",
          "status": "completed"
        },
        "tags": [],
        "id": "e0965b86",
        "outputId": "cf11c174-9d95-40c8-8b27-ec7a212cdb2c"
      },
      "outputs": [
        {
          "data": {
            "text/plain": [
              "Text(0.5, 1.0, \"Income type of customer that don't have occupation data\")"
            ]
          },
          "execution_count": 17,
          "metadata": {},
          "output_type": "execute_result"
        },
        {
          "data": {
            "image/png": "[encoded data removed]",
            "text/plain": [
              "<Figure size 800x200 with 1 Axes>"
            ]
          },
          "metadata": {},
          "output_type": "display_data"
        }
      ],
      "source": [
        "plt.figure(figsize=(8,2))\n",
        "sns.countplot(x= df_labeled[df_labeled[\"OCCUPATION_TYPE\"].isna()][\"NAME_INCOME_TYPE\"])\n",
        "plt.title(\"Income type of customer that don't have occupation data\")"
      ]
    },
    {
      "cell_type": "markdown",
      "id": "7f221c00",
      "metadata": {
        "papermill": {
          "duration": 0.045525,
          "end_time": "2023-08-17T06:40:22.532046",
          "exception": false,
          "start_time": "2023-08-17T06:40:22.486521",
          "status": "completed"
        },
        "tags": [],
        "id": "7f221c00"
      },
      "source": [
        "From the plot, most of the missing occupation data are pensioner which is make sense. We labeled occupation types of Pensioner as \"Pensioner\"."
      ]
    },
    {
      "cell_type": "code",
      "execution_count": null,
      "id": "ab74e2da",
      "metadata": {
        "execution": {
          "iopub.execute_input": "2023-08-17T06:40:22.627145Z",
          "iopub.status.busy": "2023-08-17T06:40:22.626186Z",
          "iopub.status.idle": "2023-08-17T06:40:22.634325Z",
          "shell.execute_reply": "2023-08-17T06:40:22.633240Z"
        },
        "papermill": {
          "duration": 0.058704,
          "end_time": "2023-08-17T06:40:22.637131",
          "exception": false,
          "start_time": "2023-08-17T06:40:22.578427",
          "status": "completed"
        },
        "tags": [],
        "id": "ab74e2da"
      },
      "outputs": [],
      "source": [
        "# label pensioner occupation type\n",
        "df_labeled.loc[df_labeled[\"NAME_INCOME_TYPE\"]==\"Pensioner\",\"OCCUPATION_TYPE\"] = \"Pensioner\""
      ]
    },
    {
      "cell_type": "code",
      "execution_count": null,
      "id": "abd17813",
      "metadata": {
        "execution": {
          "iopub.execute_input": "2023-08-17T06:40:22.730642Z",
          "iopub.status.busy": "2023-08-17T06:40:22.729556Z",
          "iopub.status.idle": "2023-08-17T06:40:22.753999Z",
          "shell.execute_reply": "2023-08-17T06:40:22.752849Z"
        },
        "papermill": {
          "duration": 0.073496,
          "end_time": "2023-08-17T06:40:22.756274",
          "exception": false,
          "start_time": "2023-08-17T06:40:22.682778",
          "status": "completed"
        },
        "tags": [],
        "id": "abd17813",
        "outputId": "586c5015-ea1b-4deb-9221-9861e3abc66e"
      },
      "outputs": [
        {
          "data": {
            "text/plain": [
              "ID_same_customer       0.000000\n",
              "CODE_GENDER            0.000000\n",
              "FLAG_OWN_CAR           0.000000\n",
              "FLAG_OWN_REALTY        0.000000\n",
              "CNT_CHILDREN           0.000000\n",
              "AMT_INCOME_TOTAL       0.000000\n",
              "NAME_INCOME_TYPE       0.000000\n",
              "NAME_EDUCATION_TYPE    0.000000\n",
              "NAME_FAMILY_STATUS     0.000000\n",
              "NAME_HOUSING_TYPE      0.000000\n",
              "DAYS_BIRTH             0.000000\n",
              "DAYS_EMPLOYED          0.000000\n",
              "FLAG_MOBIL             0.000000\n",
              "FLAG_WORK_PHONE        0.000000\n",
              "FLAG_PHONE             0.000000\n",
              "FLAG_EMAIL             0.000000\n",
              "OCCUPATION_TYPE        1.818581\n",
              "CNT_FAM_MEMBERS        0.000000\n",
              "Bad_Customer           0.000000\n",
              "dtype: float64"
            ]
          },
          "execution_count": 19,
          "metadata": {},
          "output_type": "execute_result"
        }
      ],
      "source": [
        "# Check missing data after assigning pensioner\n",
        "df_labeled.isna().sum()/df.shape[0]*100"
      ]
    },
    {
      "cell_type": "markdown",
      "id": "59473a67",
      "metadata": {
        "papermill": {
          "duration": 0.047391,
          "end_time": "2023-08-17T06:40:22.849195",
          "exception": false,
          "start_time": "2023-08-17T06:40:22.801804",
          "status": "completed"
        },
        "tags": [],
        "id": "59473a67"
      },
      "source": [
        "About 1.8 % of occupation information is missing.\n",
        "\n",
        "We decided to remove these data."
      ]
    },
    {
      "cell_type": "code",
      "execution_count": null,
      "id": "0344ffa1",
      "metadata": {
        "execution": {
          "iopub.execute_input": "2023-08-17T06:40:22.944915Z",
          "iopub.status.busy": "2023-08-17T06:40:22.943830Z",
          "iopub.status.idle": "2023-08-17T06:40:22.963805Z",
          "shell.execute_reply": "2023-08-17T06:40:22.962927Z"
        },
        "papermill": {
          "duration": 0.07133,
          "end_time": "2023-08-17T06:40:22.966399",
          "exception": false,
          "start_time": "2023-08-17T06:40:22.895069",
          "status": "completed"
        },
        "tags": [],
        "id": "0344ffa1"
      },
      "outputs": [],
      "source": [
        "# drop null occupation rows\n",
        "df_labeled = df_labeled.dropna(axis=0)"
      ]
    },
    {
      "cell_type": "markdown",
      "id": "baa30279",
      "metadata": {
        "papermill": {
          "duration": 0.045337,
          "end_time": "2023-08-17T06:40:23.057551",
          "exception": false,
          "start_time": "2023-08-17T06:40:23.012214",
          "status": "completed"
        },
        "tags": [],
        "id": "baa30279"
      },
      "source": [
        "### Check for mis-spelling of categorical columns"
      ]
    },
    {
      "cell_type": "code",
      "execution_count": null,
      "id": "07236fa4",
      "metadata": {
        "execution": {
          "iopub.execute_input": "2023-08-17T06:40:23.151326Z",
          "iopub.status.busy": "2023-08-17T06:40:23.150471Z",
          "iopub.status.idle": "2023-08-17T06:40:23.158718Z",
          "shell.execute_reply": "2023-08-17T06:40:23.157460Z"
        },
        "papermill": {
          "duration": 0.057915,
          "end_time": "2023-08-17T06:40:23.161376",
          "exception": false,
          "start_time": "2023-08-17T06:40:23.103461",
          "status": "completed"
        },
        "tags": [],
        "id": "07236fa4",
        "outputId": "c47bb5e7-ff3f-4abe-b686-b3b557546d21"
      },
      "outputs": [
        {
          "data": {
            "text/plain": [
              "array(['F', 'M'], dtype=object)"
            ]
          },
          "execution_count": 21,
          "metadata": {},
          "output_type": "execute_result"
        }
      ],
      "source": [
        "df_labeled[\"CODE_GENDER\"].unique()"
      ]
    },
    {
      "cell_type": "code",
      "execution_count": null,
      "id": "d900440f",
      "metadata": {
        "execution": {
          "iopub.execute_input": "2023-08-17T06:40:23.254612Z",
          "iopub.status.busy": "2023-08-17T06:40:23.254222Z",
          "iopub.status.idle": "2023-08-17T06:40:23.261645Z",
          "shell.execute_reply": "2023-08-17T06:40:23.260533Z"
        },
        "papermill": {
          "duration": 0.056966,
          "end_time": "2023-08-17T06:40:23.264028",
          "exception": false,
          "start_time": "2023-08-17T06:40:23.207062",
          "status": "completed"
        },
        "tags": [],
        "id": "d900440f",
        "outputId": "57271b36-2c97-4b45-d399-634a83620bb8"
      },
      "outputs": [
        {
          "data": {
            "text/plain": [
              "array(['N', 'Y'], dtype=object)"
            ]
          },
          "execution_count": 22,
          "metadata": {},
          "output_type": "execute_result"
        }
      ],
      "source": [
        "df_labeled[\"FLAG_OWN_CAR\"].unique()"
      ]
    },
    {
      "cell_type": "code",
      "execution_count": null,
      "id": "31ef8a55",
      "metadata": {
        "execution": {
          "iopub.execute_input": "2023-08-17T06:40:23.358454Z",
          "iopub.status.busy": "2023-08-17T06:40:23.357717Z",
          "iopub.status.idle": "2023-08-17T06:40:23.364800Z",
          "shell.execute_reply": "2023-08-17T06:40:23.363625Z"
        },
        "papermill": {
          "duration": 0.057313,
          "end_time": "2023-08-17T06:40:23.367221",
          "exception": false,
          "start_time": "2023-08-17T06:40:23.309908",
          "status": "completed"
        },
        "tags": [],
        "id": "31ef8a55",
        "outputId": "5a9279e0-62fe-4aa2-da89-5f4504de95a4"
      },
      "outputs": [
        {
          "data": {
            "text/plain": [
              "array(['N', 'Y'], dtype=object)"
            ]
          },
          "execution_count": 23,
          "metadata": {},
          "output_type": "execute_result"
        }
      ],
      "source": [
        "df_labeled[\"FLAG_OWN_REALTY\"].unique()"
      ]
    },
    {
      "cell_type": "code",
      "execution_count": null,
      "id": "a7ecd353",
      "metadata": {
        "execution": {
          "iopub.execute_input": "2023-08-17T06:40:23.465262Z",
          "iopub.status.busy": "2023-08-17T06:40:23.464820Z",
          "iopub.status.idle": "2023-08-17T06:40:23.472200Z",
          "shell.execute_reply": "2023-08-17T06:40:23.471275Z"
        },
        "papermill": {
          "duration": 0.057932,
          "end_time": "2023-08-17T06:40:23.474329",
          "exception": false,
          "start_time": "2023-08-17T06:40:23.416397",
          "status": "completed"
        },
        "tags": [],
        "id": "a7ecd353",
        "outputId": "7149164d-ee3e-4b6b-ba84-e2a9f7442094"
      },
      "outputs": [
        {
          "data": {
            "text/plain": [
              "array(['Working', 'Pensioner', 'State servant', 'Commercial associate',\n",
              "       'Student'], dtype=object)"
            ]
          },
          "execution_count": 24,
          "metadata": {},
          "output_type": "execute_result"
        }
      ],
      "source": [
        "df_labeled[\"NAME_INCOME_TYPE\"].unique()"
      ]
    },
    {
      "cell_type": "code",
      "execution_count": null,
      "id": "443d3510",
      "metadata": {
        "execution": {
          "iopub.execute_input": "2023-08-17T06:40:23.571762Z",
          "iopub.status.busy": "2023-08-17T06:40:23.570634Z",
          "iopub.status.idle": "2023-08-17T06:40:23.579394Z",
          "shell.execute_reply": "2023-08-17T06:40:23.578221Z"
        },
        "papermill": {
          "duration": 0.060506,
          "end_time": "2023-08-17T06:40:23.581808",
          "exception": false,
          "start_time": "2023-08-17T06:40:23.521302",
          "status": "completed"
        },
        "tags": [],
        "id": "443d3510",
        "outputId": "bd6066fb-03f2-410c-94ea-fd953afd3e38"
      },
      "outputs": [
        {
          "data": {
            "text/plain": [
              "array(['Civil marriage', 'Married', 'Single / not married', 'Widow',\n",
              "       'Separated'], dtype=object)"
            ]
          },
          "execution_count": 25,
          "metadata": {},
          "output_type": "execute_result"
        }
      ],
      "source": [
        "df_labeled[\"NAME_FAMILY_STATUS\"].unique()"
      ]
    },
    {
      "cell_type": "code",
      "execution_count": null,
      "id": "c667b163",
      "metadata": {
        "execution": {
          "iopub.execute_input": "2023-08-17T06:40:23.682456Z",
          "iopub.status.busy": "2023-08-17T06:40:23.682043Z",
          "iopub.status.idle": "2023-08-17T06:40:23.690485Z",
          "shell.execute_reply": "2023-08-17T06:40:23.689616Z"
        },
        "papermill": {
          "duration": 0.062762,
          "end_time": "2023-08-17T06:40:23.692925",
          "exception": false,
          "start_time": "2023-08-17T06:40:23.630163",
          "status": "completed"
        },
        "tags": [],
        "id": "c667b163",
        "outputId": "91cbccf8-2ecf-434e-8341-5f3258fc9b57"
      },
      "outputs": [
        {
          "data": {
            "text/plain": [
              "array(['House / apartment', 'Office apartment', 'With parents',\n",
              "       'Municipal apartment', 'Co-op apartment', 'Rented apartment'],\n",
              "      dtype=object)"
            ]
          },
          "execution_count": 26,
          "metadata": {},
          "output_type": "execute_result"
        }
      ],
      "source": [
        "df_labeled[\"NAME_HOUSING_TYPE\"].unique()"
      ]
    },
    {
      "cell_type": "code",
      "execution_count": null,
      "id": "8d4c113f",
      "metadata": {
        "execution": {
          "iopub.execute_input": "2023-08-17T06:40:23.789118Z",
          "iopub.status.busy": "2023-08-17T06:40:23.787926Z",
          "iopub.status.idle": "2023-08-17T06:40:23.796991Z",
          "shell.execute_reply": "2023-08-17T06:40:23.795664Z"
        },
        "papermill": {
          "duration": 0.060486,
          "end_time": "2023-08-17T06:40:23.800062",
          "exception": false,
          "start_time": "2023-08-17T06:40:23.739576",
          "status": "completed"
        },
        "tags": [],
        "id": "8d4c113f",
        "outputId": "b16f9247-0a46-4afb-b930-2a74751910b2"
      },
      "outputs": [
        {
          "data": {
            "text/plain": [
              "array(['Managers', 'Pensioner', 'Core staff', 'Accountants',\n",
              "       'Sales staff', 'Cleaning staff', 'Medicine staff', 'Laborers',\n",
              "       'Security staff', 'High skill tech staff', 'Cooking staff',\n",
              "       'Private service staff', 'Waiters/barmen staff', 'Secretaries',\n",
              "       'HR staff', 'Low-skill Laborers', 'Drivers', 'IT staff',\n",
              "       'Realty agents'], dtype=object)"
            ]
          },
          "execution_count": 27,
          "metadata": {},
          "output_type": "execute_result"
        }
      ],
      "source": [
        "df_labeled[\"OCCUPATION_TYPE\"].unique()"
      ]
    },
    {
      "cell_type": "markdown",
      "id": "1d13c198",
      "metadata": {
        "papermill": {
          "duration": 0.046309,
          "end_time": "2023-08-17T06:40:23.895516",
          "exception": false,
          "start_time": "2023-08-17T06:40:23.849207",
          "status": "completed"
        },
        "tags": [],
        "id": "1d13c198"
      },
      "source": [
        "All of the categorical data look good. There is no mis-spelling and repeated type."
      ]
    },
    {
      "cell_type": "markdown",
      "id": "4092d770",
      "metadata": {
        "papermill": {
          "duration": 0.046845,
          "end_time": "2023-08-17T06:40:23.990577",
          "exception": false,
          "start_time": "2023-08-17T06:40:23.943732",
          "status": "completed"
        },
        "tags": [],
        "id": "4092d770"
      },
      "source": [
        "### Remove sensitive data\n",
        "\n",
        "Here we remove gender out of considering data as it is a sensitive judement."
      ]
    },
    {
      "cell_type": "code",
      "execution_count": null,
      "id": "ffecf5ee",
      "metadata": {
        "execution": {
          "iopub.execute_input": "2023-08-17T06:40:24.087027Z",
          "iopub.status.busy": "2023-08-17T06:40:24.086164Z",
          "iopub.status.idle": "2023-08-17T06:40:24.093181Z",
          "shell.execute_reply": "2023-08-17T06:40:24.092083Z"
        },
        "papermill": {
          "duration": 0.058005,
          "end_time": "2023-08-17T06:40:24.095756",
          "exception": false,
          "start_time": "2023-08-17T06:40:24.037751",
          "status": "completed"
        },
        "tags": [],
        "id": "ffecf5ee"
      },
      "outputs": [],
      "source": [
        "# drop gender\n",
        "df_labeled = df_labeled.drop(\"CODE_GENDER\", axis=1)"
      ]
    },
    {
      "cell_type": "code",
      "execution_count": null,
      "id": "0d81395d",
      "metadata": {
        "execution": {
          "iopub.execute_input": "2023-08-17T06:40:24.191739Z",
          "iopub.status.busy": "2023-08-17T06:40:24.190965Z",
          "iopub.status.idle": "2023-08-17T06:40:24.212499Z",
          "shell.execute_reply": "2023-08-17T06:40:24.211283Z"
        },
        "papermill": {
          "duration": 0.072613,
          "end_time": "2023-08-17T06:40:24.215065",
          "exception": false,
          "start_time": "2023-08-17T06:40:24.142452",
          "status": "completed"
        },
        "tags": [],
        "id": "0d81395d",
        "outputId": "98dba8f5-4a5a-4652-c260-fec965e3c23a"
      },
      "outputs": [
        {
          "data": {
            "text/html": [
              "<div>\n",
              "<style scoped>\n",
              "    .dataframe tbody tr th:only-of-type {\n",
              "        vertical-align: middle;\n",
              "    }\n",
              "\n",
              "    .dataframe tbody tr th {\n",
              "        vertical-align: top;\n",
              "    }\n",
              "\n",
              "    .dataframe thead th {\n",
              "        text-align: right;\n",
              "    }\n",
              "</style>\n",
              "<table border=\"1\" class=\"dataframe\">\n",
              "  <thead>\n",
              "    <tr style=\"text-align: right;\">\n",
              "      <th></th>\n",
              "      <th>ID_same_customer</th>\n",
              "      <th>FLAG_OWN_CAR</th>\n",
              "      <th>FLAG_OWN_REALTY</th>\n",
              "      <th>CNT_CHILDREN</th>\n",
              "      <th>AMT_INCOME_TOTAL</th>\n",
              "      <th>NAME_INCOME_TYPE</th>\n",
              "      <th>NAME_EDUCATION_TYPE</th>\n",
              "      <th>NAME_FAMILY_STATUS</th>\n",
              "      <th>NAME_HOUSING_TYPE</th>\n",
              "      <th>DAYS_BIRTH</th>\n",
              "      <th>DAYS_EMPLOYED</th>\n",
              "      <th>FLAG_MOBIL</th>\n",
              "      <th>FLAG_WORK_PHONE</th>\n",
              "      <th>FLAG_PHONE</th>\n",
              "      <th>FLAG_EMAIL</th>\n",
              "      <th>OCCUPATION_TYPE</th>\n",
              "      <th>CNT_FAM_MEMBERS</th>\n",
              "      <th>Bad_Customer</th>\n",
              "    </tr>\n",
              "  </thead>\n",
              "  <tbody>\n",
              "    <tr>\n",
              "      <th>0</th>\n",
              "      <td>0</td>\n",
              "      <td>N</td>\n",
              "      <td>N</td>\n",
              "      <td>0</td>\n",
              "      <td>27000.0</td>\n",
              "      <td>Working</td>\n",
              "      <td>Higher education</td>\n",
              "      <td>Civil marriage</td>\n",
              "      <td>House / apartment</td>\n",
              "      <td>-14869</td>\n",
              "      <td>-5067</td>\n",
              "      <td>1</td>\n",
              "      <td>1</td>\n",
              "      <td>0</td>\n",
              "      <td>0</td>\n",
              "      <td>Managers</td>\n",
              "      <td>2.0</td>\n",
              "      <td>0</td>\n",
              "    </tr>\n",
              "    <tr>\n",
              "      <th>1</th>\n",
              "      <td>1</td>\n",
              "      <td>N</td>\n",
              "      <td>N</td>\n",
              "      <td>0</td>\n",
              "      <td>33300.0</td>\n",
              "      <td>Pensioner</td>\n",
              "      <td>Secondary / secondary special</td>\n",
              "      <td>Married</td>\n",
              "      <td>Office apartment</td>\n",
              "      <td>-19605</td>\n",
              "      <td>365243</td>\n",
              "      <td>1</td>\n",
              "      <td>0</td>\n",
              "      <td>0</td>\n",
              "      <td>0</td>\n",
              "      <td>Pensioner</td>\n",
              "      <td>2.0</td>\n",
              "      <td>0</td>\n",
              "    </tr>\n",
              "    <tr>\n",
              "      <th>2</th>\n",
              "      <td>2</td>\n",
              "      <td>N</td>\n",
              "      <td>N</td>\n",
              "      <td>0</td>\n",
              "      <td>36000.0</td>\n",
              "      <td>Working</td>\n",
              "      <td>Secondary / secondary special</td>\n",
              "      <td>Married</td>\n",
              "      <td>With parents</td>\n",
              "      <td>-14500</td>\n",
              "      <td>-459</td>\n",
              "      <td>1</td>\n",
              "      <td>1</td>\n",
              "      <td>0</td>\n",
              "      <td>0</td>\n",
              "      <td>Core staff</td>\n",
              "      <td>2.0</td>\n",
              "      <td>0</td>\n",
              "    </tr>\n",
              "    <tr>\n",
              "      <th>3</th>\n",
              "      <td>3</td>\n",
              "      <td>N</td>\n",
              "      <td>N</td>\n",
              "      <td>0</td>\n",
              "      <td>36900.0</td>\n",
              "      <td>Pensioner</td>\n",
              "      <td>Higher education</td>\n",
              "      <td>Married</td>\n",
              "      <td>House / apartment</td>\n",
              "      <td>-22581</td>\n",
              "      <td>365243</td>\n",
              "      <td>1</td>\n",
              "      <td>0</td>\n",
              "      <td>0</td>\n",
              "      <td>0</td>\n",
              "      <td>Pensioner</td>\n",
              "      <td>2.0</td>\n",
              "      <td>0</td>\n",
              "    </tr>\n",
              "    <tr>\n",
              "      <th>4</th>\n",
              "      <td>4</td>\n",
              "      <td>N</td>\n",
              "      <td>N</td>\n",
              "      <td>0</td>\n",
              "      <td>40500.0</td>\n",
              "      <td>Pensioner</td>\n",
              "      <td>Secondary / secondary special</td>\n",
              "      <td>Single / not married</td>\n",
              "      <td>House / apartment</td>\n",
              "      <td>-21091</td>\n",
              "      <td>365243</td>\n",
              "      <td>1</td>\n",
              "      <td>0</td>\n",
              "      <td>0</td>\n",
              "      <td>0</td>\n",
              "      <td>Pensioner</td>\n",
              "      <td>1.0</td>\n",
              "      <td>0</td>\n",
              "    </tr>\n",
              "  </tbody>\n",
              "</table>\n",
              "</div>"
            ],
            "text/plain": [
              "   ID_same_customer FLAG_OWN_CAR FLAG_OWN_REALTY  CNT_CHILDREN  \\\n",
              "0                 0            N               N             0   \n",
              "1                 1            N               N             0   \n",
              "2                 2            N               N             0   \n",
              "3                 3            N               N             0   \n",
              "4                 4            N               N             0   \n",
              "\n",
              "   AMT_INCOME_TOTAL NAME_INCOME_TYPE            NAME_EDUCATION_TYPE  \\\n",
              "0           27000.0          Working               Higher education   \n",
              "1           33300.0        Pensioner  Secondary / secondary special   \n",
              "2           36000.0          Working  Secondary / secondary special   \n",
              "3           36900.0        Pensioner               Higher education   \n",
              "4           40500.0        Pensioner  Secondary / secondary special   \n",
              "\n",
              "     NAME_FAMILY_STATUS  NAME_HOUSING_TYPE  DAYS_BIRTH  DAYS_EMPLOYED  \\\n",
              "0        Civil marriage  House / apartment      -14869          -5067   \n",
              "1               Married   Office apartment      -19605         365243   \n",
              "2               Married       With parents      -14500           -459   \n",
              "3               Married  House / apartment      -22581         365243   \n",
              "4  Single / not married  House / apartment      -21091         365243   \n",
              "\n",
              "   FLAG_MOBIL  FLAG_WORK_PHONE  FLAG_PHONE  FLAG_EMAIL OCCUPATION_TYPE  \\\n",
              "0           1                1           0           0        Managers   \n",
              "1           1                0           0           0       Pensioner   \n",
              "2           1                1           0           0      Core staff   \n",
              "3           1                0           0           0       Pensioner   \n",
              "4           1                0           0           0       Pensioner   \n",
              "\n",
              "   CNT_FAM_MEMBERS  Bad_Customer  \n",
              "0              2.0             0  \n",
              "1              2.0             0  \n",
              "2              2.0             0  \n",
              "3              2.0             0  \n",
              "4              1.0             0  "
            ]
          },
          "execution_count": 29,
          "metadata": {},
          "output_type": "execute_result"
        }
      ],
      "source": [
        "df_labeled.head()"
      ]
    },
    {
      "cell_type": "markdown",
      "id": "82dc96c5",
      "metadata": {
        "papermill": {
          "duration": 0.049304,
          "end_time": "2023-08-17T06:40:24.311957",
          "exception": false,
          "start_time": "2023-08-17T06:40:24.262653",
          "status": "completed"
        },
        "tags": [],
        "id": "82dc96c5"
      },
      "source": [
        "</br>\n",
        "</br>\n",
        "\n",
        "\n",
        "\n",
        "\n",
        "## Exploratory data analysis (EDA) and Features engineering  ==========="
      ]
    },
    {
      "cell_type": "code",
      "execution_count": null,
      "id": "e4ea17d2",
      "metadata": {
        "execution": {
          "iopub.execute_input": "2023-08-17T06:40:24.408550Z",
          "iopub.status.busy": "2023-08-17T06:40:24.407835Z",
          "iopub.status.idle": "2023-08-17T06:40:24.415933Z",
          "shell.execute_reply": "2023-08-17T06:40:24.415042Z"
        },
        "papermill": {
          "duration": 0.059425,
          "end_time": "2023-08-17T06:40:24.418346",
          "exception": false,
          "start_time": "2023-08-17T06:40:24.358921",
          "status": "completed"
        },
        "tags": [],
        "id": "e4ea17d2"
      },
      "outputs": [],
      "source": [
        "# define WOE (weight of evidence) fuction for later uses\n",
        "def WOE_cal(df,col_name):\n",
        "    WOE = pd.DataFrame()\n",
        "    total_bad = df[\"Bad_Customer\"].sum()\n",
        "    total_good = df.shape[0]-total_bad\n",
        "    WOE[\"Dist_bad\"]  = (df_labeled.groupby(col_name)[\"Bad_Customer\"].sum())/total_bad\n",
        "    WOE[\"Dist_good\"] = (df_labeled.groupby(col_name)[\"Bad_Customer\"].count()-df_labeled.groupby(col_name)[\"Bad_Customer\"].sum())/total_good\n",
        "    WOE[\"WOE\"] = (np.log((WOE[\"Dist_good\"]/WOE[\"Dist_bad\"])))\n",
        "    IV = (WOE[\"WOE\"]*(WOE[\"Dist_good\"]-WOE[\"Dist_bad\"])).sum() # information value\n",
        "    return [WOE, IV]"
      ]
    },
    {
      "cell_type": "markdown",
      "id": "7585bb18",
      "metadata": {
        "papermill": {
          "duration": 0.047195,
          "end_time": "2023-08-17T06:40:24.513203",
          "exception": false,
          "start_time": "2023-08-17T06:40:24.466008",
          "status": "completed"
        },
        "tags": [],
        "id": "7585bb18"
      },
      "source": [
        "### Set DAYS_BIRTH, DAYS_EMPLOTED to a more appropriate format"
      ]
    },
    {
      "cell_type": "markdown",
      "id": "e9207175",
      "metadata": {
        "papermill": {
          "duration": 0.047925,
          "end_time": "2023-08-17T06:40:24.609750",
          "exception": false,
          "start_time": "2023-08-17T06:40:24.561825",
          "status": "completed"
        },
        "tags": [],
        "id": "e9207175"
      },
      "source": [
        "Both parameter are recorded as amount of date back in time. For example, DAYS_BIRTH equaling -750000 means 20 years old."
      ]
    },
    {
      "cell_type": "code",
      "execution_count": null,
      "id": "a320cdc6",
      "metadata": {
        "execution": {
          "iopub.execute_input": "2023-08-17T06:40:24.706731Z",
          "iopub.status.busy": "2023-08-17T06:40:24.706042Z",
          "iopub.status.idle": "2023-08-17T06:40:24.717395Z",
          "shell.execute_reply": "2023-08-17T06:40:24.716432Z"
        },
        "papermill": {
          "duration": 0.062356,
          "end_time": "2023-08-17T06:40:24.719852",
          "exception": false,
          "start_time": "2023-08-17T06:40:24.657496",
          "status": "completed"
        },
        "tags": [],
        "id": "a320cdc6"
      },
      "outputs": [],
      "source": [
        "# Adjust DAYS_BIRTH to AGE in year\n",
        "df_labeled[\"AGE\"] = ((-df_labeled[\"DAYS_BIRTH\"])/365).apply(int)\n",
        "df_labeled = df_labeled.drop([\"DAYS_BIRTH\"],axis=1)"
      ]
    },
    {
      "cell_type": "code",
      "execution_count": null,
      "id": "2f7a2ded",
      "metadata": {
        "execution": {
          "iopub.execute_input": "2023-08-17T06:40:24.816769Z",
          "iopub.status.busy": "2023-08-17T06:40:24.815664Z",
          "iopub.status.idle": "2023-08-17T06:40:24.825940Z",
          "shell.execute_reply": "2023-08-17T06:40:24.824639Z"
        },
        "papermill": {
          "duration": 0.061493,
          "end_time": "2023-08-17T06:40:24.828312",
          "exception": false,
          "start_time": "2023-08-17T06:40:24.766819",
          "status": "completed"
        },
        "tags": [],
        "id": "2f7a2ded"
      },
      "outputs": [],
      "source": [
        "# Adjust DAYS_EMPLOYED to YEAR_EMPLOYED in year\n",
        "df_labeled[\"YEAR_EMPLOYED\"] = np.ceil(-(df_labeled[\"DAYS_EMPLOYED\"]/365))\n",
        "df_labeled = df_labeled.drop([\"DAYS_EMPLOYED\"],axis=1)"
      ]
    },
    {
      "cell_type": "code",
      "execution_count": null,
      "id": "f75381ff",
      "metadata": {
        "execution": {
          "iopub.execute_input": "2023-08-17T06:40:24.925022Z",
          "iopub.status.busy": "2023-08-17T06:40:24.924573Z",
          "iopub.status.idle": "2023-08-17T06:40:24.932919Z",
          "shell.execute_reply": "2023-08-17T06:40:24.931912Z"
        },
        "papermill": {
          "duration": 0.059659,
          "end_time": "2023-08-17T06:40:24.935481",
          "exception": false,
          "start_time": "2023-08-17T06:40:24.875822",
          "status": "completed"
        },
        "tags": [],
        "id": "f75381ff"
      },
      "outputs": [],
      "source": [
        "df_labeled = df_labeled.reset_index(drop=True)\n",
        "df_labeled = df_labeled.drop([\"ID_same_customer\"],axis=1)"
      ]
    },
    {
      "cell_type": "code",
      "execution_count": null,
      "id": "c53a5ca8",
      "metadata": {
        "execution": {
          "iopub.execute_input": "2023-08-17T06:40:25.033702Z",
          "iopub.status.busy": "2023-08-17T06:40:25.033307Z",
          "iopub.status.idle": "2023-08-17T06:40:25.054340Z",
          "shell.execute_reply": "2023-08-17T06:40:25.053478Z"
        },
        "papermill": {
          "duration": 0.072004,
          "end_time": "2023-08-17T06:40:25.056544",
          "exception": false,
          "start_time": "2023-08-17T06:40:24.984540",
          "status": "completed"
        },
        "tags": [],
        "id": "c53a5ca8",
        "outputId": "446b3988-37d4-4b6a-ab5b-82e0049ef737"
      },
      "outputs": [
        {
          "data": {
            "text/html": [
              "<div>\n",
              "<style scoped>\n",
              "    .dataframe tbody tr th:only-of-type {\n",
              "        vertical-align: middle;\n",
              "    }\n",
              "\n",
              "    .dataframe tbody tr th {\n",
              "        vertical-align: top;\n",
              "    }\n",
              "\n",
              "    .dataframe thead th {\n",
              "        text-align: right;\n",
              "    }\n",
              "</style>\n",
              "<table border=\"1\" class=\"dataframe\">\n",
              "  <thead>\n",
              "    <tr style=\"text-align: right;\">\n",
              "      <th></th>\n",
              "      <th>FLAG_OWN_CAR</th>\n",
              "      <th>FLAG_OWN_REALTY</th>\n",
              "      <th>CNT_CHILDREN</th>\n",
              "      <th>AMT_INCOME_TOTAL</th>\n",
              "      <th>NAME_INCOME_TYPE</th>\n",
              "      <th>NAME_EDUCATION_TYPE</th>\n",
              "      <th>NAME_FAMILY_STATUS</th>\n",
              "      <th>NAME_HOUSING_TYPE</th>\n",
              "      <th>FLAG_MOBIL</th>\n",
              "      <th>FLAG_WORK_PHONE</th>\n",
              "      <th>FLAG_PHONE</th>\n",
              "      <th>FLAG_EMAIL</th>\n",
              "      <th>OCCUPATION_TYPE</th>\n",
              "      <th>CNT_FAM_MEMBERS</th>\n",
              "      <th>Bad_Customer</th>\n",
              "      <th>AGE</th>\n",
              "      <th>YEAR_EMPLOYED</th>\n",
              "    </tr>\n",
              "  </thead>\n",
              "  <tbody>\n",
              "    <tr>\n",
              "      <th>0</th>\n",
              "      <td>N</td>\n",
              "      <td>N</td>\n",
              "      <td>0</td>\n",
              "      <td>27000.0</td>\n",
              "      <td>Working</td>\n",
              "      <td>Higher education</td>\n",
              "      <td>Civil marriage</td>\n",
              "      <td>House / apartment</td>\n",
              "      <td>1</td>\n",
              "      <td>1</td>\n",
              "      <td>0</td>\n",
              "      <td>0</td>\n",
              "      <td>Managers</td>\n",
              "      <td>2.0</td>\n",
              "      <td>0</td>\n",
              "      <td>40</td>\n",
              "      <td>14.0</td>\n",
              "    </tr>\n",
              "    <tr>\n",
              "      <th>1</th>\n",
              "      <td>N</td>\n",
              "      <td>N</td>\n",
              "      <td>0</td>\n",
              "      <td>33300.0</td>\n",
              "      <td>Pensioner</td>\n",
              "      <td>Secondary / secondary special</td>\n",
              "      <td>Married</td>\n",
              "      <td>Office apartment</td>\n",
              "      <td>1</td>\n",
              "      <td>0</td>\n",
              "      <td>0</td>\n",
              "      <td>0</td>\n",
              "      <td>Pensioner</td>\n",
              "      <td>2.0</td>\n",
              "      <td>0</td>\n",
              "      <td>53</td>\n",
              "      <td>-1000.0</td>\n",
              "    </tr>\n",
              "    <tr>\n",
              "      <th>2</th>\n",
              "      <td>N</td>\n",
              "      <td>N</td>\n",
              "      <td>0</td>\n",
              "      <td>36000.0</td>\n",
              "      <td>Working</td>\n",
              "      <td>Secondary / secondary special</td>\n",
              "      <td>Married</td>\n",
              "      <td>With parents</td>\n",
              "      <td>1</td>\n",
              "      <td>1</td>\n",
              "      <td>0</td>\n",
              "      <td>0</td>\n",
              "      <td>Core staff</td>\n",
              "      <td>2.0</td>\n",
              "      <td>0</td>\n",
              "      <td>39</td>\n",
              "      <td>2.0</td>\n",
              "    </tr>\n",
              "    <tr>\n",
              "      <th>3</th>\n",
              "      <td>N</td>\n",
              "      <td>N</td>\n",
              "      <td>0</td>\n",
              "      <td>36900.0</td>\n",
              "      <td>Pensioner</td>\n",
              "      <td>Higher education</td>\n",
              "      <td>Married</td>\n",
              "      <td>House / apartment</td>\n",
              "      <td>1</td>\n",
              "      <td>0</td>\n",
              "      <td>0</td>\n",
              "      <td>0</td>\n",
              "      <td>Pensioner</td>\n",
              "      <td>2.0</td>\n",
              "      <td>0</td>\n",
              "      <td>61</td>\n",
              "      <td>-1000.0</td>\n",
              "    </tr>\n",
              "    <tr>\n",
              "      <th>4</th>\n",
              "      <td>N</td>\n",
              "      <td>N</td>\n",
              "      <td>0</td>\n",
              "      <td>40500.0</td>\n",
              "      <td>Pensioner</td>\n",
              "      <td>Secondary / secondary special</td>\n",
              "      <td>Single / not married</td>\n",
              "      <td>House / apartment</td>\n",
              "      <td>1</td>\n",
              "      <td>0</td>\n",
              "      <td>0</td>\n",
              "      <td>0</td>\n",
              "      <td>Pensioner</td>\n",
              "      <td>1.0</td>\n",
              "      <td>0</td>\n",
              "      <td>57</td>\n",
              "      <td>-1000.0</td>\n",
              "    </tr>\n",
              "  </tbody>\n",
              "</table>\n",
              "</div>"
            ],
            "text/plain": [
              "  FLAG_OWN_CAR FLAG_OWN_REALTY  CNT_CHILDREN  AMT_INCOME_TOTAL  \\\n",
              "0            N               N             0           27000.0   \n",
              "1            N               N             0           33300.0   \n",
              "2            N               N             0           36000.0   \n",
              "3            N               N             0           36900.0   \n",
              "4            N               N             0           40500.0   \n",
              "\n",
              "  NAME_INCOME_TYPE            NAME_EDUCATION_TYPE    NAME_FAMILY_STATUS  \\\n",
              "0          Working               Higher education        Civil marriage   \n",
              "1        Pensioner  Secondary / secondary special               Married   \n",
              "2          Working  Secondary / secondary special               Married   \n",
              "3        Pensioner               Higher education               Married   \n",
              "4        Pensioner  Secondary / secondary special  Single / not married   \n",
              "\n",
              "   NAME_HOUSING_TYPE  FLAG_MOBIL  FLAG_WORK_PHONE  FLAG_PHONE  FLAG_EMAIL  \\\n",
              "0  House / apartment           1                1           0           0   \n",
              "1   Office apartment           1                0           0           0   \n",
              "2       With parents           1                1           0           0   \n",
              "3  House / apartment           1                0           0           0   \n",
              "4  House / apartment           1                0           0           0   \n",
              "\n",
              "  OCCUPATION_TYPE  CNT_FAM_MEMBERS  Bad_Customer  AGE  YEAR_EMPLOYED  \n",
              "0        Managers              2.0             0   40           14.0  \n",
              "1       Pensioner              2.0             0   53        -1000.0  \n",
              "2      Core staff              2.0             0   39            2.0  \n",
              "3       Pensioner              2.0             0   61        -1000.0  \n",
              "4       Pensioner              1.0             0   57        -1000.0  "
            ]
          },
          "execution_count": 34,
          "metadata": {},
          "output_type": "execute_result"
        }
      ],
      "source": [
        "df_labeled.head()"
      ]
    },
    {
      "cell_type": "markdown",
      "id": "eb155a4b",
      "metadata": {
        "papermill": {
          "duration": 0.047105,
          "end_time": "2023-08-17T06:40:25.152416",
          "exception": false,
          "start_time": "2023-08-17T06:40:25.105311",
          "status": "completed"
        },
        "tags": [],
        "id": "eb155a4b"
      },
      "source": [
        "</br>\n",
        "\n",
        "\n",
        "\n",
        "\n",
        "###  FLAG_MOBIL, FLAG_WORK_PHONE, FLAG_PHONE, and FLAG_EMAIL"
      ]
    },
    {
      "cell_type": "markdown",
      "id": "ef03f372",
      "metadata": {
        "papermill": {
          "duration": 0.04786,
          "end_time": "2023-08-17T06:40:25.248109",
          "exception": false,
          "start_time": "2023-08-17T06:40:25.200249",
          "status": "completed"
        },
        "tags": [],
        "id": "ef03f372"
      },
      "source": [
        "FLAG_MOBIL (Is there a mobile phone) is 1 for all row, which is not a beneficial data.\n"
      ]
    },
    {
      "cell_type": "code",
      "execution_count": null,
      "id": "777a1360",
      "metadata": {
        "execution": {
          "iopub.execute_input": "2023-08-17T06:40:25.346395Z",
          "iopub.status.busy": "2023-08-17T06:40:25.345249Z",
          "iopub.status.idle": "2023-08-17T06:40:25.355426Z",
          "shell.execute_reply": "2023-08-17T06:40:25.354497Z"
        },
        "papermill": {
          "duration": 0.061766,
          "end_time": "2023-08-17T06:40:25.357790",
          "exception": false,
          "start_time": "2023-08-17T06:40:25.296024",
          "status": "completed"
        },
        "tags": [],
        "id": "777a1360",
        "outputId": "a740b384-6425-46f3-f501-9cfab0deae76"
      },
      "outputs": [
        {
          "data": {
            "text/plain": [
              "1    4284\n",
              "Name: FLAG_MOBIL, dtype: int64"
            ]
          },
          "execution_count": 35,
          "metadata": {},
          "output_type": "execute_result"
        }
      ],
      "source": [
        "# Show that FLAG_MOBIL only contain value 1\n",
        "df_labeled[\"FLAG_MOBIL\"].value_counts()"
      ]
    },
    {
      "cell_type": "code",
      "execution_count": null,
      "id": "2aa41aa5",
      "metadata": {
        "execution": {
          "iopub.execute_input": "2023-08-17T06:40:25.456091Z",
          "iopub.status.busy": "2023-08-17T06:40:25.455356Z",
          "iopub.status.idle": "2023-08-17T06:40:25.461698Z",
          "shell.execute_reply": "2023-08-17T06:40:25.460410Z"
        },
        "papermill": {
          "duration": 0.058427,
          "end_time": "2023-08-17T06:40:25.464450",
          "exception": false,
          "start_time": "2023-08-17T06:40:25.406023",
          "status": "completed"
        },
        "tags": [],
        "id": "2aa41aa5"
      },
      "outputs": [],
      "source": [
        "# Drop FLAG_MOBIL\n",
        "df_labeled = df_labeled.drop('FLAG_MOBIL',axis=1)"
      ]
    },
    {
      "cell_type": "markdown",
      "id": "92664936",
      "metadata": {
        "papermill": {
          "duration": 0.048036,
          "end_time": "2023-08-17T06:40:25.561115",
          "exception": false,
          "start_time": "2023-08-17T06:40:25.513079",
          "status": "completed"
        },
        "tags": [],
        "id": "92664936"
      },
      "source": [
        "</br>\n",
        "\n",
        "Check WOE(weight of evidence), and IV (information value) of the rest."
      ]
    },
    {
      "cell_type": "markdown",
      "id": "c3f1d1c9",
      "metadata": {
        "papermill": {
          "duration": 0.047924,
          "end_time": "2023-08-17T06:40:25.656659",
          "exception": false,
          "start_time": "2023-08-17T06:40:25.608735",
          "status": "completed"
        },
        "tags": [],
        "id": "c3f1d1c9"
      },
      "source": [
        "#### > FLAG_WORK_PHONE"
      ]
    },
    {
      "cell_type": "code",
      "execution_count": null,
      "id": "5d1af0b8",
      "metadata": {
        "execution": {
          "iopub.execute_input": "2023-08-17T06:40:25.754406Z",
          "iopub.status.busy": "2023-08-17T06:40:25.753836Z",
          "iopub.status.idle": "2023-08-17T06:40:25.776014Z",
          "shell.execute_reply": "2023-08-17T06:40:25.774863Z"
        },
        "papermill": {
          "duration": 0.07404,
          "end_time": "2023-08-17T06:40:25.778489",
          "exception": false,
          "start_time": "2023-08-17T06:40:25.704449",
          "status": "completed"
        },
        "tags": [],
        "id": "5d1af0b8",
        "outputId": "fde7fec6-e5b4-41e4-e620-4a93866a3913"
      },
      "outputs": [
        {
          "name": "stdout",
          "output_type": "stream",
          "text": [
            "Information value (IV): 0.005711083265458758\n"
          ]
        },
        {
          "data": {
            "text/html": [
              "<div>\n",
              "<style scoped>\n",
              "    .dataframe tbody tr th:only-of-type {\n",
              "        vertical-align: middle;\n",
              "    }\n",
              "\n",
              "    .dataframe tbody tr th {\n",
              "        vertical-align: top;\n",
              "    }\n",
              "\n",
              "    .dataframe thead th {\n",
              "        text-align: right;\n",
              "    }\n",
              "</style>\n",
              "<table border=\"1\" class=\"dataframe\">\n",
              "  <thead>\n",
              "    <tr style=\"text-align: right;\">\n",
              "      <th></th>\n",
              "      <th>Dist_bad</th>\n",
              "      <th>Dist_good</th>\n",
              "      <th>WOE</th>\n",
              "    </tr>\n",
              "    <tr>\n",
              "      <th>FLAG_WORK_PHONE</th>\n",
              "      <th></th>\n",
              "      <th></th>\n",
              "      <th></th>\n",
              "    </tr>\n",
              "  </thead>\n",
              "  <tbody>\n",
              "    <tr>\n",
              "      <th>1</th>\n",
              "      <td>0.247312</td>\n",
              "      <td>0.215462</td>\n",
              "      <td>-0.137867</td>\n",
              "    </tr>\n",
              "    <tr>\n",
              "      <th>0</th>\n",
              "      <td>0.752688</td>\n",
              "      <td>0.784538</td>\n",
              "      <td>0.041444</td>\n",
              "    </tr>\n",
              "  </tbody>\n",
              "</table>\n",
              "</div>"
            ],
            "text/plain": [
              "                 Dist_bad  Dist_good       WOE\n",
              "FLAG_WORK_PHONE                               \n",
              "1                0.247312   0.215462 -0.137867\n",
              "0                0.752688   0.784538  0.041444"
            ]
          },
          "execution_count": 37,
          "metadata": {},
          "output_type": "execute_result"
        }
      ],
      "source": [
        "[WOE, IV] = WOE_cal(df_labeled,\"FLAG_WORK_PHONE\")\n",
        "print(\"Information value (IV):\", IV)\n",
        "WOE.sort_values(\"WOE\")"
      ]
    },
    {
      "cell_type": "markdown",
      "id": "5cc3066c",
      "metadata": {
        "papermill": {
          "duration": 0.048672,
          "end_time": "2023-08-17T06:40:25.876680",
          "exception": false,
          "start_time": "2023-08-17T06:40:25.828008",
          "status": "completed"
        },
        "tags": [],
        "id": "5cc3066c"
      },
      "source": [
        "#### > FLAG_PHONE"
      ]
    },
    {
      "cell_type": "code",
      "execution_count": null,
      "id": "c1939ab5",
      "metadata": {
        "execution": {
          "iopub.execute_input": "2023-08-17T06:40:25.975718Z",
          "iopub.status.busy": "2023-08-17T06:40:25.975312Z",
          "iopub.status.idle": "2023-08-17T06:40:25.995544Z",
          "shell.execute_reply": "2023-08-17T06:40:25.994413Z"
        },
        "papermill": {
          "duration": 0.073212,
          "end_time": "2023-08-17T06:40:25.998014",
          "exception": false,
          "start_time": "2023-08-17T06:40:25.924802",
          "status": "completed"
        },
        "tags": [],
        "id": "c1939ab5",
        "outputId": "5067a0be-b686-4dc9-f422-8a0b283beb7d"
      },
      "outputs": [
        {
          "name": "stdout",
          "output_type": "stream",
          "text": [
            "Information value (IV): 0.020088810078150013\n"
          ]
        },
        {
          "data": {
            "text/html": [
              "<div>\n",
              "<style scoped>\n",
              "    .dataframe tbody tr th:only-of-type {\n",
              "        vertical-align: middle;\n",
              "    }\n",
              "\n",
              "    .dataframe tbody tr th {\n",
              "        vertical-align: top;\n",
              "    }\n",
              "\n",
              "    .dataframe thead th {\n",
              "        text-align: right;\n",
              "    }\n",
              "</style>\n",
              "<table border=\"1\" class=\"dataframe\">\n",
              "  <thead>\n",
              "    <tr style=\"text-align: right;\">\n",
              "      <th></th>\n",
              "      <th>Dist_bad</th>\n",
              "      <th>Dist_good</th>\n",
              "      <th>WOE</th>\n",
              "    </tr>\n",
              "    <tr>\n",
              "      <th>FLAG_PHONE</th>\n",
              "      <th></th>\n",
              "      <th></th>\n",
              "      <th></th>\n",
              "    </tr>\n",
              "  </thead>\n",
              "  <tbody>\n",
              "    <tr>\n",
              "      <th>1</th>\n",
              "      <td>0.354839</td>\n",
              "      <td>0.288714</td>\n",
              "      <td>-0.206227</td>\n",
              "    </tr>\n",
              "    <tr>\n",
              "      <th>0</th>\n",
              "      <td>0.645161</td>\n",
              "      <td>0.711286</td>\n",
              "      <td>0.097574</td>\n",
              "    </tr>\n",
              "  </tbody>\n",
              "</table>\n",
              "</div>"
            ],
            "text/plain": [
              "            Dist_bad  Dist_good       WOE\n",
              "FLAG_PHONE                               \n",
              "1           0.354839   0.288714 -0.206227\n",
              "0           0.645161   0.711286  0.097574"
            ]
          },
          "execution_count": 38,
          "metadata": {},
          "output_type": "execute_result"
        }
      ],
      "source": [
        "[WOE, IV] = WOE_cal(df_labeled,\"FLAG_PHONE\")\n",
        "print(\"Information value (IV):\", IV)\n",
        "WOE.sort_values(\"WOE\")"
      ]
    },
    {
      "cell_type": "markdown",
      "id": "004c8964",
      "metadata": {
        "papermill": {
          "duration": 0.04778,
          "end_time": "2023-08-17T06:40:26.094342",
          "exception": false,
          "start_time": "2023-08-17T06:40:26.046562",
          "status": "completed"
        },
        "tags": [],
        "id": "004c8964"
      },
      "source": [
        "#### > FLAG_EMAIL"
      ]
    },
    {
      "cell_type": "code",
      "execution_count": null,
      "id": "6412ace7",
      "metadata": {
        "execution": {
          "iopub.execute_input": "2023-08-17T06:40:26.194197Z",
          "iopub.status.busy": "2023-08-17T06:40:26.193497Z",
          "iopub.status.idle": "2023-08-17T06:40:26.213538Z",
          "shell.execute_reply": "2023-08-17T06:40:26.212727Z"
        },
        "papermill": {
          "duration": 0.073241,
          "end_time": "2023-08-17T06:40:26.215752",
          "exception": false,
          "start_time": "2023-08-17T06:40:26.142511",
          "status": "completed"
        },
        "tags": [],
        "id": "6412ace7",
        "outputId": "cd07ff89-285c-4638-b5e0-3fa47e8f36e3"
      },
      "outputs": [
        {
          "name": "stdout",
          "output_type": "stream",
          "text": [
            "Information value (IV): 0.015541933951965283\n"
          ]
        },
        {
          "data": {
            "text/html": [
              "<div>\n",
              "<style scoped>\n",
              "    .dataframe tbody tr th:only-of-type {\n",
              "        vertical-align: middle;\n",
              "    }\n",
              "\n",
              "    .dataframe tbody tr th {\n",
              "        vertical-align: top;\n",
              "    }\n",
              "\n",
              "    .dataframe thead th {\n",
              "        text-align: right;\n",
              "    }\n",
              "</style>\n",
              "<table border=\"1\" class=\"dataframe\">\n",
              "  <thead>\n",
              "    <tr style=\"text-align: right;\">\n",
              "      <th></th>\n",
              "      <th>Dist_bad</th>\n",
              "      <th>Dist_good</th>\n",
              "      <th>WOE</th>\n",
              "    </tr>\n",
              "    <tr>\n",
              "      <th>FLAG_EMAIL</th>\n",
              "      <th></th>\n",
              "      <th></th>\n",
              "      <th></th>\n",
              "    </tr>\n",
              "  </thead>\n",
              "  <tbody>\n",
              "    <tr>\n",
              "      <th>1</th>\n",
              "      <td>0.11828</td>\n",
              "      <td>0.081126</td>\n",
              "      <td>-0.377045</td>\n",
              "    </tr>\n",
              "    <tr>\n",
              "      <th>0</th>\n",
              "      <td>0.88172</td>\n",
              "      <td>0.918874</td>\n",
              "      <td>0.041274</td>\n",
              "    </tr>\n",
              "  </tbody>\n",
              "</table>\n",
              "</div>"
            ],
            "text/plain": [
              "            Dist_bad  Dist_good       WOE\n",
              "FLAG_EMAIL                               \n",
              "1            0.11828   0.081126 -0.377045\n",
              "0            0.88172   0.918874  0.041274"
            ]
          },
          "execution_count": 39,
          "metadata": {},
          "output_type": "execute_result"
        }
      ],
      "source": [
        "[WOE, IV] = WOE_cal(df_labeled,\"FLAG_EMAIL\")\n",
        "print(\"Information value (IV):\", IV)\n",
        "WOE.sort_values(\"WOE\")"
      ]
    },
    {
      "cell_type": "markdown",
      "id": "bcd599be",
      "metadata": {
        "papermill": {
          "duration": 0.048784,
          "end_time": "2023-08-17T06:40:26.314562",
          "exception": false,
          "start_time": "2023-08-17T06:40:26.265778",
          "status": "completed"
        },
        "tags": [],
        "id": "bcd599be"
      },
      "source": [
        "The IV lower than 0.02 is normally considered as useless, as FLAG_WORK_PHONE, and FLAG_EMAIL have IV much lower than this criteria, we decided to drop it."
      ]
    },
    {
      "cell_type": "code",
      "execution_count": null,
      "id": "58b803d2",
      "metadata": {
        "execution": {
          "iopub.execute_input": "2023-08-17T06:40:26.414205Z",
          "iopub.status.busy": "2023-08-17T06:40:26.413739Z",
          "iopub.status.idle": "2023-08-17T06:40:26.420681Z",
          "shell.execute_reply": "2023-08-17T06:40:26.419674Z"
        },
        "papermill": {
          "duration": 0.06003,
          "end_time": "2023-08-17T06:40:26.423363",
          "exception": false,
          "start_time": "2023-08-17T06:40:26.363333",
          "status": "completed"
        },
        "tags": [],
        "id": "58b803d2"
      },
      "outputs": [],
      "source": [
        "# Drop old flag\n",
        "df_labeled = df_labeled.drop([\"FLAG_WORK_PHONE\",\"FLAG_EMAIL\",\"FLAG_PHONE\"],axis=1)"
      ]
    },
    {
      "cell_type": "markdown",
      "id": "63b84add",
      "metadata": {
        "papermill": {
          "duration": 0.048396,
          "end_time": "2023-08-17T06:40:26.521231",
          "exception": false,
          "start_time": "2023-08-17T06:40:26.472835",
          "status": "completed"
        },
        "tags": [],
        "id": "63b84add"
      },
      "source": [
        "</br>\n",
        "\n",
        "\n",
        "\n",
        "\n",
        "\n",
        "\n",
        "### FLAG_OWN_CAR"
      ]
    },
    {
      "cell_type": "code",
      "execution_count": null,
      "id": "5a5b5a13",
      "metadata": {
        "execution": {
          "iopub.execute_input": "2023-08-17T06:40:26.620439Z",
          "iopub.status.busy": "2023-08-17T06:40:26.619977Z",
          "iopub.status.idle": "2023-08-17T06:40:26.631475Z",
          "shell.execute_reply": "2023-08-17T06:40:26.630100Z"
        },
        "papermill": {
          "duration": 0.063749,
          "end_time": "2023-08-17T06:40:26.633994",
          "exception": false,
          "start_time": "2023-08-17T06:40:26.570245",
          "status": "completed"
        },
        "tags": [],
        "id": "5a5b5a13",
        "outputId": "239bb8c6-571a-47e4-ea02-fb0f088a03dc"
      },
      "outputs": [
        {
          "data": {
            "text/plain": [
              "N    62.138189\n",
              "Y    37.861811\n",
              "Name: FLAG_OWN_CAR, dtype: float64"
            ]
          },
          "execution_count": 41,
          "metadata": {},
          "output_type": "execute_result"
        }
      ],
      "source": [
        "# Percentage of sample of each income type\n",
        "df_labeled[\"FLAG_OWN_CAR\"].value_counts(normalize=True)*100"
      ]
    },
    {
      "cell_type": "code",
      "execution_count": null,
      "id": "fa998a24",
      "metadata": {
        "execution": {
          "iopub.execute_input": "2023-08-17T06:40:26.735857Z",
          "iopub.status.busy": "2023-08-17T06:40:26.734983Z",
          "iopub.status.idle": "2023-08-17T06:40:26.756130Z",
          "shell.execute_reply": "2023-08-17T06:40:26.754971Z"
        },
        "papermill": {
          "duration": 0.074063,
          "end_time": "2023-08-17T06:40:26.758661",
          "exception": false,
          "start_time": "2023-08-17T06:40:26.684598",
          "status": "completed"
        },
        "tags": [],
        "id": "fa998a24",
        "outputId": "d417da8a-55dc-417a-b538-def32e6ca5dc"
      },
      "outputs": [
        {
          "name": "stdout",
          "output_type": "stream",
          "text": [
            "Information value (IV): 0.0025440155398926954\n"
          ]
        },
        {
          "data": {
            "text/html": [
              "<div>\n",
              "<style scoped>\n",
              "    .dataframe tbody tr th:only-of-type {\n",
              "        vertical-align: middle;\n",
              "    }\n",
              "\n",
              "    .dataframe tbody tr th {\n",
              "        vertical-align: top;\n",
              "    }\n",
              "\n",
              "    .dataframe thead th {\n",
              "        text-align: right;\n",
              "    }\n",
              "</style>\n",
              "<table border=\"1\" class=\"dataframe\">\n",
              "  <thead>\n",
              "    <tr style=\"text-align: right;\">\n",
              "      <th></th>\n",
              "      <th>Dist_bad</th>\n",
              "      <th>Dist_good</th>\n",
              "      <th>WOE</th>\n",
              "    </tr>\n",
              "    <tr>\n",
              "      <th>FLAG_OWN_CAR</th>\n",
              "      <th></th>\n",
              "      <th></th>\n",
              "      <th></th>\n",
              "    </tr>\n",
              "  </thead>\n",
              "  <tbody>\n",
              "    <tr>\n",
              "      <th>N</th>\n",
              "      <td>0.645161</td>\n",
              "      <td>0.620854</td>\n",
              "      <td>-0.038404</td>\n",
              "    </tr>\n",
              "    <tr>\n",
              "      <th>Y</th>\n",
              "      <td>0.354839</td>\n",
              "      <td>0.379146</td>\n",
              "      <td>0.066257</td>\n",
              "    </tr>\n",
              "  </tbody>\n",
              "</table>\n",
              "</div>"
            ],
            "text/plain": [
              "              Dist_bad  Dist_good       WOE\n",
              "FLAG_OWN_CAR                               \n",
              "N             0.645161   0.620854 -0.038404\n",
              "Y             0.354839   0.379146  0.066257"
            ]
          },
          "execution_count": 42,
          "metadata": {},
          "output_type": "execute_result"
        }
      ],
      "source": [
        "[WOE, IV] = WOE_cal(df_labeled,\"FLAG_OWN_CAR\")\n",
        "print(\"Information value (IV):\", IV)\n",
        "WOE.sort_values(\"WOE\")"
      ]
    },
    {
      "cell_type": "code",
      "execution_count": null,
      "id": "4614699b",
      "metadata": {
        "execution": {
          "iopub.execute_input": "2023-08-17T06:40:26.861243Z",
          "iopub.status.busy": "2023-08-17T06:40:26.860807Z",
          "iopub.status.idle": "2023-08-17T06:40:26.868331Z",
          "shell.execute_reply": "2023-08-17T06:40:26.867136Z"
        },
        "papermill": {
          "duration": 0.062756,
          "end_time": "2023-08-17T06:40:26.870789",
          "exception": false,
          "start_time": "2023-08-17T06:40:26.808033",
          "status": "completed"
        },
        "tags": [],
        "id": "4614699b"
      },
      "outputs": [],
      "source": [
        "# Drop FLAG_OWN_CAR as IV is very low\n",
        "df_labeled = df_labeled.drop([\"FLAG_OWN_CAR\"],axis=1)"
      ]
    },
    {
      "cell_type": "markdown",
      "id": "0c4e501a",
      "metadata": {
        "papermill": {
          "duration": 0.049812,
          "end_time": "2023-08-17T06:40:26.970337",
          "exception": false,
          "start_time": "2023-08-17T06:40:26.920525",
          "status": "completed"
        },
        "tags": [],
        "id": "0c4e501a"
      },
      "source": [
        "</br>\n",
        "\n",
        "\n",
        "\n",
        "\n",
        "\n",
        "### FLAG_OWN_REALTY"
      ]
    },
    {
      "cell_type": "code",
      "execution_count": null,
      "id": "6bbf4645",
      "metadata": {
        "execution": {
          "iopub.execute_input": "2023-08-17T06:40:27.072185Z",
          "iopub.status.busy": "2023-08-17T06:40:27.071131Z",
          "iopub.status.idle": "2023-08-17T06:40:27.081936Z",
          "shell.execute_reply": "2023-08-17T06:40:27.080942Z"
        },
        "papermill": {
          "duration": 0.064609,
          "end_time": "2023-08-17T06:40:27.084243",
          "exception": false,
          "start_time": "2023-08-17T06:40:27.019634",
          "status": "completed"
        },
        "tags": [],
        "id": "6bbf4645",
        "outputId": "19c65179-4579-49cb-b506-94cd68a815dd"
      },
      "outputs": [
        {
          "data": {
            "text/plain": [
              "Y    66.643324\n",
              "N    33.356676\n",
              "Name: FLAG_OWN_REALTY, dtype: float64"
            ]
          },
          "execution_count": 44,
          "metadata": {},
          "output_type": "execute_result"
        }
      ],
      "source": [
        "# Percentage of sample of each income type\n",
        "df_labeled[\"FLAG_OWN_REALTY\"].value_counts(normalize=True)*100"
      ]
    },
    {
      "cell_type": "code",
      "execution_count": null,
      "id": "3cfd8acf",
      "metadata": {
        "execution": {
          "iopub.execute_input": "2023-08-17T06:40:27.185555Z",
          "iopub.status.busy": "2023-08-17T06:40:27.184733Z",
          "iopub.status.idle": "2023-08-17T06:40:27.206413Z",
          "shell.execute_reply": "2023-08-17T06:40:27.205247Z"
        },
        "papermill": {
          "duration": 0.075142,
          "end_time": "2023-08-17T06:40:27.208891",
          "exception": false,
          "start_time": "2023-08-17T06:40:27.133749",
          "status": "completed"
        },
        "tags": [],
        "id": "3cfd8acf",
        "outputId": "1c9bd070-e529-44a4-98f6-b56d03e111bc"
      },
      "outputs": [
        {
          "name": "stdout",
          "output_type": "stream",
          "text": [
            "Information value (IV): 0.013018083799736657\n"
          ]
        },
        {
          "data": {
            "text/html": [
              "<div>\n",
              "<style scoped>\n",
              "    .dataframe tbody tr th:only-of-type {\n",
              "        vertical-align: middle;\n",
              "    }\n",
              "\n",
              "    .dataframe tbody tr th {\n",
              "        vertical-align: top;\n",
              "    }\n",
              "\n",
              "    .dataframe thead th {\n",
              "        text-align: right;\n",
              "    }\n",
              "</style>\n",
              "<table border=\"1\" class=\"dataframe\">\n",
              "  <thead>\n",
              "    <tr style=\"text-align: right;\">\n",
              "      <th></th>\n",
              "      <th>Dist_bad</th>\n",
              "      <th>Dist_good</th>\n",
              "      <th>WOE</th>\n",
              "    </tr>\n",
              "    <tr>\n",
              "      <th>FLAG_OWN_REALTY</th>\n",
              "      <th></th>\n",
              "      <th></th>\n",
              "      <th></th>\n",
              "    </tr>\n",
              "  </thead>\n",
              "  <tbody>\n",
              "    <tr>\n",
              "      <th>N</th>\n",
              "      <td>0.387097</td>\n",
              "      <td>0.332379</td>\n",
              "      <td>-0.152399</td>\n",
              "    </tr>\n",
              "    <tr>\n",
              "      <th>Y</th>\n",
              "      <td>0.612903</td>\n",
              "      <td>0.667621</td>\n",
              "      <td>0.085514</td>\n",
              "    </tr>\n",
              "  </tbody>\n",
              "</table>\n",
              "</div>"
            ],
            "text/plain": [
              "                 Dist_bad  Dist_good       WOE\n",
              "FLAG_OWN_REALTY                               \n",
              "N                0.387097   0.332379 -0.152399\n",
              "Y                0.612903   0.667621  0.085514"
            ]
          },
          "execution_count": 45,
          "metadata": {},
          "output_type": "execute_result"
        }
      ],
      "source": [
        "[WOE, IV] = WOE_cal(df_labeled,\"FLAG_OWN_REALTY\")\n",
        "print(\"Information value (IV):\", IV)\n",
        "WOE.sort_values(\"WOE\")"
      ]
    },
    {
      "cell_type": "code",
      "execution_count": null,
      "id": "d343d3cd",
      "metadata": {
        "execution": {
          "iopub.execute_input": "2023-08-17T06:40:27.310766Z",
          "iopub.status.busy": "2023-08-17T06:40:27.310378Z",
          "iopub.status.idle": "2023-08-17T06:40:27.317657Z",
          "shell.execute_reply": "2023-08-17T06:40:27.316455Z"
        },
        "papermill": {
          "duration": 0.061416,
          "end_time": "2023-08-17T06:40:27.320210",
          "exception": false,
          "start_time": "2023-08-17T06:40:27.258794",
          "status": "completed"
        },
        "tags": [],
        "id": "d343d3cd"
      },
      "outputs": [],
      "source": [
        "# Drop FLAG_OWN_CAR as IV is very low\n",
        "df_labeled = df_labeled.drop([\"FLAG_OWN_REALTY\"],axis=1)"
      ]
    },
    {
      "cell_type": "markdown",
      "id": "35a144de",
      "metadata": {
        "papermill": {
          "duration": 0.049395,
          "end_time": "2023-08-17T06:40:27.419117",
          "exception": false,
          "start_time": "2023-08-17T06:40:27.369722",
          "status": "completed"
        },
        "tags": [],
        "id": "35a144de"
      },
      "source": [
        "</br>\n",
        "\n",
        "\n",
        "\n",
        "\n",
        "\n",
        "### NAME_INCOME_TYPE (Type of income)"
      ]
    },
    {
      "cell_type": "code",
      "execution_count": null,
      "id": "920b0ec0",
      "metadata": {
        "execution": {
          "iopub.execute_input": "2023-08-17T06:40:27.588058Z",
          "iopub.status.busy": "2023-08-17T06:40:27.587583Z",
          "iopub.status.idle": "2023-08-17T06:40:27.597605Z",
          "shell.execute_reply": "2023-08-17T06:40:27.596676Z"
        },
        "papermill": {
          "duration": 0.064412,
          "end_time": "2023-08-17T06:40:27.599817",
          "exception": false,
          "start_time": "2023-08-17T06:40:27.535405",
          "status": "completed"
        },
        "tags": [],
        "id": "920b0ec0",
        "outputId": "c5a5fafd-4270-47fa-d79d-3779ecf86f1e"
      },
      "outputs": [
        {
          "data": {
            "text/plain": [
              "Working                 48.646125\n",
              "Commercial associate    22.992530\n",
              "Pensioner               20.728291\n",
              "State servant            7.609711\n",
              "Student                  0.023343\n",
              "Name: NAME_INCOME_TYPE, dtype: float64"
            ]
          },
          "execution_count": 47,
          "metadata": {},
          "output_type": "execute_result"
        }
      ],
      "source": [
        "# Percentage of sample of each income type\n",
        "df_labeled[\"NAME_INCOME_TYPE\"].value_counts(normalize=True)*100"
      ]
    },
    {
      "cell_type": "markdown",
      "id": "fb02c5b4",
      "metadata": {
        "papermill": {
          "duration": 0.050609,
          "end_time": "2023-08-17T06:40:27.702069",
          "exception": false,
          "start_time": "2023-08-17T06:40:27.651460",
          "status": "completed"
        },
        "tags": [],
        "id": "fb02c5b4"
      },
      "source": [
        "Student frequency is too small, and we cannot re-categorize it to other group. We decided to drop it."
      ]
    },
    {
      "cell_type": "code",
      "execution_count": null,
      "id": "0359e2e4",
      "metadata": {
        "execution": {
          "iopub.execute_input": "2023-08-17T06:40:27.804680Z",
          "iopub.status.busy": "2023-08-17T06:40:27.804291Z",
          "iopub.status.idle": "2023-08-17T06:40:27.817467Z",
          "shell.execute_reply": "2023-08-17T06:40:27.816202Z"
        },
        "papermill": {
          "duration": 0.070621,
          "end_time": "2023-08-17T06:40:27.822986",
          "exception": false,
          "start_time": "2023-08-17T06:40:27.752365",
          "status": "completed"
        },
        "tags": [],
        "id": "0359e2e4",
        "outputId": "6c75d7b2-9ed5-4494-b8c4-6003c65da75d"
      },
      "outputs": [
        {
          "data": {
            "text/plain": [
              "Working                 48.657483\n",
              "Commercial associate    22.997899\n",
              "Pensioner               20.733131\n",
              "State servant            7.611487\n",
              "Name: NAME_INCOME_TYPE, dtype: float64"
            ]
          },
          "execution_count": 48,
          "metadata": {},
          "output_type": "execute_result"
        }
      ],
      "source": [
        "df_labeled = df_labeled[df_labeled[\"NAME_INCOME_TYPE\"]!=\"Student\"]\n",
        "df_labeled[\"NAME_INCOME_TYPE\"].value_counts(normalize=True)*100"
      ]
    },
    {
      "cell_type": "code",
      "execution_count": null,
      "id": "9059d615",
      "metadata": {
        "execution": {
          "iopub.execute_input": "2023-08-17T06:40:27.945790Z",
          "iopub.status.busy": "2023-08-17T06:40:27.944491Z",
          "iopub.status.idle": "2023-08-17T06:40:27.967339Z",
          "shell.execute_reply": "2023-08-17T06:40:27.966107Z"
        },
        "papermill": {
          "duration": 0.08478,
          "end_time": "2023-08-17T06:40:27.970144",
          "exception": false,
          "start_time": "2023-08-17T06:40:27.885364",
          "status": "completed"
        },
        "tags": [],
        "id": "9059d615",
        "outputId": "1b2ca67c-7bb8-4118-dd2d-bdfb98b31f69"
      },
      "outputs": [
        {
          "name": "stdout",
          "output_type": "stream",
          "text": [
            "Information value (IV): 0.08690258519566955\n"
          ]
        },
        {
          "data": {
            "text/html": [
              "<div>\n",
              "<style scoped>\n",
              "    .dataframe tbody tr th:only-of-type {\n",
              "        vertical-align: middle;\n",
              "    }\n",
              "\n",
              "    .dataframe tbody tr th {\n",
              "        vertical-align: top;\n",
              "    }\n",
              "\n",
              "    .dataframe thead th {\n",
              "        text-align: right;\n",
              "    }\n",
              "</style>\n",
              "<table border=\"1\" class=\"dataframe\">\n",
              "  <thead>\n",
              "    <tr style=\"text-align: right;\">\n",
              "      <th></th>\n",
              "      <th>Dist_bad</th>\n",
              "      <th>Dist_good</th>\n",
              "      <th>WOE</th>\n",
              "    </tr>\n",
              "    <tr>\n",
              "      <th>NAME_INCOME_TYPE</th>\n",
              "      <th></th>\n",
              "      <th></th>\n",
              "      <th></th>\n",
              "    </tr>\n",
              "  </thead>\n",
              "  <tbody>\n",
              "    <tr>\n",
              "      <th>Commercial associate</th>\n",
              "      <td>0.279570</td>\n",
              "      <td>0.228878</td>\n",
              "      <td>-0.200062</td>\n",
              "    </tr>\n",
              "    <tr>\n",
              "      <th>Pensioner</th>\n",
              "      <td>0.236559</td>\n",
              "      <td>0.206683</td>\n",
              "      <td>-0.135014</td>\n",
              "    </tr>\n",
              "    <tr>\n",
              "      <th>Working</th>\n",
              "      <td>0.462366</td>\n",
              "      <td>0.487112</td>\n",
              "      <td>0.052139</td>\n",
              "    </tr>\n",
              "    <tr>\n",
              "      <th>State servant</th>\n",
              "      <td>0.021505</td>\n",
              "      <td>0.077327</td>\n",
              "      <td>1.279740</td>\n",
              "    </tr>\n",
              "  </tbody>\n",
              "</table>\n",
              "</div>"
            ],
            "text/plain": [
              "                      Dist_bad  Dist_good       WOE\n",
              "NAME_INCOME_TYPE                                   \n",
              "Commercial associate  0.279570   0.228878 -0.200062\n",
              "Pensioner             0.236559   0.206683 -0.135014\n",
              "Working               0.462366   0.487112  0.052139\n",
              "State servant         0.021505   0.077327  1.279740"
            ]
          },
          "execution_count": 49,
          "metadata": {},
          "output_type": "execute_result"
        }
      ],
      "source": [
        "[WOE, IV] = WOE_cal(df_labeled,\"NAME_INCOME_TYPE\")\n",
        "print(\"Information value (IV):\", IV)\n",
        "WOE.sort_values(\"WOE\")"
      ]
    },
    {
      "cell_type": "markdown",
      "id": "1c1bb0ce",
      "metadata": {
        "papermill": {
          "duration": 0.051124,
          "end_time": "2023-08-17T06:40:28.072684",
          "exception": false,
          "start_time": "2023-08-17T06:40:28.021560",
          "status": "completed"
        },
        "tags": [],
        "id": "1c1bb0ce"
      },
      "source": [
        "</br>\n",
        "\n",
        "\n",
        "\n",
        "\n",
        "\n",
        "### NAME_EDUCATION_TYPE (Type of education)"
      ]
    },
    {
      "cell_type": "code",
      "execution_count": null,
      "id": "30658263",
      "metadata": {
        "execution": {
          "iopub.execute_input": "2023-08-17T06:40:28.176961Z",
          "iopub.status.busy": "2023-08-17T06:40:28.176187Z",
          "iopub.status.idle": "2023-08-17T06:40:28.185921Z",
          "shell.execute_reply": "2023-08-17T06:40:28.184685Z"
        },
        "papermill": {
          "duration": 0.064942,
          "end_time": "2023-08-17T06:40:28.188517",
          "exception": false,
          "start_time": "2023-08-17T06:40:28.123575",
          "status": "completed"
        },
        "tags": [],
        "id": "30658263",
        "outputId": "5914d698-3cae-4c50-ea5e-aced4a813f53"
      },
      "outputs": [
        {
          "data": {
            "text/plain": [
              "Secondary / secondary special    70.044361\n",
              "Higher education                 25.449451\n",
              "Incomplete higher                 3.105300\n",
              "Lower secondary                   1.354191\n",
              "Academic degree                   0.046696\n",
              "Name: NAME_EDUCATION_TYPE, dtype: float64"
            ]
          },
          "execution_count": 50,
          "metadata": {},
          "output_type": "execute_result"
        }
      ],
      "source": [
        "# Percentage of sample of each education type\n",
        "df_labeled[\"NAME_EDUCATION_TYPE\"].value_counts(normalize=True)*100"
      ]
    },
    {
      "cell_type": "markdown",
      "id": "64796b2f",
      "metadata": {
        "papermill": {
          "duration": 0.050674,
          "end_time": "2023-08-17T06:40:28.290506",
          "exception": false,
          "start_time": "2023-08-17T06:40:28.239832",
          "status": "completed"
        },
        "tags": [],
        "id": "64796b2f"
      },
      "source": [
        "We decided to combine incomplete higher, and academic degree into Higher education group, and Lower secondary into Secondary / secondary special. For the later case, we also renamed it to be \"Secondary/Lower\"."
      ]
    },
    {
      "cell_type": "code",
      "execution_count": null,
      "id": "115afe92",
      "metadata": {
        "execution": {
          "iopub.execute_input": "2023-08-17T06:40:28.398002Z",
          "iopub.status.busy": "2023-08-17T06:40:28.395515Z",
          "iopub.status.idle": "2023-08-17T06:40:28.411493Z",
          "shell.execute_reply": "2023-08-17T06:40:28.410411Z"
        },
        "papermill": {
          "duration": 0.071917,
          "end_time": "2023-08-17T06:40:28.413867",
          "exception": false,
          "start_time": "2023-08-17T06:40:28.341950",
          "status": "completed"
        },
        "tags": [],
        "id": "115afe92",
        "outputId": "30cfd938-4372-40f0-83b5-dfd9de41afab"
      },
      "outputs": [
        {
          "data": {
            "text/plain": [
              "Secondary/Lower      71.398552\n",
              "Higher education     25.496148\n",
              "Incomplete higher     3.105300\n",
              "Name: NAME_EDUCATION_TYPE, dtype: float64"
            ]
          },
          "execution_count": 51,
          "metadata": {},
          "output_type": "execute_result"
        }
      ],
      "source": [
        "df_labeled[\"NAME_EDUCATION_TYPE\"] = df_labeled[\"NAME_EDUCATION_TYPE\"].replace({\"Academic degree\":\"Higher education\",\"Lower secondary\":\"Secondary/Lower\",\"Secondary / secondary special\":\"Secondary/Lower\"})\n",
        "df_labeled[\"NAME_EDUCATION_TYPE\"].value_counts(normalize=True)*100"
      ]
    },
    {
      "cell_type": "code",
      "execution_count": null,
      "id": "be0261c9",
      "metadata": {
        "execution": {
          "iopub.execute_input": "2023-08-17T06:40:28.517900Z",
          "iopub.status.busy": "2023-08-17T06:40:28.517439Z",
          "iopub.status.idle": "2023-08-17T06:40:28.539092Z",
          "shell.execute_reply": "2023-08-17T06:40:28.537837Z"
        },
        "papermill": {
          "duration": 0.07666,
          "end_time": "2023-08-17T06:40:28.541939",
          "exception": false,
          "start_time": "2023-08-17T06:40:28.465279",
          "status": "completed"
        },
        "tags": [],
        "id": "be0261c9",
        "outputId": "48852ac9-b8cb-4c5b-c0fa-887f73d36f90"
      },
      "outputs": [
        {
          "name": "stdout",
          "output_type": "stream",
          "text": [
            "Information value (IV): 0.005586494848586235\n"
          ]
        },
        {
          "data": {
            "text/html": [
              "<div>\n",
              "<style scoped>\n",
              "    .dataframe tbody tr th:only-of-type {\n",
              "        vertical-align: middle;\n",
              "    }\n",
              "\n",
              "    .dataframe tbody tr th {\n",
              "        vertical-align: top;\n",
              "    }\n",
              "\n",
              "    .dataframe thead th {\n",
              "        text-align: right;\n",
              "    }\n",
              "</style>\n",
              "<table border=\"1\" class=\"dataframe\">\n",
              "  <thead>\n",
              "    <tr style=\"text-align: right;\">\n",
              "      <th></th>\n",
              "      <th>Dist_bad</th>\n",
              "      <th>Dist_good</th>\n",
              "      <th>WOE</th>\n",
              "    </tr>\n",
              "    <tr>\n",
              "      <th>NAME_EDUCATION_TYPE</th>\n",
              "      <th></th>\n",
              "      <th></th>\n",
              "      <th></th>\n",
              "    </tr>\n",
              "  </thead>\n",
              "  <tbody>\n",
              "    <tr>\n",
              "      <th>Incomplete higher</th>\n",
              "      <td>0.043011</td>\n",
              "      <td>0.030788</td>\n",
              "      <td>-0.334338</td>\n",
              "    </tr>\n",
              "    <tr>\n",
              "      <th>Secondary/Lower</th>\n",
              "      <td>0.720430</td>\n",
              "      <td>0.713842</td>\n",
              "      <td>-0.009186</td>\n",
              "    </tr>\n",
              "    <tr>\n",
              "      <th>Higher education</th>\n",
              "      <td>0.236559</td>\n",
              "      <td>0.255370</td>\n",
              "      <td>0.076515</td>\n",
              "    </tr>\n",
              "  </tbody>\n",
              "</table>\n",
              "</div>"
            ],
            "text/plain": [
              "                     Dist_bad  Dist_good       WOE\n",
              "NAME_EDUCATION_TYPE                               \n",
              "Incomplete higher    0.043011   0.030788 -0.334338\n",
              "Secondary/Lower      0.720430   0.713842 -0.009186\n",
              "Higher education     0.236559   0.255370  0.076515"
            ]
          },
          "execution_count": 52,
          "metadata": {},
          "output_type": "execute_result"
        }
      ],
      "source": [
        "[WOE, IV] = WOE_cal(df_labeled,\"NAME_EDUCATION_TYPE\")\n",
        "print(\"Information value (IV):\", IV)\n",
        "WOE.sort_values(\"WOE\")"
      ]
    },
    {
      "cell_type": "markdown",
      "id": "e7621a79",
      "metadata": {
        "papermill": {
          "duration": 0.05095,
          "end_time": "2023-08-17T06:40:28.645206",
          "exception": false,
          "start_time": "2023-08-17T06:40:28.594256",
          "status": "completed"
        },
        "tags": [],
        "id": "e7621a79"
      },
      "source": [
        "The majority is in the Secondary/Lower at 71% and another majority group is Higher education at 25%. The Distribution of good and bad customer is both group are quite the same, which indicating low predicting power. This also confirmed by low IV score at 0.005. We decided to drop this feature."
      ]
    },
    {
      "cell_type": "code",
      "execution_count": null,
      "id": "30ff1edf",
      "metadata": {
        "execution": {
          "iopub.execute_input": "2023-08-17T06:40:28.750038Z",
          "iopub.status.busy": "2023-08-17T06:40:28.749237Z",
          "iopub.status.idle": "2023-08-17T06:40:28.755594Z",
          "shell.execute_reply": "2023-08-17T06:40:28.754658Z"
        },
        "papermill": {
          "duration": 0.061478,
          "end_time": "2023-08-17T06:40:28.757851",
          "exception": false,
          "start_time": "2023-08-17T06:40:28.696373",
          "status": "completed"
        },
        "tags": [],
        "id": "30ff1edf"
      },
      "outputs": [],
      "source": [
        "df_labeled = df_labeled.drop(\"NAME_EDUCATION_TYPE\", axis=1)"
      ]
    },
    {
      "cell_type": "markdown",
      "id": "d559bea4",
      "metadata": {
        "papermill": {
          "duration": 0.05117,
          "end_time": "2023-08-17T06:40:28.860328",
          "exception": false,
          "start_time": "2023-08-17T06:40:28.809158",
          "status": "completed"
        },
        "tags": [],
        "id": "d559bea4"
      },
      "source": [
        "</br>\n",
        "\n",
        "\n",
        "\n",
        "\n",
        "\n",
        "### NAME_FAMILY_STATUS"
      ]
    },
    {
      "cell_type": "code",
      "execution_count": null,
      "id": "415e9a8a",
      "metadata": {
        "execution": {
          "iopub.execute_input": "2023-08-17T06:40:28.964053Z",
          "iopub.status.busy": "2023-08-17T06:40:28.963589Z",
          "iopub.status.idle": "2023-08-17T06:40:28.974514Z",
          "shell.execute_reply": "2023-08-17T06:40:28.973249Z"
        },
        "papermill": {
          "duration": 0.066089,
          "end_time": "2023-08-17T06:40:28.977370",
          "exception": false,
          "start_time": "2023-08-17T06:40:28.911281",
          "status": "completed"
        },
        "tags": [],
        "id": "415e9a8a",
        "outputId": "bb3641d2-ba0c-41bf-aa8f-b95633a585ad"
      },
      "outputs": [
        {
          "data": {
            "text/plain": [
              "Married                 68.876955\n",
              "Single / not married    12.748074\n",
              "Civil marriage           8.311931\n",
              "Separated                5.603549\n",
              "Widow                    4.459491\n",
              "Name: NAME_FAMILY_STATUS, dtype: float64"
            ]
          },
          "execution_count": 54,
          "metadata": {},
          "output_type": "execute_result"
        }
      ],
      "source": [
        "df_labeled[\"NAME_FAMILY_STATUS\"].value_counts(normalize=True)*100"
      ]
    },
    {
      "cell_type": "code",
      "execution_count": null,
      "id": "4e627a99",
      "metadata": {
        "execution": {
          "iopub.execute_input": "2023-08-17T06:40:29.085441Z",
          "iopub.status.busy": "2023-08-17T06:40:29.085043Z",
          "iopub.status.idle": "2023-08-17T06:40:29.106908Z",
          "shell.execute_reply": "2023-08-17T06:40:29.105760Z"
        },
        "papermill": {
          "duration": 0.078124,
          "end_time": "2023-08-17T06:40:29.109380",
          "exception": false,
          "start_time": "2023-08-17T06:40:29.031256",
          "status": "completed"
        },
        "tags": [],
        "id": "4e627a99",
        "outputId": "31fe17f0-6a35-4b03-fcbe-4d034bbb7437"
      },
      "outputs": [
        {
          "name": "stdout",
          "output_type": "stream",
          "text": [
            "Information value (IV): 0.07927244771187314\n"
          ]
        },
        {
          "data": {
            "text/html": [
              "<div>\n",
              "<style scoped>\n",
              "    .dataframe tbody tr th:only-of-type {\n",
              "        vertical-align: middle;\n",
              "    }\n",
              "\n",
              "    .dataframe tbody tr th {\n",
              "        vertical-align: top;\n",
              "    }\n",
              "\n",
              "    .dataframe thead th {\n",
              "        text-align: right;\n",
              "    }\n",
              "</style>\n",
              "<table border=\"1\" class=\"dataframe\">\n",
              "  <thead>\n",
              "    <tr style=\"text-align: right;\">\n",
              "      <th></th>\n",
              "      <th>Dist_bad</th>\n",
              "      <th>Dist_good</th>\n",
              "      <th>WOE</th>\n",
              "    </tr>\n",
              "    <tr>\n",
              "      <th>NAME_FAMILY_STATUS</th>\n",
              "      <th></th>\n",
              "      <th></th>\n",
              "      <th></th>\n",
              "    </tr>\n",
              "  </thead>\n",
              "  <tbody>\n",
              "    <tr>\n",
              "      <th>Widow</th>\n",
              "      <td>0.064516</td>\n",
              "      <td>0.044153</td>\n",
              "      <td>-0.379260</td>\n",
              "    </tr>\n",
              "    <tr>\n",
              "      <th>Single / not married</th>\n",
              "      <td>0.172043</td>\n",
              "      <td>0.126492</td>\n",
              "      <td>-0.307568</td>\n",
              "    </tr>\n",
              "    <tr>\n",
              "      <th>Separated</th>\n",
              "      <td>0.075269</td>\n",
              "      <td>0.055609</td>\n",
              "      <td>-0.302728</td>\n",
              "    </tr>\n",
              "    <tr>\n",
              "      <th>Married</th>\n",
              "      <td>0.655914</td>\n",
              "      <td>0.689499</td>\n",
              "      <td>0.049935</td>\n",
              "    </tr>\n",
              "    <tr>\n",
              "      <th>Civil marriage</th>\n",
              "      <td>0.032258</td>\n",
              "      <td>0.084248</td>\n",
              "      <td>0.959999</td>\n",
              "    </tr>\n",
              "  </tbody>\n",
              "</table>\n",
              "</div>"
            ],
            "text/plain": [
              "                      Dist_bad  Dist_good       WOE\n",
              "NAME_FAMILY_STATUS                                 \n",
              "Widow                 0.064516   0.044153 -0.379260\n",
              "Single / not married  0.172043   0.126492 -0.307568\n",
              "Separated             0.075269   0.055609 -0.302728\n",
              "Married               0.655914   0.689499  0.049935\n",
              "Civil marriage        0.032258   0.084248  0.959999"
            ]
          },
          "execution_count": 55,
          "metadata": {},
          "output_type": "execute_result"
        }
      ],
      "source": [
        "[WOE, IV] = WOE_cal(df_labeled,\"NAME_FAMILY_STATUS\")\n",
        "print(\"Information value (IV):\", IV)\n",
        "WOE.sort_values(\"WOE\")"
      ]
    },
    {
      "cell_type": "markdown",
      "id": "82209318",
      "metadata": {
        "papermill": {
          "duration": 0.051582,
          "end_time": "2023-08-17T06:40:29.213727",
          "exception": false,
          "start_time": "2023-08-17T06:40:29.162145",
          "status": "completed"
        },
        "tags": [],
        "id": "82209318"
      },
      "source": [
        "As WOE of Widow/not married are close together, we combined these groups."
      ]
    },
    {
      "cell_type": "code",
      "execution_count": null,
      "id": "800b8ccf",
      "metadata": {
        "execution": {
          "iopub.execute_input": "2023-08-17T06:40:29.321191Z",
          "iopub.status.busy": "2023-08-17T06:40:29.320750Z",
          "iopub.status.idle": "2023-08-17T06:40:29.334065Z",
          "shell.execute_reply": "2023-08-17T06:40:29.332991Z"
        },
        "papermill": {
          "duration": 0.070039,
          "end_time": "2023-08-17T06:40:29.336553",
          "exception": false,
          "start_time": "2023-08-17T06:40:29.266514",
          "status": "completed"
        },
        "tags": [],
        "id": "800b8ccf",
        "outputId": "9ba7b56f-fc37-4514-8d3b-afecf7b70048"
      },
      "outputs": [
        {
          "data": {
            "text/plain": [
              "Married                 68.876955\n",
              "Single / not married    12.748074\n",
              "Separated/Widow         10.063040\n",
              "Civil marriage           8.311931\n",
              "Name: NAME_FAMILY_STATUS, dtype: float64"
            ]
          },
          "execution_count": 56,
          "metadata": {},
          "output_type": "execute_result"
        }
      ],
      "source": [
        "df_labeled[\"NAME_FAMILY_STATUS\"] = df_labeled[\"NAME_FAMILY_STATUS\"].replace({\"Widow\":\"Separated/Widow\",\"Separated\":\"Separated/Widow\"})\n",
        "df_labeled[\"NAME_FAMILY_STATUS\"].value_counts(normalize=True)*100"
      ]
    },
    {
      "cell_type": "code",
      "execution_count": null,
      "id": "cf7ab59b",
      "metadata": {
        "execution": {
          "iopub.execute_input": "2023-08-17T06:40:29.442781Z",
          "iopub.status.busy": "2023-08-17T06:40:29.442347Z",
          "iopub.status.idle": "2023-08-17T06:40:29.463573Z",
          "shell.execute_reply": "2023-08-17T06:40:29.462475Z"
        },
        "papermill": {
          "duration": 0.07688,
          "end_time": "2023-08-17T06:40:29.465840",
          "exception": false,
          "start_time": "2023-08-17T06:40:29.388960",
          "status": "completed"
        },
        "tags": [],
        "id": "cf7ab59b",
        "outputId": "157288e4-286f-41f5-b9b1-f6b15e6f2767"
      },
      "outputs": [
        {
          "name": "stdout",
          "output_type": "stream",
          "text": [
            "Information value (IV): 0.07909866420747196\n"
          ]
        },
        {
          "data": {
            "text/html": [
              "<div>\n",
              "<style scoped>\n",
              "    .dataframe tbody tr th:only-of-type {\n",
              "        vertical-align: middle;\n",
              "    }\n",
              "\n",
              "    .dataframe tbody tr th {\n",
              "        vertical-align: top;\n",
              "    }\n",
              "\n",
              "    .dataframe thead th {\n",
              "        text-align: right;\n",
              "    }\n",
              "</style>\n",
              "<table border=\"1\" class=\"dataframe\">\n",
              "  <thead>\n",
              "    <tr style=\"text-align: right;\">\n",
              "      <th></th>\n",
              "      <th>Dist_bad</th>\n",
              "      <th>Dist_good</th>\n",
              "      <th>WOE</th>\n",
              "    </tr>\n",
              "    <tr>\n",
              "      <th>NAME_FAMILY_STATUS</th>\n",
              "      <th></th>\n",
              "      <th></th>\n",
              "      <th></th>\n",
              "    </tr>\n",
              "  </thead>\n",
              "  <tbody>\n",
              "    <tr>\n",
              "      <th>Separated/Widow</th>\n",
              "      <td>0.139785</td>\n",
              "      <td>0.099761</td>\n",
              "      <td>-0.337324</td>\n",
              "    </tr>\n",
              "    <tr>\n",
              "      <th>Single / not married</th>\n",
              "      <td>0.172043</td>\n",
              "      <td>0.126492</td>\n",
              "      <td>-0.307568</td>\n",
              "    </tr>\n",
              "    <tr>\n",
              "      <th>Married</th>\n",
              "      <td>0.655914</td>\n",
              "      <td>0.689499</td>\n",
              "      <td>0.049935</td>\n",
              "    </tr>\n",
              "    <tr>\n",
              "      <th>Civil marriage</th>\n",
              "      <td>0.032258</td>\n",
              "      <td>0.084248</td>\n",
              "      <td>0.959999</td>\n",
              "    </tr>\n",
              "  </tbody>\n",
              "</table>\n",
              "</div>"
            ],
            "text/plain": [
              "                      Dist_bad  Dist_good       WOE\n",
              "NAME_FAMILY_STATUS                                 \n",
              "Separated/Widow       0.139785   0.099761 -0.337324\n",
              "Single / not married  0.172043   0.126492 -0.307568\n",
              "Married               0.655914   0.689499  0.049935\n",
              "Civil marriage        0.032258   0.084248  0.959999"
            ]
          },
          "execution_count": 57,
          "metadata": {},
          "output_type": "execute_result"
        }
      ],
      "source": [
        "[WOE, IV] = WOE_cal(df_labeled,\"NAME_FAMILY_STATUS\")\n",
        "print(\"Information value (IV):\", IV)\n",
        "WOE.sort_values(\"WOE\")"
      ]
    },
    {
      "cell_type": "markdown",
      "id": "e4175510",
      "metadata": {
        "papermill": {
          "duration": 0.052757,
          "end_time": "2023-08-17T06:40:29.571167",
          "exception": false,
          "start_time": "2023-08-17T06:40:29.518410",
          "status": "completed"
        },
        "tags": [],
        "id": "e4175510"
      },
      "source": [
        "</br>\n",
        "\n",
        "\n",
        "\n",
        "\n",
        "\n",
        "### NAME_HOUSING_TYPE"
      ]
    },
    {
      "cell_type": "code",
      "execution_count": null,
      "id": "c6407a4d",
      "metadata": {
        "execution": {
          "iopub.execute_input": "2023-08-17T06:40:29.679578Z",
          "iopub.status.busy": "2023-08-17T06:40:29.679167Z",
          "iopub.status.idle": "2023-08-17T06:40:29.689403Z",
          "shell.execute_reply": "2023-08-17T06:40:29.688608Z"
        },
        "papermill": {
          "duration": 0.066734,
          "end_time": "2023-08-17T06:40:29.691406",
          "exception": false,
          "start_time": "2023-08-17T06:40:29.624672",
          "status": "completed"
        },
        "tags": [],
        "id": "c6407a4d",
        "outputId": "79302a19-e1b9-46ca-c570-6ae841f9cddb"
      },
      "outputs": [
        {
          "data": {
            "text/plain": [
              "House / apartment      89.633435\n",
              "With parents            4.342750\n",
              "Municipal apartment     3.478870\n",
              "Rented apartment        1.260799\n",
              "Office apartment        0.863880\n",
              "Co-op apartment         0.420266\n",
              "Name: NAME_HOUSING_TYPE, dtype: float64"
            ]
          },
          "execution_count": 58,
          "metadata": {},
          "output_type": "execute_result"
        }
      ],
      "source": [
        "df_labeled[\"NAME_HOUSING_TYPE\"].value_counts(normalize=True)*100"
      ]
    },
    {
      "cell_type": "code",
      "execution_count": null,
      "id": "b43fb6eb",
      "metadata": {
        "execution": {
          "iopub.execute_input": "2023-08-17T06:40:29.799457Z",
          "iopub.status.busy": "2023-08-17T06:40:29.799048Z",
          "iopub.status.idle": "2023-08-17T06:40:29.812317Z",
          "shell.execute_reply": "2023-08-17T06:40:29.811083Z"
        },
        "papermill": {
          "duration": 0.069699,
          "end_time": "2023-08-17T06:40:29.814697",
          "exception": false,
          "start_time": "2023-08-17T06:40:29.744998",
          "status": "completed"
        },
        "tags": [],
        "id": "b43fb6eb",
        "outputId": "bbe036d1-3fb2-47c2-e12a-c9ec8b8813e5"
      },
      "outputs": [
        {
          "data": {
            "text/plain": [
              "House / apartment      90.917581\n",
              "With parents            4.342750\n",
              "Municipal apartment     3.478870\n",
              "Rented apartment        1.260799\n",
              "Name: NAME_HOUSING_TYPE, dtype: float64"
            ]
          },
          "execution_count": 59,
          "metadata": {},
          "output_type": "execute_result"
        }
      ],
      "source": [
        "df_labeled[\"NAME_HOUSING_TYPE\"] = df_labeled[\"NAME_HOUSING_TYPE\"].replace({\"Co-op apartment\":\"House / apartment\",\"Office apartment\":\"House / apartment\"})\n",
        "df_labeled[\"NAME_HOUSING_TYPE\"].value_counts(normalize=True)*100"
      ]
    },
    {
      "cell_type": "code",
      "execution_count": null,
      "id": "d86deeaf",
      "metadata": {
        "execution": {
          "iopub.execute_input": "2023-08-17T06:40:29.925363Z",
          "iopub.status.busy": "2023-08-17T06:40:29.924578Z",
          "iopub.status.idle": "2023-08-17T06:40:29.946090Z",
          "shell.execute_reply": "2023-08-17T06:40:29.944966Z"
        },
        "papermill": {
          "duration": 0.078578,
          "end_time": "2023-08-17T06:40:29.948639",
          "exception": false,
          "start_time": "2023-08-17T06:40:29.870061",
          "status": "completed"
        },
        "tags": [],
        "id": "d86deeaf",
        "outputId": "3da2fbc5-571c-45de-c8c2-71421d944135"
      },
      "outputs": [
        {
          "name": "stdout",
          "output_type": "stream",
          "text": [
            "Information value (IV): 0.004243038632810376\n"
          ]
        },
        {
          "data": {
            "text/html": [
              "<div>\n",
              "<style scoped>\n",
              "    .dataframe tbody tr th:only-of-type {\n",
              "        vertical-align: middle;\n",
              "    }\n",
              "\n",
              "    .dataframe tbody tr th {\n",
              "        vertical-align: top;\n",
              "    }\n",
              "\n",
              "    .dataframe thead th {\n",
              "        text-align: right;\n",
              "    }\n",
              "</style>\n",
              "<table border=\"1\" class=\"dataframe\">\n",
              "  <thead>\n",
              "    <tr style=\"text-align: right;\">\n",
              "      <th></th>\n",
              "      <th>Dist_bad</th>\n",
              "      <th>Dist_good</th>\n",
              "      <th>WOE</th>\n",
              "    </tr>\n",
              "    <tr>\n",
              "      <th>NAME_HOUSING_TYPE</th>\n",
              "      <th></th>\n",
              "      <th></th>\n",
              "      <th></th>\n",
              "    </tr>\n",
              "  </thead>\n",
              "  <tbody>\n",
              "    <tr>\n",
              "      <th>House / apartment</th>\n",
              "      <td>0.924731</td>\n",
              "      <td>0.908831</td>\n",
              "      <td>-0.017344</td>\n",
              "    </tr>\n",
              "    <tr>\n",
              "      <th>Municipal apartment</th>\n",
              "      <td>0.032258</td>\n",
              "      <td>0.034845</td>\n",
              "      <td>0.077138</td>\n",
              "    </tr>\n",
              "    <tr>\n",
              "      <th>Rented apartment</th>\n",
              "      <td>0.010753</td>\n",
              "      <td>0.012649</td>\n",
              "      <td>0.162435</td>\n",
              "    </tr>\n",
              "    <tr>\n",
              "      <th>With parents</th>\n",
              "      <td>0.032258</td>\n",
              "      <td>0.043675</td>\n",
              "      <td>0.303017</td>\n",
              "    </tr>\n",
              "  </tbody>\n",
              "</table>\n",
              "</div>"
            ],
            "text/plain": [
              "                     Dist_bad  Dist_good       WOE\n",
              "NAME_HOUSING_TYPE                                 \n",
              "House / apartment    0.924731   0.908831 -0.017344\n",
              "Municipal apartment  0.032258   0.034845  0.077138\n",
              "Rented apartment     0.010753   0.012649  0.162435\n",
              "With parents         0.032258   0.043675  0.303017"
            ]
          },
          "execution_count": 60,
          "metadata": {},
          "output_type": "execute_result"
        }
      ],
      "source": [
        "# Calculate WOE\n",
        "[WOE, IV] = WOE_cal(df_labeled,\"NAME_HOUSING_TYPE\")\n",
        "print(\"Information value (IV):\", IV)\n",
        "WOE.sort_values(\"WOE\")"
      ]
    },
    {
      "cell_type": "code",
      "execution_count": null,
      "id": "8a6fbc22",
      "metadata": {
        "execution": {
          "iopub.execute_input": "2023-08-17T06:40:30.058471Z",
          "iopub.status.busy": "2023-08-17T06:40:30.058078Z",
          "iopub.status.idle": "2023-08-17T06:40:30.064433Z",
          "shell.execute_reply": "2023-08-17T06:40:30.063263Z"
        },
        "papermill": {
          "duration": 0.063486,
          "end_time": "2023-08-17T06:40:30.066823",
          "exception": false,
          "start_time": "2023-08-17T06:40:30.003337",
          "status": "completed"
        },
        "tags": [],
        "id": "8a6fbc22"
      },
      "outputs": [],
      "source": [
        "# Drop NAME_HOUSING_TYPE as IV is very low\n",
        "df_labeled = df_labeled.drop(\"NAME_HOUSING_TYPE\", axis=1)"
      ]
    },
    {
      "cell_type": "markdown",
      "id": "157fd5f3",
      "metadata": {
        "papermill": {
          "duration": 0.052678,
          "end_time": "2023-08-17T06:40:30.172509",
          "exception": false,
          "start_time": "2023-08-17T06:40:30.119831",
          "status": "completed"
        },
        "tags": [],
        "id": "157fd5f3"
      },
      "source": [
        "</br>\n",
        "\n",
        "\n",
        "\n",
        "\n",
        "\n",
        "### OCCUPATION_TYPE"
      ]
    },
    {
      "cell_type": "code",
      "execution_count": null,
      "id": "bc6aea96",
      "metadata": {
        "execution": {
          "iopub.execute_input": "2023-08-17T06:40:30.280162Z",
          "iopub.status.busy": "2023-08-17T06:40:30.279465Z",
          "iopub.status.idle": "2023-08-17T06:40:30.292767Z",
          "shell.execute_reply": "2023-08-17T06:40:30.290439Z"
        },
        "papermill": {
          "duration": 0.070247,
          "end_time": "2023-08-17T06:40:30.295509",
          "exception": false,
          "start_time": "2023-08-17T06:40:30.225262",
          "status": "completed"
        },
        "tags": [],
        "id": "bc6aea96",
        "outputId": "d05434d8-7894-42e7-d079-b755f6c56d5c"
      },
      "outputs": [
        {
          "data": {
            "text/plain": [
              "Pensioner                20.733131\n",
              "Laborers                 20.429605\n",
              "Sales staff              10.506654\n",
              "Core staff               10.389914\n",
              "Managers                  9.502685\n",
              "Drivers                   7.658184\n",
              "High skill tech staff     4.482839\n",
              "Accountants               3.689003\n",
              "Medicine staff            3.572262\n",
              "Security staff            2.077983\n",
              "Cooking staff             1.937894\n",
              "Cleaning staff            1.751109\n",
              "Private service staff     0.887229\n",
              "Low-skill Laborers        0.723792\n",
              "Secretaries               0.583703\n",
              "Waiters/barmen staff      0.490311\n",
              "HR staff                  0.256829\n",
              "IT staff                  0.186785\n",
              "Realty agents             0.140089\n",
              "Name: OCCUPATION_TYPE, dtype: float64"
            ]
          },
          "execution_count": 62,
          "metadata": {},
          "output_type": "execute_result"
        }
      ],
      "source": [
        "df_labeled[\"OCCUPATION_TYPE\"].value_counts(normalize=True)*100"
      ]
    },
    {
      "cell_type": "code",
      "execution_count": null,
      "id": "db1a440e",
      "metadata": {
        "execution": {
          "iopub.execute_input": "2023-08-17T06:40:30.408417Z",
          "iopub.status.busy": "2023-08-17T06:40:30.407705Z",
          "iopub.status.idle": "2023-08-17T06:40:30.416301Z",
          "shell.execute_reply": "2023-08-17T06:40:30.415201Z"
        },
        "papermill": {
          "duration": 0.065954,
          "end_time": "2023-08-17T06:40:30.418800",
          "exception": false,
          "start_time": "2023-08-17T06:40:30.352846",
          "status": "completed"
        },
        "tags": [],
        "id": "db1a440e"
      },
      "outputs": [],
      "source": [
        "df_labeled = df_labeled[~df_labeled[\"OCCUPATION_TYPE\"].isin([\"Private service staff\",\"Low-skill Laborers\",\"Secretaries\",\"Waiters/barmen staff\",\"HR staff\",\"IT staff\",\"Realty agents\"])]"
      ]
    },
    {
      "cell_type": "code",
      "execution_count": null,
      "id": "6b64ccd7",
      "metadata": {
        "execution": {
          "iopub.execute_input": "2023-08-17T06:40:30.529343Z",
          "iopub.status.busy": "2023-08-17T06:40:30.528916Z",
          "iopub.status.idle": "2023-08-17T06:40:30.551799Z",
          "shell.execute_reply": "2023-08-17T06:40:30.550782Z"
        },
        "papermill": {
          "duration": 0.082316,
          "end_time": "2023-08-17T06:40:30.554620",
          "exception": false,
          "start_time": "2023-08-17T06:40:30.472304",
          "status": "completed"
        },
        "tags": [],
        "id": "6b64ccd7",
        "outputId": "a4fb2dab-44c7-4740-f1e3-7eabf35e237c"
      },
      "outputs": [
        {
          "name": "stdout",
          "output_type": "stream",
          "text": [
            "Information value (IV): 0.08176213036065198\n"
          ]
        },
        {
          "data": {
            "text/html": [
              "<div>\n",
              "<style scoped>\n",
              "    .dataframe tbody tr th:only-of-type {\n",
              "        vertical-align: middle;\n",
              "    }\n",
              "\n",
              "    .dataframe tbody tr th {\n",
              "        vertical-align: top;\n",
              "    }\n",
              "\n",
              "    .dataframe thead th {\n",
              "        text-align: right;\n",
              "    }\n",
              "</style>\n",
              "<table border=\"1\" class=\"dataframe\">\n",
              "  <thead>\n",
              "    <tr style=\"text-align: right;\">\n",
              "      <th></th>\n",
              "      <th>Dist_bad</th>\n",
              "      <th>Dist_good</th>\n",
              "      <th>WOE</th>\n",
              "    </tr>\n",
              "    <tr>\n",
              "      <th>OCCUPATION_TYPE</th>\n",
              "      <th></th>\n",
              "      <th></th>\n",
              "      <th></th>\n",
              "    </tr>\n",
              "  </thead>\n",
              "  <tbody>\n",
              "    <tr>\n",
              "      <th>Security staff</th>\n",
              "      <td>0.044944</td>\n",
              "      <td>0.020967</td>\n",
              "      <td>-0.762466</td>\n",
              "    </tr>\n",
              "    <tr>\n",
              "      <th>High skill tech staff</th>\n",
              "      <td>0.067416</td>\n",
              "      <td>0.045881</td>\n",
              "      <td>-0.384836</td>\n",
              "    </tr>\n",
              "    <tr>\n",
              "      <th>Cleaning staff</th>\n",
              "      <td>0.022472</td>\n",
              "      <td>0.018007</td>\n",
              "      <td>-0.221511</td>\n",
              "    </tr>\n",
              "    <tr>\n",
              "      <th>Medicine staff</th>\n",
              "      <td>0.044944</td>\n",
              "      <td>0.036754</td>\n",
              "      <td>-0.201171</td>\n",
              "    </tr>\n",
              "    <tr>\n",
              "      <th>Pensioner</th>\n",
              "      <td>0.247191</td>\n",
              "      <td>0.213616</td>\n",
              "      <td>-0.145981</td>\n",
              "    </tr>\n",
              "    <tr>\n",
              "      <th>Cooking staff</th>\n",
              "      <td>0.022472</td>\n",
              "      <td>0.019980</td>\n",
              "      <td>-0.117521</td>\n",
              "    </tr>\n",
              "    <tr>\n",
              "      <th>Managers</th>\n",
              "      <td>0.101124</td>\n",
              "      <td>0.098175</td>\n",
              "      <td>-0.029596</td>\n",
              "    </tr>\n",
              "    <tr>\n",
              "      <th>Laborers</th>\n",
              "      <td>0.202247</td>\n",
              "      <td>0.211396</td>\n",
              "      <td>0.044243</td>\n",
              "    </tr>\n",
              "    <tr>\n",
              "      <th>Core staff</th>\n",
              "      <td>0.101124</td>\n",
              "      <td>0.107548</td>\n",
              "      <td>0.061595</td>\n",
              "    </tr>\n",
              "    <tr>\n",
              "      <th>Drivers</th>\n",
              "      <td>0.067416</td>\n",
              "      <td>0.079428</td>\n",
              "      <td>0.163969</td>\n",
              "    </tr>\n",
              "    <tr>\n",
              "      <th>Accountants</th>\n",
              "      <td>0.022472</td>\n",
              "      <td>0.038481</td>\n",
              "      <td>0.537886</td>\n",
              "    </tr>\n",
              "    <tr>\n",
              "      <th>Sales staff</th>\n",
              "      <td>0.056180</td>\n",
              "      <td>0.109768</td>\n",
              "      <td>0.669813</td>\n",
              "    </tr>\n",
              "  </tbody>\n",
              "</table>\n",
              "</div>"
            ],
            "text/plain": [
              "                       Dist_bad  Dist_good       WOE\n",
              "OCCUPATION_TYPE                                     \n",
              "Security staff         0.044944   0.020967 -0.762466\n",
              "High skill tech staff  0.067416   0.045881 -0.384836\n",
              "Cleaning staff         0.022472   0.018007 -0.221511\n",
              "Medicine staff         0.044944   0.036754 -0.201171\n",
              "Pensioner              0.247191   0.213616 -0.145981\n",
              "Cooking staff          0.022472   0.019980 -0.117521\n",
              "Managers               0.101124   0.098175 -0.029596\n",
              "Laborers               0.202247   0.211396  0.044243\n",
              "Core staff             0.101124   0.107548  0.061595\n",
              "Drivers                0.067416   0.079428  0.163969\n",
              "Accountants            0.022472   0.038481  0.537886\n",
              "Sales staff            0.056180   0.109768  0.669813"
            ]
          },
          "execution_count": 64,
          "metadata": {},
          "output_type": "execute_result"
        }
      ],
      "source": [
        "# Calculate WOE\n",
        "[WOE, IV] = WOE_cal(df_labeled,\"OCCUPATION_TYPE\")\n",
        "print(\"Information value (IV):\", IV)\n",
        "WOE.sort_values(\"WOE\")"
      ]
    },
    {
      "cell_type": "code",
      "execution_count": null,
      "id": "63cb8a29",
      "metadata": {
        "execution": {
          "iopub.execute_input": "2023-08-17T06:40:30.664433Z",
          "iopub.status.busy": "2023-08-17T06:40:30.664003Z",
          "iopub.status.idle": "2023-08-17T06:40:30.692448Z",
          "shell.execute_reply": "2023-08-17T06:40:30.691224Z"
        },
        "papermill": {
          "duration": 0.086976,
          "end_time": "2023-08-17T06:40:30.695314",
          "exception": false,
          "start_time": "2023-08-17T06:40:30.608338",
          "status": "completed"
        },
        "tags": [],
        "id": "63cb8a29",
        "outputId": "8e0062a1-d6ea-4a44-d491-799c5c8bedda"
      },
      "outputs": [
        {
          "data": {
            "text/plain": [
              "G5    41.684769\n",
              "G4    23.437123\n",
              "G8    10.861694\n",
              "G6     7.916968\n",
              "G3     5.503259\n",
              "G2     4.634323\n",
              "G7     3.813662\n",
              "G1     2.148202\n",
              "Name: OCCUPATION_TYPE, dtype: float64"
            ]
          },
          "execution_count": 65,
          "metadata": {},
          "output_type": "execute_result"
        }
      ],
      "source": [
        "# GROUP BY WOE SCORE\n",
        "df_labeled['OCCUPATION_TYPE'] = df_labeled['OCCUPATION_TYPE'].replace({\"Security staff\":\"G1\"})\n",
        "df_labeled['OCCUPATION_TYPE'] = df_labeled['OCCUPATION_TYPE'].replace({\"High skill tech staff\":\"G2\"})\n",
        "df_labeled['OCCUPATION_TYPE'] = df_labeled['OCCUPATION_TYPE'].replace({\"Cleaning staff\":\"G3\",\"Medicine staff\":\"G3\"})\n",
        "df_labeled['OCCUPATION_TYPE'] = df_labeled['OCCUPATION_TYPE'].replace({\"Pensioner\":\"G4\",\"Cooking staff\":\"G4\"})\n",
        "df_labeled['OCCUPATION_TYPE'] = df_labeled['OCCUPATION_TYPE'].replace({\"Managers\":\"G5\",\"Laborers\":\"G5\",\"Core staff\":\"G5\"})\n",
        "df_labeled['OCCUPATION_TYPE'] = df_labeled['OCCUPATION_TYPE'].replace({\"Drivers\":\"G6\"})\n",
        "df_labeled['OCCUPATION_TYPE'] = df_labeled['OCCUPATION_TYPE'].replace({\"Accountants\":\"G7\"})\n",
        "df_labeled['OCCUPATION_TYPE'] = df_labeled['OCCUPATION_TYPE'].replace({\"Sales staff\":\"G8\"})\n",
        "\n",
        "df_labeled['OCCUPATION_TYPE'].value_counts(normalize=True)*100"
      ]
    },
    {
      "cell_type": "code",
      "execution_count": null,
      "id": "ca27ecbe",
      "metadata": {
        "execution": {
          "iopub.execute_input": "2023-08-17T06:40:30.806216Z",
          "iopub.status.busy": "2023-08-17T06:40:30.805764Z",
          "iopub.status.idle": "2023-08-17T06:40:30.829604Z",
          "shell.execute_reply": "2023-08-17T06:40:30.828243Z"
        },
        "papermill": {
          "duration": 0.082487,
          "end_time": "2023-08-17T06:40:30.832351",
          "exception": false,
          "start_time": "2023-08-17T06:40:30.749864",
          "status": "completed"
        },
        "tags": [],
        "id": "ca27ecbe",
        "outputId": "8159327a-4193-4f3c-f8df-c625d9088254"
      },
      "outputs": [
        {
          "name": "stdout",
          "output_type": "stream",
          "text": [
            "Information value (IV): 0.08124100714762295\n"
          ]
        },
        {
          "data": {
            "text/html": [
              "<div>\n",
              "<style scoped>\n",
              "    .dataframe tbody tr th:only-of-type {\n",
              "        vertical-align: middle;\n",
              "    }\n",
              "\n",
              "    .dataframe tbody tr th {\n",
              "        vertical-align: top;\n",
              "    }\n",
              "\n",
              "    .dataframe thead th {\n",
              "        text-align: right;\n",
              "    }\n",
              "</style>\n",
              "<table border=\"1\" class=\"dataframe\">\n",
              "  <thead>\n",
              "    <tr style=\"text-align: right;\">\n",
              "      <th></th>\n",
              "      <th>Dist_bad</th>\n",
              "      <th>Dist_good</th>\n",
              "      <th>WOE</th>\n",
              "    </tr>\n",
              "    <tr>\n",
              "      <th>OCCUPATION_TYPE</th>\n",
              "      <th></th>\n",
              "      <th></th>\n",
              "      <th></th>\n",
              "    </tr>\n",
              "  </thead>\n",
              "  <tbody>\n",
              "    <tr>\n",
              "      <th>G1</th>\n",
              "      <td>0.044944</td>\n",
              "      <td>0.020967</td>\n",
              "      <td>-0.762466</td>\n",
              "    </tr>\n",
              "    <tr>\n",
              "      <th>G2</th>\n",
              "      <td>0.067416</td>\n",
              "      <td>0.045881</td>\n",
              "      <td>-0.384836</td>\n",
              "    </tr>\n",
              "    <tr>\n",
              "      <th>G3</th>\n",
              "      <td>0.067416</td>\n",
              "      <td>0.054761</td>\n",
              "      <td>-0.207905</td>\n",
              "    </tr>\n",
              "    <tr>\n",
              "      <th>G4</th>\n",
              "      <td>0.269663</td>\n",
              "      <td>0.233596</td>\n",
              "      <td>-0.143578</td>\n",
              "    </tr>\n",
              "    <tr>\n",
              "      <th>G5</th>\n",
              "      <td>0.404494</td>\n",
              "      <td>0.417119</td>\n",
              "      <td>0.030733</td>\n",
              "    </tr>\n",
              "    <tr>\n",
              "      <th>G6</th>\n",
              "      <td>0.067416</td>\n",
              "      <td>0.079428</td>\n",
              "      <td>0.163969</td>\n",
              "    </tr>\n",
              "    <tr>\n",
              "      <th>G7</th>\n",
              "      <td>0.022472</td>\n",
              "      <td>0.038481</td>\n",
              "      <td>0.537886</td>\n",
              "    </tr>\n",
              "    <tr>\n",
              "      <th>G8</th>\n",
              "      <td>0.056180</td>\n",
              "      <td>0.109768</td>\n",
              "      <td>0.669813</td>\n",
              "    </tr>\n",
              "  </tbody>\n",
              "</table>\n",
              "</div>"
            ],
            "text/plain": [
              "                 Dist_bad  Dist_good       WOE\n",
              "OCCUPATION_TYPE                               \n",
              "G1               0.044944   0.020967 -0.762466\n",
              "G2               0.067416   0.045881 -0.384836\n",
              "G3               0.067416   0.054761 -0.207905\n",
              "G4               0.269663   0.233596 -0.143578\n",
              "G5               0.404494   0.417119  0.030733\n",
              "G6               0.067416   0.079428  0.163969\n",
              "G7               0.022472   0.038481  0.537886\n",
              "G8               0.056180   0.109768  0.669813"
            ]
          },
          "execution_count": 66,
          "metadata": {},
          "output_type": "execute_result"
        }
      ],
      "source": [
        "[WOE, IV] = WOE_cal(df_labeled,\"OCCUPATION_TYPE\")\n",
        "print(\"Information value (IV):\", IV)\n",
        "WOE.sort_values(\"WOE\")"
      ]
    },
    {
      "cell_type": "markdown",
      "id": "e54359a7",
      "metadata": {
        "papermill": {
          "duration": 0.053644,
          "end_time": "2023-08-17T06:40:30.942621",
          "exception": false,
          "start_time": "2023-08-17T06:40:30.888977",
          "status": "completed"
        },
        "tags": [],
        "id": "e54359a7"
      },
      "source": [
        "</br>\n",
        "\n",
        "\n",
        "\n",
        "\n",
        "\n",
        "### CNT_CHILDREN (Number of children) and CNT_FAM_MEMBERS (Number of family member)"
      ]
    },
    {
      "cell_type": "code",
      "execution_count": null,
      "id": "af770474",
      "metadata": {
        "execution": {
          "iopub.execute_input": "2023-08-17T06:40:31.053005Z",
          "iopub.status.busy": "2023-08-17T06:40:31.052578Z",
          "iopub.status.idle": "2023-08-17T06:40:31.770385Z",
          "shell.execute_reply": "2023-08-17T06:40:31.769179Z"
        },
        "papermill": {
          "duration": 0.776404,
          "end_time": "2023-08-17T06:40:31.773242",
          "exception": false,
          "start_time": "2023-08-17T06:40:30.996838",
          "status": "completed"
        },
        "tags": [],
        "id": "af770474",
        "outputId": "aaa800b2-dba6-49ee-c59d-8699a24c5e04"
      },
      "outputs": [
        {
          "data": {
            "text/plain": [
              "Text(0.5, 1.0, 'Number of family member')"
            ]
          },
          "execution_count": 67,
          "metadata": {},
          "output_type": "execute_result"
        },
        {
          "data": {
            "image/png": "[encoded data removed]",
            "text/plain": [
              "<Figure size 2200x800 with 2 Axes>"
            ]
          },
          "metadata": {},
          "output_type": "display_data"
        }
      ],
      "source": [
        "fig, ax = plt.subplots(1, 2, figsize = (22,8))\n",
        "cplot = sns.countplot(data=df_labeled, x=\"CNT_CHILDREN\", ax=ax[0],color='tab:Blue')\n",
        "for container in cplot.containers:\n",
        "    cplot.bar_label(container)\n",
        "ax[0].set_title('Number of children')\n",
        "\n",
        "cplot = sns.countplot(data=df_labeled, x=\"CNT_FAM_MEMBERS\", ax=ax[1],color='tab:Blue')\n",
        "for container in cplot.containers:\n",
        "    cplot.bar_label(container)\n",
        "ax[1].set_title('Number of family member')"
      ]
    },
    {
      "cell_type": "markdown",
      "id": "1eaacfe9",
      "metadata": {
        "papermill": {
          "duration": 0.057461,
          "end_time": "2023-08-17T06:40:31.887053",
          "exception": false,
          "start_time": "2023-08-17T06:40:31.829592",
          "status": "completed"
        },
        "tags": [],
        "id": "1eaacfe9"
      },
      "source": [
        "There is clearly outliers on both number of children and family member. The distribution of number of family greater than 1 is exactly the same as the distribution of number of children. This shows that these two features are highly correlated."
      ]
    },
    {
      "cell_type": "code",
      "execution_count": null,
      "id": "312010e7",
      "metadata": {
        "execution": {
          "iopub.execute_input": "2023-08-17T06:40:31.999000Z",
          "iopub.status.busy": "2023-08-17T06:40:31.998574Z",
          "iopub.status.idle": "2023-08-17T06:40:32.415109Z",
          "shell.execute_reply": "2023-08-17T06:40:32.413788Z"
        },
        "papermill": {
          "duration": 0.47583,
          "end_time": "2023-08-17T06:40:32.417924",
          "exception": false,
          "start_time": "2023-08-17T06:40:31.942094",
          "status": "completed"
        },
        "tags": [],
        "id": "312010e7",
        "outputId": "6b799e28-b530-48d1-b69e-3c797d760c02"
      },
      "outputs": [
        {
          "data": {
            "text/plain": [
              "Text(0.5, 1.0, 'Plot of number of family member and number of children')"
            ]
          },
          "execution_count": 68,
          "metadata": {},
          "output_type": "execute_result"
        },
        {
          "data": {
            "image/png": "[encoded data removed]",
            "text/plain": [
              "<Figure size 640x480 with 1 Axes>"
            ]
          },
          "metadata": {},
          "output_type": "display_data"
        }
      ],
      "source": [
        "sns.scatterplot(data=df_labeled, x=\"CNT_FAM_MEMBERS\",y=\"CNT_CHILDREN\")\n",
        "plt.title('Plot of number of family member and number of children')"
      ]
    },
    {
      "cell_type": "code",
      "execution_count": null,
      "id": "a82fb7da",
      "metadata": {
        "execution": {
          "iopub.execute_input": "2023-08-17T06:40:32.532100Z",
          "iopub.status.busy": "2023-08-17T06:40:32.531390Z",
          "iopub.status.idle": "2023-08-17T06:40:32.546380Z",
          "shell.execute_reply": "2023-08-17T06:40:32.545195Z"
        },
        "papermill": {
          "duration": 0.075446,
          "end_time": "2023-08-17T06:40:32.548729",
          "exception": false,
          "start_time": "2023-08-17T06:40:32.473283",
          "status": "completed"
        },
        "tags": [],
        "id": "a82fb7da",
        "outputId": "caa4c8af-5f50-4faa-8e56-700041eedb47"
      },
      "outputs": [
        {
          "data": {
            "text/html": [
              "<div>\n",
              "<style scoped>\n",
              "    .dataframe tbody tr th:only-of-type {\n",
              "        vertical-align: middle;\n",
              "    }\n",
              "\n",
              "    .dataframe tbody tr th {\n",
              "        vertical-align: top;\n",
              "    }\n",
              "\n",
              "    .dataframe thead th {\n",
              "        text-align: right;\n",
              "    }\n",
              "</style>\n",
              "<table border=\"1\" class=\"dataframe\">\n",
              "  <thead>\n",
              "    <tr style=\"text-align: right;\">\n",
              "      <th></th>\n",
              "      <th>CNT_CHILDREN</th>\n",
              "      <th>CNT_FAM_MEMBERS</th>\n",
              "    </tr>\n",
              "  </thead>\n",
              "  <tbody>\n",
              "    <tr>\n",
              "      <th>CNT_CHILDREN</th>\n",
              "      <td>1.000000</td>\n",
              "      <td>0.882908</td>\n",
              "    </tr>\n",
              "    <tr>\n",
              "      <th>CNT_FAM_MEMBERS</th>\n",
              "      <td>0.882908</td>\n",
              "      <td>1.000000</td>\n",
              "    </tr>\n",
              "  </tbody>\n",
              "</table>\n",
              "</div>"
            ],
            "text/plain": [
              "                 CNT_CHILDREN  CNT_FAM_MEMBERS\n",
              "CNT_CHILDREN         1.000000         0.882908\n",
              "CNT_FAM_MEMBERS      0.882908         1.000000"
            ]
          },
          "execution_count": 69,
          "metadata": {},
          "output_type": "execute_result"
        }
      ],
      "source": [
        "df_labeled[[\"CNT_CHILDREN\",\"CNT_FAM_MEMBERS\"]].corr()"
      ]
    },
    {
      "cell_type": "markdown",
      "id": "68a78a36",
      "metadata": {
        "papermill": {
          "duration": 0.056074,
          "end_time": "2023-08-17T06:40:32.661158",
          "exception": false,
          "start_time": "2023-08-17T06:40:32.605084",
          "status": "completed"
        },
        "tags": [],
        "id": "68a78a36"
      },
      "source": [
        "The plot of number of family member and number of children and correlation table confirm the correlation. As the number of family member cover the number of children, we chose to drop the number of children feature."
      ]
    },
    {
      "cell_type": "code",
      "execution_count": null,
      "id": "670451d0",
      "metadata": {
        "execution": {
          "iopub.execute_input": "2023-08-17T06:40:32.775006Z",
          "iopub.status.busy": "2023-08-17T06:40:32.774307Z",
          "iopub.status.idle": "2023-08-17T06:40:32.780692Z",
          "shell.execute_reply": "2023-08-17T06:40:32.779819Z"
        },
        "papermill": {
          "duration": 0.066484,
          "end_time": "2023-08-17T06:40:32.783302",
          "exception": false,
          "start_time": "2023-08-17T06:40:32.716818",
          "status": "completed"
        },
        "tags": [],
        "id": "670451d0"
      },
      "outputs": [],
      "source": [
        "df_labeled = df_labeled.drop(\"CNT_CHILDREN\",axis=1)"
      ]
    },
    {
      "cell_type": "code",
      "execution_count": null,
      "id": "f2560849",
      "metadata": {
        "execution": {
          "iopub.execute_input": "2023-08-17T06:40:32.901629Z",
          "iopub.status.busy": "2023-08-17T06:40:32.900953Z",
          "iopub.status.idle": "2023-08-17T06:40:32.912043Z",
          "shell.execute_reply": "2023-08-17T06:40:32.910791Z"
        },
        "papermill": {
          "duration": 0.074221,
          "end_time": "2023-08-17T06:40:32.914400",
          "exception": false,
          "start_time": "2023-08-17T06:40:32.840179",
          "status": "completed"
        },
        "tags": [],
        "id": "f2560849",
        "outputId": "5eecefb8-a026-4e7a-daaa-ba4d45014e42"
      },
      "outputs": [
        {
          "data": {
            "text/plain": [
              "2.0    54.622254\n",
              "1.0    19.092445\n",
              "3.0    16.727009\n",
              "4.0     8.254888\n",
              "5.0     1.134444\n",
              "6.0     0.120685\n",
              "9.0     0.024137\n",
              "7.0     0.024137\n",
              "Name: CNT_FAM_MEMBERS, dtype: float64"
            ]
          },
          "execution_count": 71,
          "metadata": {},
          "output_type": "execute_result"
        }
      ],
      "source": [
        "df_labeled[\"CNT_FAM_MEMBERS\"].value_counts(normalize=True)*100"
      ]
    },
    {
      "cell_type": "code",
      "execution_count": null,
      "id": "7bbce65c",
      "metadata": {
        "execution": {
          "iopub.execute_input": "2023-08-17T06:40:33.029602Z",
          "iopub.status.busy": "2023-08-17T06:40:33.028905Z",
          "iopub.status.idle": "2023-08-17T06:40:33.051095Z",
          "shell.execute_reply": "2023-08-17T06:40:33.049925Z"
        },
        "papermill": {
          "duration": 0.083084,
          "end_time": "2023-08-17T06:40:33.053520",
          "exception": false,
          "start_time": "2023-08-17T06:40:32.970436",
          "status": "completed"
        },
        "tags": [],
        "id": "7bbce65c",
        "outputId": "aae5f38c-837e-44cc-c2b4-88e8fca38ec5"
      },
      "outputs": [
        {
          "name": "stdout",
          "output_type": "stream",
          "text": [
            "Information value (IV): inf\n"
          ]
        },
        {
          "data": {
            "text/html": [
              "<div>\n",
              "<style scoped>\n",
              "    .dataframe tbody tr th:only-of-type {\n",
              "        vertical-align: middle;\n",
              "    }\n",
              "\n",
              "    .dataframe tbody tr th {\n",
              "        vertical-align: top;\n",
              "    }\n",
              "\n",
              "    .dataframe thead th {\n",
              "        text-align: right;\n",
              "    }\n",
              "</style>\n",
              "<table border=\"1\" class=\"dataframe\">\n",
              "  <thead>\n",
              "    <tr style=\"text-align: right;\">\n",
              "      <th></th>\n",
              "      <th>Dist_bad</th>\n",
              "      <th>Dist_good</th>\n",
              "      <th>WOE</th>\n",
              "    </tr>\n",
              "    <tr>\n",
              "      <th>CNT_FAM_MEMBERS</th>\n",
              "      <th></th>\n",
              "      <th></th>\n",
              "      <th></th>\n",
              "    </tr>\n",
              "  </thead>\n",
              "  <tbody>\n",
              "    <tr>\n",
              "      <th>5.0</th>\n",
              "      <td>0.022472</td>\n",
              "      <td>0.011100</td>\n",
              "      <td>-0.705308</td>\n",
              "    </tr>\n",
              "    <tr>\n",
              "      <th>1.0</th>\n",
              "      <td>0.269663</td>\n",
              "      <td>0.189196</td>\n",
              "      <td>-0.354390</td>\n",
              "    </tr>\n",
              "    <tr>\n",
              "      <th>3.0</th>\n",
              "      <td>0.168539</td>\n",
              "      <td>0.167242</td>\n",
              "      <td>-0.007726</td>\n",
              "    </tr>\n",
              "    <tr>\n",
              "      <th>2.0</th>\n",
              "      <td>0.494382</td>\n",
              "      <td>0.547361</td>\n",
              "      <td>0.101799</td>\n",
              "    </tr>\n",
              "    <tr>\n",
              "      <th>4.0</th>\n",
              "      <td>0.044944</td>\n",
              "      <td>0.083374</td>\n",
              "      <td>0.617929</td>\n",
              "    </tr>\n",
              "    <tr>\n",
              "      <th>6.0</th>\n",
              "      <td>0.000000</td>\n",
              "      <td>0.001233</td>\n",
              "      <td>inf</td>\n",
              "    </tr>\n",
              "    <tr>\n",
              "      <th>7.0</th>\n",
              "      <td>0.000000</td>\n",
              "      <td>0.000247</td>\n",
              "      <td>inf</td>\n",
              "    </tr>\n",
              "    <tr>\n",
              "      <th>9.0</th>\n",
              "      <td>0.000000</td>\n",
              "      <td>0.000247</td>\n",
              "      <td>inf</td>\n",
              "    </tr>\n",
              "  </tbody>\n",
              "</table>\n",
              "</div>"
            ],
            "text/plain": [
              "                 Dist_bad  Dist_good       WOE\n",
              "CNT_FAM_MEMBERS                               \n",
              "5.0              0.022472   0.011100 -0.705308\n",
              "1.0              0.269663   0.189196 -0.354390\n",
              "3.0              0.168539   0.167242 -0.007726\n",
              "2.0              0.494382   0.547361  0.101799\n",
              "4.0              0.044944   0.083374  0.617929\n",
              "6.0              0.000000   0.001233       inf\n",
              "7.0              0.000000   0.000247       inf\n",
              "9.0              0.000000   0.000247       inf"
            ]
          },
          "execution_count": 72,
          "metadata": {},
          "output_type": "execute_result"
        }
      ],
      "source": [
        "[WOE, IV] = WOE_cal(df_labeled,\"CNT_FAM_MEMBERS\")\n",
        "print(\"Information value (IV):\", IV)\n",
        "WOE.sort_values(\"WOE\")"
      ]
    },
    {
      "cell_type": "markdown",
      "id": "20b2835c",
      "metadata": {
        "papermill": {
          "duration": 0.056063,
          "end_time": "2023-08-17T06:40:33.166165",
          "exception": false,
          "start_time": "2023-08-17T06:40:33.110102",
          "status": "completed"
        },
        "tags": [],
        "id": "20b2835c"
      },
      "source": [
        "As the logit and CNT_FAM_MEMBERS is not linear (We tested it, but not showing here). We categorize this into categorical data instead. We grouped customer who has 5 or more family together. For 1-4 family member, we group them separately according to the amount of family member."
      ]
    },
    {
      "cell_type": "code",
      "execution_count": null,
      "id": "fa85e65d",
      "metadata": {
        "execution": {
          "iopub.execute_input": "2023-08-17T06:40:33.281668Z",
          "iopub.status.busy": "2023-08-17T06:40:33.281105Z",
          "iopub.status.idle": "2023-08-17T06:40:33.287827Z",
          "shell.execute_reply": "2023-08-17T06:40:33.286430Z"
        },
        "papermill": {
          "duration": 0.06731,
          "end_time": "2023-08-17T06:40:33.290580",
          "exception": false,
          "start_time": "2023-08-17T06:40:33.223270",
          "status": "completed"
        },
        "tags": [],
        "id": "fa85e65d"
      },
      "outputs": [],
      "source": [
        "def gen_bin_fam(df):\n",
        "    # return group assigned for bin size = binSize\n",
        "    # assign data > binOver to the last group\n",
        "    binSize = 1\n",
        "    binOver = 5\n",
        "    if df < binOver:\n",
        "        return str(math.ceil(df/binSize))\n",
        "    else:\n",
        "        return str(math.ceil(binOver/binSize))"
      ]
    },
    {
      "cell_type": "code",
      "execution_count": null,
      "id": "a5d8210b",
      "metadata": {
        "execution": {
          "iopub.execute_input": "2023-08-17T06:40:33.406750Z",
          "iopub.status.busy": "2023-08-17T06:40:33.406035Z",
          "iopub.status.idle": "2023-08-17T06:40:33.417460Z",
          "shell.execute_reply": "2023-08-17T06:40:33.415933Z"
        },
        "papermill": {
          "duration": 0.072333,
          "end_time": "2023-08-17T06:40:33.420323",
          "exception": false,
          "start_time": "2023-08-17T06:40:33.347990",
          "status": "completed"
        },
        "tags": [],
        "id": "a5d8210b"
      },
      "outputs": [],
      "source": [
        "df_labeled[\"FAM_GROUP\"] = df_labeled[\"CNT_FAM_MEMBERS\"].apply(gen_bin_fam)\n",
        "df_labeled[\"FAM_GROUP\"] = df_labeled[\"FAM_GROUP\"].astype('object')"
      ]
    },
    {
      "cell_type": "code",
      "execution_count": null,
      "id": "4c8e5cde",
      "metadata": {
        "execution": {
          "iopub.execute_input": "2023-08-17T06:40:33.539960Z",
          "iopub.status.busy": "2023-08-17T06:40:33.539511Z",
          "iopub.status.idle": "2023-08-17T06:40:33.545935Z",
          "shell.execute_reply": "2023-08-17T06:40:33.545067Z"
        },
        "papermill": {
          "duration": 0.067215,
          "end_time": "2023-08-17T06:40:33.548126",
          "exception": false,
          "start_time": "2023-08-17T06:40:33.480911",
          "status": "completed"
        },
        "tags": [],
        "id": "4c8e5cde"
      },
      "outputs": [],
      "source": [
        "df_labeled= df_labeled.drop(\"CNT_FAM_MEMBERS\",axis=1)"
      ]
    },
    {
      "cell_type": "code",
      "execution_count": null,
      "id": "95c919c6",
      "metadata": {
        "execution": {
          "iopub.execute_input": "2023-08-17T06:40:33.667123Z",
          "iopub.status.busy": "2023-08-17T06:40:33.666648Z",
          "iopub.status.idle": "2023-08-17T06:40:34.230221Z",
          "shell.execute_reply": "2023-08-17T06:40:34.228941Z"
        },
        "papermill": {
          "duration": 0.62734,
          "end_time": "2023-08-17T06:40:34.232868",
          "exception": false,
          "start_time": "2023-08-17T06:40:33.605528",
          "status": "completed"
        },
        "tags": [],
        "id": "95c919c6",
        "outputId": "df19a5c1-cc1a-4682-fc63-3c819d975c56"
      },
      "outputs": [
        {
          "data": {
            "text/plain": [
              "Text(0.5, 1.0, 'Percentage of Bad Customer in each group')"
            ]
          },
          "execution_count": 76,
          "metadata": {},
          "output_type": "execute_result"
        },
        {
          "data": {
            "image/png": "[encoded data removed]",
            "text/plain": [
              "<Figure size 1000x400 with 2 Axes>"
            ]
          },
          "metadata": {},
          "output_type": "display_data"
        }
      ],
      "source": [
        "fig, ax = plt.subplots(1, 2, figsize = (10,4))\n",
        "RowPlot = \"FAM_GROUP\"\n",
        "sns.countplot(data=df_labeled, x=RowPlot,ax=ax[0],order=['1','2','3','4','5'])\n",
        "ax[0].set_title(\"Amount of customer in each group\")\n",
        "\n",
        "df_fam_percent_bad = df_labeled[[RowPlot,\"Bad_Customer\"]].groupby(RowPlot,as_index=False).mean()\n",
        "df_fam_percent_bad[\"Bad_Customer\"] = df_fam_percent_bad[\"Bad_Customer\"]*100\n",
        "sns.barplot(data=df_fam_percent_bad, x=RowPlot, y=\"Bad_Customer\", ax=ax[1])\n",
        "plt.ylabel(\"Percentage of Bad Customer\")\n",
        "ax[1].set_title(\"Percentage of Bad Customer in each group\")"
      ]
    },
    {
      "cell_type": "code",
      "execution_count": null,
      "id": "63a92ab5",
      "metadata": {
        "execution": {
          "iopub.execute_input": "2023-08-17T06:40:34.349992Z",
          "iopub.status.busy": "2023-08-17T06:40:34.349488Z",
          "iopub.status.idle": "2023-08-17T06:40:34.373195Z",
          "shell.execute_reply": "2023-08-17T06:40:34.371722Z"
        },
        "papermill": {
          "duration": 0.084992,
          "end_time": "2023-08-17T06:40:34.375857",
          "exception": false,
          "start_time": "2023-08-17T06:40:34.290865",
          "status": "completed"
        },
        "tags": [],
        "id": "63a92ab5",
        "outputId": "f15813fc-7695-47c9-a8ac-b702c6d31334"
      },
      "outputs": [
        {
          "name": "stdout",
          "output_type": "stream",
          "text": [
            "Information value (IV): 0.06307555859223359\n"
          ]
        },
        {
          "data": {
            "text/html": [
              "<div>\n",
              "<style scoped>\n",
              "    .dataframe tbody tr th:only-of-type {\n",
              "        vertical-align: middle;\n",
              "    }\n",
              "\n",
              "    .dataframe tbody tr th {\n",
              "        vertical-align: top;\n",
              "    }\n",
              "\n",
              "    .dataframe thead th {\n",
              "        text-align: right;\n",
              "    }\n",
              "</style>\n",
              "<table border=\"1\" class=\"dataframe\">\n",
              "  <thead>\n",
              "    <tr style=\"text-align: right;\">\n",
              "      <th></th>\n",
              "      <th>Dist_bad</th>\n",
              "      <th>Dist_good</th>\n",
              "      <th>WOE</th>\n",
              "    </tr>\n",
              "    <tr>\n",
              "      <th>FAM_GROUP</th>\n",
              "      <th></th>\n",
              "      <th></th>\n",
              "      <th></th>\n",
              "    </tr>\n",
              "  </thead>\n",
              "  <tbody>\n",
              "    <tr>\n",
              "      <th>5</th>\n",
              "      <td>0.022472</td>\n",
              "      <td>0.012827</td>\n",
              "      <td>-0.560726</td>\n",
              "    </tr>\n",
              "    <tr>\n",
              "      <th>1</th>\n",
              "      <td>0.269663</td>\n",
              "      <td>0.189196</td>\n",
              "      <td>-0.354390</td>\n",
              "    </tr>\n",
              "    <tr>\n",
              "      <th>3</th>\n",
              "      <td>0.168539</td>\n",
              "      <td>0.167242</td>\n",
              "      <td>-0.007726</td>\n",
              "    </tr>\n",
              "    <tr>\n",
              "      <th>2</th>\n",
              "      <td>0.494382</td>\n",
              "      <td>0.547361</td>\n",
              "      <td>0.101799</td>\n",
              "    </tr>\n",
              "    <tr>\n",
              "      <th>4</th>\n",
              "      <td>0.044944</td>\n",
              "      <td>0.083374</td>\n",
              "      <td>0.617929</td>\n",
              "    </tr>\n",
              "  </tbody>\n",
              "</table>\n",
              "</div>"
            ],
            "text/plain": [
              "           Dist_bad  Dist_good       WOE\n",
              "FAM_GROUP                               \n",
              "5          0.022472   0.012827 -0.560726\n",
              "1          0.269663   0.189196 -0.354390\n",
              "3          0.168539   0.167242 -0.007726\n",
              "2          0.494382   0.547361  0.101799\n",
              "4          0.044944   0.083374  0.617929"
            ]
          },
          "execution_count": 77,
          "metadata": {},
          "output_type": "execute_result"
        }
      ],
      "source": [
        "[WOE, IV] = WOE_cal(df_labeled,\"FAM_GROUP\")\n",
        "print(\"Information value (IV):\", IV)\n",
        "WOE.sort_values(\"WOE\")"
      ]
    },
    {
      "cell_type": "markdown",
      "id": "5c4e67d0",
      "metadata": {
        "papermill": {
          "duration": 0.057489,
          "end_time": "2023-08-17T06:40:34.490985",
          "exception": false,
          "start_time": "2023-08-17T06:40:34.433496",
          "status": "completed"
        },
        "tags": [],
        "id": "5c4e67d0"
      },
      "source": [
        "</br>\n",
        "\n",
        "\n",
        "\n",
        "\n",
        "\n",
        "### AGE"
      ]
    },
    {
      "cell_type": "code",
      "execution_count": null,
      "id": "7acc5ce3",
      "metadata": {
        "execution": {
          "iopub.execute_input": "2023-08-17T06:40:34.608789Z",
          "iopub.status.busy": "2023-08-17T06:40:34.608343Z",
          "iopub.status.idle": "2023-08-17T06:40:35.121488Z",
          "shell.execute_reply": "2023-08-17T06:40:35.120359Z"
        },
        "papermill": {
          "duration": 0.575269,
          "end_time": "2023-08-17T06:40:35.124164",
          "exception": false,
          "start_time": "2023-08-17T06:40:34.548895",
          "status": "completed"
        },
        "tags": [],
        "id": "7acc5ce3",
        "outputId": "8dd0d144-4348-4d0c-8ed4-40555aa7a6ba"
      },
      "outputs": [
        {
          "data": {
            "text/plain": [
              "<Axes: xlabel='AGE', ylabel='Count'>"
            ]
          },
          "execution_count": 78,
          "metadata": {},
          "output_type": "execute_result"
        },
        {
          "data": {
            "image/png": "[encoded data removed]",
            "text/plain": [
              "<Figure size 640x480 with 1 Axes>"
            ]
          },
          "metadata": {},
          "output_type": "display_data"
        }
      ],
      "source": [
        "sns.histplot(data=df_labeled, x=\"AGE\",bins=15)"
      ]
    },
    {
      "cell_type": "markdown",
      "id": "7891f6ed",
      "metadata": {
        "papermill": {
          "duration": 0.05798,
          "end_time": "2023-08-17T06:40:35.240116",
          "exception": false,
          "start_time": "2023-08-17T06:40:35.182136",
          "status": "completed"
        },
        "tags": [],
        "id": "7891f6ed"
      },
      "source": [
        "As the logit and AGE is not linear (We tested it, but not showing here). We categorize this into categorical data instead. We grouped customer younger than 25 years old together, and older than 65 years old together. For the customer whose age between 25 and 65 we group them with 5 year-old bin spacing."
      ]
    },
    {
      "cell_type": "code",
      "execution_count": null,
      "id": "02cb580b",
      "metadata": {
        "execution": {
          "iopub.execute_input": "2023-08-17T06:40:35.359276Z",
          "iopub.status.busy": "2023-08-17T06:40:35.358531Z",
          "iopub.status.idle": "2023-08-17T06:40:35.364781Z",
          "shell.execute_reply": "2023-08-17T06:40:35.363974Z"
        },
        "papermill": {
          "duration": 0.068888,
          "end_time": "2023-08-17T06:40:35.367129",
          "exception": false,
          "start_time": "2023-08-17T06:40:35.298241",
          "status": "completed"
        },
        "tags": [],
        "id": "02cb580b"
      },
      "outputs": [],
      "source": [
        "def gen_bin_age(df):\n",
        "    # return group assigned for bin size = binSize\n",
        "    # assign data > binOver to the last group\n",
        "    binSize = 5\n",
        "    binOver = 65\n",
        "    binMin = 25\n",
        "    if df <= binMin:\n",
        "        return str(1)\n",
        "    elif df <= binOver:\n",
        "        return str(math.ceil((df-binMin)/binSize))\n",
        "    else:\n",
        "        return str(math.ceil((binOver-binMin)/binSize))"
      ]
    },
    {
      "cell_type": "code",
      "execution_count": null,
      "id": "aabc0c42",
      "metadata": {
        "execution": {
          "iopub.execute_input": "2023-08-17T06:40:35.485829Z",
          "iopub.status.busy": "2023-08-17T06:40:35.485101Z",
          "iopub.status.idle": "2023-08-17T06:40:35.496656Z",
          "shell.execute_reply": "2023-08-17T06:40:35.495358Z"
        },
        "papermill": {
          "duration": 0.074304,
          "end_time": "2023-08-17T06:40:35.499704",
          "exception": false,
          "start_time": "2023-08-17T06:40:35.425400",
          "status": "completed"
        },
        "tags": [],
        "id": "aabc0c42"
      },
      "outputs": [],
      "source": [
        "df_labeled[\"AGE_GROUP\"] = df_labeled[\"AGE\"].apply(gen_bin_age)\n",
        "df_labeled[\"AGE_GROUP\"] = df_labeled[\"AGE_GROUP\"].astype('object')"
      ]
    },
    {
      "cell_type": "code",
      "execution_count": null,
      "id": "14acf4d0",
      "metadata": {
        "execution": {
          "iopub.execute_input": "2023-08-17T06:40:35.618885Z",
          "iopub.status.busy": "2023-08-17T06:40:35.618090Z",
          "iopub.status.idle": "2023-08-17T06:40:35.625248Z",
          "shell.execute_reply": "2023-08-17T06:40:35.623959Z"
        },
        "papermill": {
          "duration": 0.070139,
          "end_time": "2023-08-17T06:40:35.627779",
          "exception": false,
          "start_time": "2023-08-17T06:40:35.557640",
          "status": "completed"
        },
        "tags": [],
        "id": "14acf4d0"
      },
      "outputs": [],
      "source": [
        "df_labeled= df_labeled.drop(\"AGE\",axis=1)"
      ]
    },
    {
      "cell_type": "code",
      "execution_count": null,
      "id": "bf987003",
      "metadata": {
        "execution": {
          "iopub.execute_input": "2023-08-17T06:40:35.745701Z",
          "iopub.status.busy": "2023-08-17T06:40:35.745298Z",
          "iopub.status.idle": "2023-08-17T06:40:36.390519Z",
          "shell.execute_reply": "2023-08-17T06:40:36.389146Z"
        },
        "papermill": {
          "duration": 0.706869,
          "end_time": "2023-08-17T06:40:36.392862",
          "exception": false,
          "start_time": "2023-08-17T06:40:35.685993",
          "status": "completed"
        },
        "tags": [],
        "id": "bf987003",
        "outputId": "648189f6-8948-425a-e5ef-d4d1ab2f9691"
      },
      "outputs": [
        {
          "data": {
            "text/plain": [
              "Text(0.5, 1.0, 'Percentage of Bad Customer in each group')"
            ]
          },
          "execution_count": 82,
          "metadata": {},
          "output_type": "execute_result"
        },
        {
          "data": {
            "image/png": "[encoded data removed]",
            "text/plain": [
              "<Figure size 1000x400 with 2 Axes>"
            ]
          },
          "metadata": {},
          "output_type": "display_data"
        }
      ],
      "source": [
        "fig, ax = plt.subplots(1, 2, figsize = (10,4))\n",
        "RowPlot = \"AGE_GROUP\"\n",
        "sns.countplot(data=df_labeled, x=RowPlot,ax=ax[0],order=map(str,range(1,9)))\n",
        "ax[0].set_title(\"Amount of customer in each group\")\n",
        "\n",
        "df_fam_percent_bad = df_labeled[[RowPlot,\"Bad_Customer\"]].groupby(RowPlot,as_index=False).mean()\n",
        "df_fam_percent_bad[\"Bad_Customer\"] = df_fam_percent_bad[\"Bad_Customer\"]*100\n",
        "sns.barplot(data=df_fam_percent_bad, x=RowPlot, y=\"Bad_Customer\", ax=ax[1],order=map(str,range(1,9)))\n",
        "plt.ylabel(\"Percentage of Bad Customer\")\n",
        "ax[1].set_title(\"Percentage of Bad Customer in each group\")"
      ]
    },
    {
      "cell_type": "markdown",
      "id": "5e56f5d4",
      "metadata": {
        "papermill": {
          "duration": 0.058613,
          "end_time": "2023-08-17T06:40:36.511035",
          "exception": false,
          "start_time": "2023-08-17T06:40:36.452422",
          "status": "completed"
        },
        "tags": [],
        "id": "5e56f5d4"
      },
      "source": [
        "From the graph, customer age between 50-55 (group 6) has high percentage of  bad customer."
      ]
    },
    {
      "cell_type": "code",
      "execution_count": null,
      "id": "538bd3d5",
      "metadata": {
        "execution": {
          "iopub.execute_input": "2023-08-17T06:40:36.632263Z",
          "iopub.status.busy": "2023-08-17T06:40:36.631839Z",
          "iopub.status.idle": "2023-08-17T06:40:36.653431Z",
          "shell.execute_reply": "2023-08-17T06:40:36.652288Z"
        },
        "papermill": {
          "duration": 0.08523,
          "end_time": "2023-08-17T06:40:36.655746",
          "exception": false,
          "start_time": "2023-08-17T06:40:36.570516",
          "status": "completed"
        },
        "tags": [],
        "id": "538bd3d5",
        "outputId": "3e533fc3-16ac-494b-f75a-6c79a8d59a99"
      },
      "outputs": [
        {
          "name": "stdout",
          "output_type": "stream",
          "text": [
            "Information value (IV): 0.11762678798419732\n"
          ]
        },
        {
          "data": {
            "text/html": [
              "<div>\n",
              "<style scoped>\n",
              "    .dataframe tbody tr th:only-of-type {\n",
              "        vertical-align: middle;\n",
              "    }\n",
              "\n",
              "    .dataframe tbody tr th {\n",
              "        vertical-align: top;\n",
              "    }\n",
              "\n",
              "    .dataframe thead th {\n",
              "        text-align: right;\n",
              "    }\n",
              "</style>\n",
              "<table border=\"1\" class=\"dataframe\">\n",
              "  <thead>\n",
              "    <tr style=\"text-align: right;\">\n",
              "      <th></th>\n",
              "      <th>Dist_bad</th>\n",
              "      <th>Dist_good</th>\n",
              "      <th>WOE</th>\n",
              "    </tr>\n",
              "    <tr>\n",
              "      <th>AGE_GROUP</th>\n",
              "      <th></th>\n",
              "      <th></th>\n",
              "      <th></th>\n",
              "    </tr>\n",
              "  </thead>\n",
              "  <tbody>\n",
              "    <tr>\n",
              "      <th>1</th>\n",
              "      <td>0.134831</td>\n",
              "      <td>0.141589</td>\n",
              "      <td>0.048900</td>\n",
              "    </tr>\n",
              "    <tr>\n",
              "      <th>2</th>\n",
              "      <td>0.089888</td>\n",
              "      <td>0.136655</td>\n",
              "      <td>0.418900</td>\n",
              "    </tr>\n",
              "    <tr>\n",
              "      <th>3</th>\n",
              "      <td>0.089888</td>\n",
              "      <td>0.143562</td>\n",
              "      <td>0.468206</td>\n",
              "    </tr>\n",
              "    <tr>\n",
              "      <th>4</th>\n",
              "      <td>0.146067</td>\n",
              "      <td>0.125062</td>\n",
              "      <td>-0.155261</td>\n",
              "    </tr>\n",
              "    <tr>\n",
              "      <th>5</th>\n",
              "      <td>0.134831</td>\n",
              "      <td>0.114455</td>\n",
              "      <td>-0.163845</td>\n",
              "    </tr>\n",
              "    <tr>\n",
              "      <th>6</th>\n",
              "      <td>0.213483</td>\n",
              "      <td>0.115195</td>\n",
              "      <td>-0.616933</td>\n",
              "    </tr>\n",
              "    <tr>\n",
              "      <th>7</th>\n",
              "      <td>0.101124</td>\n",
              "      <td>0.122102</td>\n",
              "      <td>0.188510</td>\n",
              "    </tr>\n",
              "    <tr>\n",
              "      <th>8</th>\n",
              "      <td>0.089888</td>\n",
              "      <td>0.101381</td>\n",
              "      <td>0.120329</td>\n",
              "    </tr>\n",
              "  </tbody>\n",
              "</table>\n",
              "</div>"
            ],
            "text/plain": [
              "           Dist_bad  Dist_good       WOE\n",
              "AGE_GROUP                               \n",
              "1          0.134831   0.141589  0.048900\n",
              "2          0.089888   0.136655  0.418900\n",
              "3          0.089888   0.143562  0.468206\n",
              "4          0.146067   0.125062 -0.155261\n",
              "5          0.134831   0.114455 -0.163845\n",
              "6          0.213483   0.115195 -0.616933\n",
              "7          0.101124   0.122102  0.188510\n",
              "8          0.089888   0.101381  0.120329"
            ]
          },
          "execution_count": 83,
          "metadata": {},
          "output_type": "execute_result"
        }
      ],
      "source": [
        "[WOE, IV] = WOE_cal(df_labeled,\"AGE_GROUP\")\n",
        "print(\"Information value (IV):\", IV)\n",
        "WOE"
      ]
    },
    {
      "cell_type": "markdown",
      "id": "a4d4a89a",
      "metadata": {
        "papermill": {
          "duration": 0.058417,
          "end_time": "2023-08-17T06:40:36.773568",
          "exception": false,
          "start_time": "2023-08-17T06:40:36.715151",
          "status": "completed"
        },
        "tags": [],
        "id": "a4d4a89a"
      },
      "source": [
        "</br>\n",
        "\n",
        "\n",
        "\n",
        "\n",
        "\n",
        "### AMT_INCOME_TOTAL"
      ]
    },
    {
      "cell_type": "code",
      "execution_count": null,
      "id": "770db113",
      "metadata": {
        "execution": {
          "iopub.execute_input": "2023-08-17T06:40:36.894251Z",
          "iopub.status.busy": "2023-08-17T06:40:36.893023Z",
          "iopub.status.idle": "2023-08-17T06:40:37.244509Z",
          "shell.execute_reply": "2023-08-17T06:40:37.243303Z"
        },
        "papermill": {
          "duration": 0.414795,
          "end_time": "2023-08-17T06:40:37.247013",
          "exception": false,
          "start_time": "2023-08-17T06:40:36.832218",
          "status": "completed"
        },
        "tags": [],
        "id": "770db113",
        "outputId": "da3bee78-880e-41dd-c8b7-bc9221ef98b2"
      },
      "outputs": [
        {
          "data": {
            "text/plain": [
              "<Axes: xlabel='AMT_INCOME_TOTAL', ylabel='Count'>"
            ]
          },
          "execution_count": 84,
          "metadata": {},
          "output_type": "execute_result"
        },
        {
          "data": {
            "image/png": "[encoded data removed]",
            "text/plain": [
              "<Figure size 640x480 with 1 Axes>"
            ]
          },
          "metadata": {},
          "output_type": "display_data"
        }
      ],
      "source": [
        "sns.histplot(data=df_labeled, x=\"AMT_INCOME_TOTAL\",bins=20)"
      ]
    },
    {
      "cell_type": "markdown",
      "id": "55112883",
      "metadata": {
        "papermill": {
          "duration": 0.059183,
          "end_time": "2023-08-17T06:40:37.366454",
          "exception": false,
          "start_time": "2023-08-17T06:40:37.307271",
          "status": "completed"
        },
        "tags": [],
        "id": "55112883"
      },
      "source": [
        "As the logit and AMT_INCOME_TOTAL is not linear (We tested it, but not showing here). We categorize this into categorical data instead. We grouped customer having income less than 80000 together, and greater than 320000 together. For the customer haveing income between 40000 and 320000 we group them with 40000 d bin spacing."
      ]
    },
    {
      "cell_type": "code",
      "execution_count": null,
      "id": "b9ba6255",
      "metadata": {
        "execution": {
          "iopub.execute_input": "2023-08-17T06:40:37.488053Z",
          "iopub.status.busy": "2023-08-17T06:40:37.487608Z",
          "iopub.status.idle": "2023-08-17T06:40:37.494807Z",
          "shell.execute_reply": "2023-08-17T06:40:37.493592Z"
        },
        "papermill": {
          "duration": 0.071425,
          "end_time": "2023-08-17T06:40:37.497171",
          "exception": false,
          "start_time": "2023-08-17T06:40:37.425746",
          "status": "completed"
        },
        "tags": [],
        "id": "b9ba6255"
      },
      "outputs": [],
      "source": [
        "def gen_bin_income(df):\n",
        "    # return group assigned for bin size = binSize\n",
        "    # assign data > binOver to the last group\n",
        "    binSize =40000\n",
        "    binOver = 320000\n",
        "    binMin = 80000\n",
        "    if df <= binMin:\n",
        "        return str(1)\n",
        "    elif df <= binOver:\n",
        "        return str(math.ceil((df-binMin)/binSize))\n",
        "    else:\n",
        "        return str(math.ceil((binOver-binMin)/binSize))"
      ]
    },
    {
      "cell_type": "code",
      "execution_count": null,
      "id": "f271232f",
      "metadata": {
        "execution": {
          "iopub.execute_input": "2023-08-17T06:40:37.619845Z",
          "iopub.status.busy": "2023-08-17T06:40:37.619114Z",
          "iopub.status.idle": "2023-08-17T06:40:37.632627Z",
          "shell.execute_reply": "2023-08-17T06:40:37.631398Z"
        },
        "papermill": {
          "duration": 0.077267,
          "end_time": "2023-08-17T06:40:37.635417",
          "exception": false,
          "start_time": "2023-08-17T06:40:37.558150",
          "status": "completed"
        },
        "tags": [],
        "id": "f271232f"
      },
      "outputs": [],
      "source": [
        "df_labeled[\"AMT_INCOME_TOTAL_GROUP\"] = df_labeled[\"AMT_INCOME_TOTAL\"].apply(gen_bin_income)\n",
        "df_labeled[\"AMT_INCOME_TOTAL_GROUP\"] = df_labeled[\"AMT_INCOME_TOTAL_GROUP\"].astype('object')\n",
        "df_labeled= df_labeled.drop(\"AMT_INCOME_TOTAL\",axis=1)"
      ]
    },
    {
      "cell_type": "code",
      "execution_count": null,
      "id": "6e214e87",
      "metadata": {
        "execution": {
          "iopub.execute_input": "2023-08-17T06:40:37.764026Z",
          "iopub.status.busy": "2023-08-17T06:40:37.763146Z",
          "iopub.status.idle": "2023-08-17T06:40:38.358815Z",
          "shell.execute_reply": "2023-08-17T06:40:38.357905Z"
        },
        "papermill": {
          "duration": 0.659162,
          "end_time": "2023-08-17T06:40:38.361189",
          "exception": false,
          "start_time": "2023-08-17T06:40:37.702027",
          "status": "completed"
        },
        "tags": [],
        "id": "6e214e87",
        "outputId": "2f37ff7f-41a4-44f3-cf74-334d0324d1e1"
      },
      "outputs": [
        {
          "data": {
            "text/plain": [
              "Text(0.5, 1.0, 'Percentage of Bad Customer in each group')"
            ]
          },
          "execution_count": 87,
          "metadata": {},
          "output_type": "execute_result"
        },
        {
          "data": {
            "image/png": "[encoded data removed]",
            "text/plain": [
              "<Figure size 1000x400 with 2 Axes>"
            ]
          },
          "metadata": {},
          "output_type": "display_data"
        }
      ],
      "source": [
        "fig, ax = plt.subplots(1, 2, figsize = (10,4))\n",
        "RowPlot = \"AMT_INCOME_TOTAL_GROUP\"\n",
        "sns.countplot(data=df_labeled, x=RowPlot,ax=ax[0],order=['1','2','3','4','5','6'])\n",
        "ax[0].set_title(\"Amount of customer in each group\")\n",
        "\n",
        "df_fam_percent_bad = df_labeled[[RowPlot,\"Bad_Customer\"]].groupby(RowPlot,as_index=False).mean()\n",
        "df_fam_percent_bad[\"Bad_Customer\"] = df_fam_percent_bad[\"Bad_Customer\"]*100\n",
        "sns.barplot(data=df_fam_percent_bad, x=RowPlot, y=\"Bad_Customer\", ax=ax[1])\n",
        "plt.ylabel(\"Percentage of Bad Customer\")\n",
        "ax[1].set_title(\"Percentage of Bad Customer in each group\")"
      ]
    },
    {
      "cell_type": "markdown",
      "id": "d90ec7e5",
      "metadata": {
        "papermill": {
          "duration": 0.060048,
          "end_time": "2023-08-17T06:40:38.482409",
          "exception": false,
          "start_time": "2023-08-17T06:40:38.422361",
          "status": "completed"
        },
        "tags": [],
        "id": "d90ec7e5"
      },
      "source": [
        "Surprisingly, the group that has highest precentage of bad customer is group 6 or the customer who has income over 320000"
      ]
    },
    {
      "cell_type": "code",
      "execution_count": null,
      "id": "79da4b8b",
      "metadata": {
        "execution": {
          "iopub.execute_input": "2023-08-17T06:40:38.605688Z",
          "iopub.status.busy": "2023-08-17T06:40:38.604684Z",
          "iopub.status.idle": "2023-08-17T06:40:38.627490Z",
          "shell.execute_reply": "2023-08-17T06:40:38.626260Z"
        },
        "papermill": {
          "duration": 0.087,
          "end_time": "2023-08-17T06:40:38.630259",
          "exception": false,
          "start_time": "2023-08-17T06:40:38.543259",
          "status": "completed"
        },
        "tags": [],
        "id": "79da4b8b",
        "outputId": "a6d18478-6cee-4113-d87c-234252ac734b"
      },
      "outputs": [
        {
          "name": "stdout",
          "output_type": "stream",
          "text": [
            "Information value (IV): 0.10537685224854373\n"
          ]
        },
        {
          "data": {
            "text/html": [
              "<div>\n",
              "<style scoped>\n",
              "    .dataframe tbody tr th:only-of-type {\n",
              "        vertical-align: middle;\n",
              "    }\n",
              "\n",
              "    .dataframe tbody tr th {\n",
              "        vertical-align: top;\n",
              "    }\n",
              "\n",
              "    .dataframe thead th {\n",
              "        text-align: right;\n",
              "    }\n",
              "</style>\n",
              "<table border=\"1\" class=\"dataframe\">\n",
              "  <thead>\n",
              "    <tr style=\"text-align: right;\">\n",
              "      <th></th>\n",
              "      <th>Dist_bad</th>\n",
              "      <th>Dist_good</th>\n",
              "      <th>WOE</th>\n",
              "    </tr>\n",
              "    <tr>\n",
              "      <th>AMT_INCOME_TOTAL_GROUP</th>\n",
              "      <th></th>\n",
              "      <th></th>\n",
              "      <th></th>\n",
              "    </tr>\n",
              "  </thead>\n",
              "  <tbody>\n",
              "    <tr>\n",
              "      <th>1</th>\n",
              "      <td>0.235955</td>\n",
              "      <td>0.265910</td>\n",
              "      <td>0.119517</td>\n",
              "    </tr>\n",
              "    <tr>\n",
              "      <th>2</th>\n",
              "      <td>0.235955</td>\n",
              "      <td>0.255303</td>\n",
              "      <td>0.078811</td>\n",
              "    </tr>\n",
              "    <tr>\n",
              "      <th>3</th>\n",
              "      <td>0.112360</td>\n",
              "      <td>0.127035</td>\n",
              "      <td>0.122759</td>\n",
              "    </tr>\n",
              "    <tr>\n",
              "      <th>4</th>\n",
              "      <td>0.191011</td>\n",
              "      <td>0.155895</td>\n",
              "      <td>-0.203147</td>\n",
              "    </tr>\n",
              "    <tr>\n",
              "      <th>5</th>\n",
              "      <td>0.033708</td>\n",
              "      <td>0.085101</td>\n",
              "      <td>0.926109</td>\n",
              "    </tr>\n",
              "    <tr>\n",
              "      <th>6</th>\n",
              "      <td>0.191011</td>\n",
              "      <td>0.110755</td>\n",
              "      <td>-0.545013</td>\n",
              "    </tr>\n",
              "  </tbody>\n",
              "</table>\n",
              "</div>"
            ],
            "text/plain": [
              "                        Dist_bad  Dist_good       WOE\n",
              "AMT_INCOME_TOTAL_GROUP                               \n",
              "1                       0.235955   0.265910  0.119517\n",
              "2                       0.235955   0.255303  0.078811\n",
              "3                       0.112360   0.127035  0.122759\n",
              "4                       0.191011   0.155895 -0.203147\n",
              "5                       0.033708   0.085101  0.926109\n",
              "6                       0.191011   0.110755 -0.545013"
            ]
          },
          "execution_count": 88,
          "metadata": {},
          "output_type": "execute_result"
        }
      ],
      "source": [
        "[WOE, IV] = WOE_cal(df_labeled,\"AMT_INCOME_TOTAL_GROUP\")\n",
        "print(\"Information value (IV):\", IV)\n",
        "WOE"
      ]
    },
    {
      "cell_type": "markdown",
      "id": "e77726ba",
      "metadata": {
        "papermill": {
          "duration": 0.060189,
          "end_time": "2023-08-17T06:40:38.752575",
          "exception": false,
          "start_time": "2023-08-17T06:40:38.692386",
          "status": "completed"
        },
        "tags": [],
        "id": "e77726ba"
      },
      "source": [
        "</br>\n",
        "\n",
        "\n",
        "\n",
        "\n",
        "\n",
        "### YEAR_EMPLOYED"
      ]
    },
    {
      "cell_type": "markdown",
      "id": "2df09f8e",
      "metadata": {
        "papermill": {
          "duration": 0.060551,
          "end_time": "2023-08-17T06:40:38.874604",
          "exception": false,
          "start_time": "2023-08-17T06:40:38.814053",
          "status": "completed"
        },
        "tags": [],
        "id": "2df09f8e"
      },
      "source": [
        "For year employed, we could not continue with continuous data as year employed for pensioner is undefined. Hence we group year employed to be a categorical data."
      ]
    },
    {
      "cell_type": "code",
      "execution_count": null,
      "id": "f039634f",
      "metadata": {
        "execution": {
          "iopub.execute_input": "2023-08-17T06:40:38.997642Z",
          "iopub.status.busy": "2023-08-17T06:40:38.997234Z",
          "iopub.status.idle": "2023-08-17T06:40:39.704901Z",
          "shell.execute_reply": "2023-08-17T06:40:39.703722Z"
        },
        "papermill": {
          "duration": 0.772451,
          "end_time": "2023-08-17T06:40:39.707630",
          "exception": false,
          "start_time": "2023-08-17T06:40:38.935179",
          "status": "completed"
        },
        "tags": [],
        "id": "f039634f",
        "outputId": "11fb2578-41ff-41bc-c296-7c5466cc39fa"
      },
      "outputs": [
        {
          "data": {
            "text/plain": [
              "<Axes: xlabel='count', ylabel='YEAR_EMPLOYED'>"
            ]
          },
          "execution_count": 89,
          "metadata": {},
          "output_type": "execute_result"
        },
        {
          "data": {
            "image/png": "[encoded data removed]",
            "text/plain": [
              "<Figure size 1200x1200 with 1 Axes>"
            ]
          },
          "metadata": {},
          "output_type": "display_data"
        }
      ],
      "source": [
        "# Show distribution of the data\n",
        "fig, ax = plt.subplots(figsize=(12, 12))\n",
        "sns.countplot(data=df_labeled,y=\"YEAR_EMPLOYED\")"
      ]
    },
    {
      "cell_type": "code",
      "execution_count": null,
      "id": "ea86477e",
      "metadata": {
        "execution": {
          "iopub.execute_input": "2023-08-17T06:40:39.834641Z",
          "iopub.status.busy": "2023-08-17T06:40:39.834234Z",
          "iopub.status.idle": "2023-08-17T06:40:40.583859Z",
          "shell.execute_reply": "2023-08-17T06:40:40.582592Z"
        },
        "papermill": {
          "duration": 0.816994,
          "end_time": "2023-08-17T06:40:40.586811",
          "exception": false,
          "start_time": "2023-08-17T06:40:39.769817",
          "status": "completed"
        },
        "tags": [],
        "id": "ea86477e",
        "outputId": "33becc5b-4e52-46c1-abfb-9e6fc962f038"
      },
      "outputs": [
        {
          "data": {
            "text/plain": [
              "<Axes: xlabel='Bad_Customer', ylabel='YEAR_EMPLOYED'>"
            ]
          },
          "execution_count": 90,
          "metadata": {},
          "output_type": "execute_result"
        },
        {
          "data": {
            "image/png": "[encoded data removed]",
            "text/plain": [
              "<Figure size 1200x1200 with 1 Axes>"
            ]
          },
          "metadata": {},
          "output_type": "display_data"
        }
      ],
      "source": [
        "# Percentage of bad customer for each year employed`\n",
        "fig, ax = plt.subplots(figsize=(12, 12))\n",
        "df_year_percent_bad = df_labeled[[\"YEAR_EMPLOYED\",\"Bad_Customer\"]].groupby(\"YEAR_EMPLOYED\",as_index=False).mean()\n",
        "df_year_percent_bad[\"Bad_Customer\"] = df_year_percent_bad[\"Bad_Customer\"]*100\n",
        "sns.barplot(data=df_year_percent_bad, y=\"YEAR_EMPLOYED\", x=\"Bad_Customer\",orient='h')"
      ]
    },
    {
      "cell_type": "markdown",
      "id": "fa0fb2c6",
      "metadata": {
        "papermill": {
          "duration": 0.066076,
          "end_time": "2023-08-17T06:40:40.715718",
          "exception": false,
          "start_time": "2023-08-17T06:40:40.649642",
          "status": "completed"
        },
        "tags": [],
        "id": "fa0fb2c6"
      },
      "source": [
        "We categorize this into categorical data instead. For pensioner  we separatly grouped them together. We grouped customer have been working greater than 16 years together. For the customers have been working between 2 and 16 we group them with 2 year bin spacing."
      ]
    },
    {
      "cell_type": "code",
      "execution_count": null,
      "id": "37e0cd55",
      "metadata": {
        "execution": {
          "iopub.execute_input": "2023-08-17T06:40:40.844276Z",
          "iopub.status.busy": "2023-08-17T06:40:40.843809Z",
          "iopub.status.idle": "2023-08-17T06:40:40.851178Z",
          "shell.execute_reply": "2023-08-17T06:40:40.850031Z"
        },
        "papermill": {
          "duration": 0.075336,
          "end_time": "2023-08-17T06:40:40.853437",
          "exception": false,
          "start_time": "2023-08-17T06:40:40.778101",
          "status": "completed"
        },
        "tags": [],
        "id": "37e0cd55"
      },
      "outputs": [],
      "source": [
        "def gen_bin_year(df):\n",
        "    # return group assigned for bin size = binSize\n",
        "    # assign data > binOver to the last group\n",
        "    binSize = 2\n",
        "    binOver = 16\n",
        "    if df == -1000:\n",
        "        return str(1)\n",
        "    elif df <= binOver:\n",
        "        return str(math.ceil(df/binSize) + 1)\n",
        "    else:\n",
        "        return str(math.ceil(binOver/binSize) + 1)"
      ]
    },
    {
      "cell_type": "code",
      "execution_count": null,
      "id": "ccf6e73d",
      "metadata": {
        "execution": {
          "iopub.execute_input": "2023-08-17T06:40:40.984084Z",
          "iopub.status.busy": "2023-08-17T06:40:40.983610Z",
          "iopub.status.idle": "2023-08-17T06:40:40.994732Z",
          "shell.execute_reply": "2023-08-17T06:40:40.993385Z"
        },
        "papermill": {
          "duration": 0.078122,
          "end_time": "2023-08-17T06:40:40.997311",
          "exception": false,
          "start_time": "2023-08-17T06:40:40.919189",
          "status": "completed"
        },
        "tags": [],
        "id": "ccf6e73d"
      },
      "outputs": [],
      "source": [
        "df_labeled[\"YEAR_EMPLOYED_GROUP\"] = df_labeled[\"YEAR_EMPLOYED\"].apply(gen_bin_year)"
      ]
    },
    {
      "cell_type": "code",
      "execution_count": null,
      "id": "f7c88e4e",
      "metadata": {
        "execution": {
          "iopub.execute_input": "2023-08-17T06:40:41.126619Z",
          "iopub.status.busy": "2023-08-17T06:40:41.126212Z",
          "iopub.status.idle": "2023-08-17T06:40:41.769585Z",
          "shell.execute_reply": "2023-08-17T06:40:41.768339Z"
        },
        "papermill": {
          "duration": 0.710633,
          "end_time": "2023-08-17T06:40:41.772440",
          "exception": false,
          "start_time": "2023-08-17T06:40:41.061807",
          "status": "completed"
        },
        "tags": [],
        "id": "f7c88e4e",
        "outputId": "523e6487-ddfb-4cfb-c246-92eeb166377e"
      },
      "outputs": [
        {
          "data": {
            "text/plain": [
              "Text(0.5, 1.0, 'Percentage of Bad Customer in each group')"
            ]
          },
          "execution_count": 93,
          "metadata": {},
          "output_type": "execute_result"
        },
        {
          "data": {
            "image/png": "[encoded data removed]",
            "text/plain": [
              "<Figure size 1000x400 with 2 Axes>"
            ]
          },
          "metadata": {},
          "output_type": "display_data"
        }
      ],
      "source": [
        "fig, ax = plt.subplots(1, 2, figsize = (10,4))\n",
        "RowPlot = \"YEAR_EMPLOYED_GROUP\"\n",
        "sns.countplot(data=df_labeled, x=RowPlot,ax=ax[0],order=map(str,range(1,10)))\n",
        "ax[0].set_title(\"Amount of customer in each group\")\n",
        "\n",
        "df_fam_percent_bad = df_labeled[[RowPlot,\"Bad_Customer\"]].groupby(RowPlot,as_index=False).mean()\n",
        "df_fam_percent_bad[\"Bad_Customer\"] = df_fam_percent_bad[\"Bad_Customer\"]*100\n",
        "sns.barplot(data=df_fam_percent_bad, x=RowPlot, y=\"Bad_Customer\", ax=ax[1])\n",
        "plt.ylabel(\"Percentage of Bad Customer\")\n",
        "ax[1].set_title(\"Percentage of Bad Customer in each group\")"
      ]
    },
    {
      "cell_type": "markdown",
      "id": "d3cd33eb",
      "metadata": {
        "papermill": {
          "duration": 0.064191,
          "end_time": "2023-08-17T06:40:41.900452",
          "exception": false,
          "start_time": "2023-08-17T06:40:41.836261",
          "status": "completed"
        },
        "tags": [],
        "id": "d3cd33eb"
      },
      "source": [
        "It is clear that customer who have been working between 3-5 years (group 2 and 3) have the highest percentage of bad customers."
      ]
    },
    {
      "cell_type": "code",
      "execution_count": null,
      "id": "d5c6059d",
      "metadata": {
        "execution": {
          "iopub.execute_input": "2023-08-17T06:40:42.031204Z",
          "iopub.status.busy": "2023-08-17T06:40:42.030756Z",
          "iopub.status.idle": "2023-08-17T06:40:42.054273Z",
          "shell.execute_reply": "2023-08-17T06:40:42.052677Z"
        },
        "papermill": {
          "duration": 0.092229,
          "end_time": "2023-08-17T06:40:42.056837",
          "exception": false,
          "start_time": "2023-08-17T06:40:41.964608",
          "status": "completed"
        },
        "tags": [],
        "id": "d5c6059d",
        "outputId": "e280c0e1-fa3c-4e02-aa4e-14e7c1b9dd9a"
      },
      "outputs": [
        {
          "name": "stdout",
          "output_type": "stream",
          "text": [
            "Information value (IV): 0.18326788992276247\n"
          ]
        },
        {
          "data": {
            "text/html": [
              "<div>\n",
              "<style scoped>\n",
              "    .dataframe tbody tr th:only-of-type {\n",
              "        vertical-align: middle;\n",
              "    }\n",
              "\n",
              "    .dataframe tbody tr th {\n",
              "        vertical-align: top;\n",
              "    }\n",
              "\n",
              "    .dataframe thead th {\n",
              "        text-align: right;\n",
              "    }\n",
              "</style>\n",
              "<table border=\"1\" class=\"dataframe\">\n",
              "  <thead>\n",
              "    <tr style=\"text-align: right;\">\n",
              "      <th></th>\n",
              "      <th>Dist_bad</th>\n",
              "      <th>Dist_good</th>\n",
              "      <th>WOE</th>\n",
              "    </tr>\n",
              "    <tr>\n",
              "      <th>YEAR_EMPLOYED_GROUP</th>\n",
              "      <th></th>\n",
              "      <th></th>\n",
              "      <th></th>\n",
              "    </tr>\n",
              "  </thead>\n",
              "  <tbody>\n",
              "    <tr>\n",
              "      <th>1</th>\n",
              "      <td>0.179775</td>\n",
              "      <td>0.211889</td>\n",
              "      <td>0.164357</td>\n",
              "    </tr>\n",
              "    <tr>\n",
              "      <th>2</th>\n",
              "      <td>0.213483</td>\n",
              "      <td>0.144795</td>\n",
              "      <td>-0.388237</td>\n",
              "    </tr>\n",
              "    <tr>\n",
              "      <th>3</th>\n",
              "      <td>0.258427</td>\n",
              "      <td>0.148249</td>\n",
              "      <td>-0.555722</td>\n",
              "    </tr>\n",
              "    <tr>\n",
              "      <th>4</th>\n",
              "      <td>0.067416</td>\n",
              "      <td>0.130242</td>\n",
              "      <td>0.658514</td>\n",
              "    </tr>\n",
              "    <tr>\n",
              "      <th>5</th>\n",
              "      <td>0.078652</td>\n",
              "      <td>0.098668</td>\n",
              "      <td>0.226731</td>\n",
              "    </tr>\n",
              "    <tr>\n",
              "      <th>6</th>\n",
              "      <td>0.033708</td>\n",
              "      <td>0.081401</td>\n",
              "      <td>0.881657</td>\n",
              "    </tr>\n",
              "    <tr>\n",
              "      <th>7</th>\n",
              "      <td>0.044944</td>\n",
              "      <td>0.047854</td>\n",
              "      <td>0.062741</td>\n",
              "    </tr>\n",
              "    <tr>\n",
              "      <th>8</th>\n",
              "      <td>0.033708</td>\n",
              "      <td>0.033300</td>\n",
              "      <td>-0.012160</td>\n",
              "    </tr>\n",
              "    <tr>\n",
              "      <th>9</th>\n",
              "      <td>0.089888</td>\n",
              "      <td>0.103601</td>\n",
              "      <td>0.141990</td>\n",
              "    </tr>\n",
              "  </tbody>\n",
              "</table>\n",
              "</div>"
            ],
            "text/plain": [
              "                     Dist_bad  Dist_good       WOE\n",
              "YEAR_EMPLOYED_GROUP                               \n",
              "1                    0.179775   0.211889  0.164357\n",
              "2                    0.213483   0.144795 -0.388237\n",
              "3                    0.258427   0.148249 -0.555722\n",
              "4                    0.067416   0.130242  0.658514\n",
              "5                    0.078652   0.098668  0.226731\n",
              "6                    0.033708   0.081401  0.881657\n",
              "7                    0.044944   0.047854  0.062741\n",
              "8                    0.033708   0.033300 -0.012160\n",
              "9                    0.089888   0.103601  0.141990"
            ]
          },
          "execution_count": 94,
          "metadata": {},
          "output_type": "execute_result"
        }
      ],
      "source": [
        "[WOE, IV] = WOE_cal(df_labeled,\"YEAR_EMPLOYED_GROUP\")\n",
        "print(\"Information value (IV):\", IV)\n",
        "WOE"
      ]
    },
    {
      "cell_type": "code",
      "execution_count": null,
      "id": "6d169b3c",
      "metadata": {
        "execution": {
          "iopub.execute_input": "2023-08-17T06:40:42.188012Z",
          "iopub.status.busy": "2023-08-17T06:40:42.187531Z",
          "iopub.status.idle": "2023-08-17T06:40:42.196424Z",
          "shell.execute_reply": "2023-08-17T06:40:42.195273Z"
        },
        "papermill": {
          "duration": 0.077191,
          "end_time": "2023-08-17T06:40:42.198841",
          "exception": false,
          "start_time": "2023-08-17T06:40:42.121650",
          "status": "completed"
        },
        "tags": [],
        "id": "6d169b3c"
      },
      "outputs": [],
      "source": [
        "df_labeled= df_labeled.drop(\"YEAR_EMPLOYED\",axis=1)\n",
        "df_labeled[\"YEAR_EMPLOYED_GROUP\"] = df_labeled[\"YEAR_EMPLOYED_GROUP\"].astype('object')"
      ]
    },
    {
      "cell_type": "markdown",
      "id": "4254aa64",
      "metadata": {
        "papermill": {
          "duration": 0.065379,
          "end_time": "2023-08-17T06:40:42.328538",
          "exception": false,
          "start_time": "2023-08-17T06:40:42.263159",
          "status": "completed"
        },
        "tags": [],
        "id": "4254aa64"
      },
      "source": [
        "</br>\n",
        "\n",
        "\n",
        "## Modeling ==========="
      ]
    },
    {
      "cell_type": "code",
      "execution_count": null,
      "id": "88f2818c",
      "metadata": {
        "execution": {
          "iopub.execute_input": "2023-08-17T06:40:42.458932Z",
          "iopub.status.busy": "2023-08-17T06:40:42.458479Z",
          "iopub.status.idle": "2023-08-17T06:40:42.473958Z",
          "shell.execute_reply": "2023-08-17T06:40:42.472597Z"
        },
        "papermill": {
          "duration": 0.083303,
          "end_time": "2023-08-17T06:40:42.476383",
          "exception": false,
          "start_time": "2023-08-17T06:40:42.393080",
          "status": "completed"
        },
        "tags": [],
        "id": "88f2818c",
        "outputId": "f86069e2-a3e6-46ed-9c9e-6435f0c9056f"
      },
      "outputs": [
        {
          "data": {
            "text/html": [
              "<div>\n",
              "<style scoped>\n",
              "    .dataframe tbody tr th:only-of-type {\n",
              "        vertical-align: middle;\n",
              "    }\n",
              "\n",
              "    .dataframe tbody tr th {\n",
              "        vertical-align: top;\n",
              "    }\n",
              "\n",
              "    .dataframe thead th {\n",
              "        text-align: right;\n",
              "    }\n",
              "</style>\n",
              "<table border=\"1\" class=\"dataframe\">\n",
              "  <thead>\n",
              "    <tr style=\"text-align: right;\">\n",
              "      <th></th>\n",
              "      <th>NAME_INCOME_TYPE</th>\n",
              "      <th>NAME_FAMILY_STATUS</th>\n",
              "      <th>OCCUPATION_TYPE</th>\n",
              "      <th>Bad_Customer</th>\n",
              "      <th>FAM_GROUP</th>\n",
              "      <th>AGE_GROUP</th>\n",
              "      <th>AMT_INCOME_TOTAL_GROUP</th>\n",
              "      <th>YEAR_EMPLOYED_GROUP</th>\n",
              "    </tr>\n",
              "  </thead>\n",
              "  <tbody>\n",
              "    <tr>\n",
              "      <th>0</th>\n",
              "      <td>Working</td>\n",
              "      <td>Civil marriage</td>\n",
              "      <td>G5</td>\n",
              "      <td>0</td>\n",
              "      <td>2</td>\n",
              "      <td>3</td>\n",
              "      <td>1</td>\n",
              "      <td>8</td>\n",
              "    </tr>\n",
              "    <tr>\n",
              "      <th>1</th>\n",
              "      <td>Pensioner</td>\n",
              "      <td>Married</td>\n",
              "      <td>G4</td>\n",
              "      <td>0</td>\n",
              "      <td>2</td>\n",
              "      <td>6</td>\n",
              "      <td>1</td>\n",
              "      <td>1</td>\n",
              "    </tr>\n",
              "    <tr>\n",
              "      <th>2</th>\n",
              "      <td>Working</td>\n",
              "      <td>Married</td>\n",
              "      <td>G5</td>\n",
              "      <td>0</td>\n",
              "      <td>2</td>\n",
              "      <td>3</td>\n",
              "      <td>1</td>\n",
              "      <td>2</td>\n",
              "    </tr>\n",
              "    <tr>\n",
              "      <th>3</th>\n",
              "      <td>Pensioner</td>\n",
              "      <td>Married</td>\n",
              "      <td>G4</td>\n",
              "      <td>0</td>\n",
              "      <td>2</td>\n",
              "      <td>8</td>\n",
              "      <td>1</td>\n",
              "      <td>1</td>\n",
              "    </tr>\n",
              "    <tr>\n",
              "      <th>4</th>\n",
              "      <td>Pensioner</td>\n",
              "      <td>Single / not married</td>\n",
              "      <td>G4</td>\n",
              "      <td>0</td>\n",
              "      <td>1</td>\n",
              "      <td>7</td>\n",
              "      <td>1</td>\n",
              "      <td>1</td>\n",
              "    </tr>\n",
              "  </tbody>\n",
              "</table>\n",
              "</div>"
            ],
            "text/plain": [
              "  NAME_INCOME_TYPE    NAME_FAMILY_STATUS OCCUPATION_TYPE  Bad_Customer  \\\n",
              "0          Working        Civil marriage              G5             0   \n",
              "1        Pensioner               Married              G4             0   \n",
              "2          Working               Married              G5             0   \n",
              "3        Pensioner               Married              G4             0   \n",
              "4        Pensioner  Single / not married              G4             0   \n",
              "\n",
              "  FAM_GROUP AGE_GROUP AMT_INCOME_TOTAL_GROUP YEAR_EMPLOYED_GROUP  \n",
              "0         2         3                      1                   8  \n",
              "1         2         6                      1                   1  \n",
              "2         2         3                      1                   2  \n",
              "3         2         8                      1                   1  \n",
              "4         1         7                      1                   1  "
            ]
          },
          "execution_count": 96,
          "metadata": {},
          "output_type": "execute_result"
        }
      ],
      "source": [
        "df_labeled.head()"
      ]
    },
    {
      "cell_type": "code",
      "execution_count": null,
      "id": "b531c2cc",
      "metadata": {
        "execution": {
          "iopub.execute_input": "2023-08-17T06:40:42.608828Z",
          "iopub.status.busy": "2023-08-17T06:40:42.608442Z",
          "iopub.status.idle": "2023-08-17T06:40:42.617731Z",
          "shell.execute_reply": "2023-08-17T06:40:42.616577Z"
        },
        "papermill": {
          "duration": 0.0791,
          "end_time": "2023-08-17T06:40:42.620111",
          "exception": false,
          "start_time": "2023-08-17T06:40:42.541011",
          "status": "completed"
        },
        "tags": [],
        "id": "b531c2cc",
        "outputId": "2b860e84-d92f-4389-e152-89d3944e0a1c"
      },
      "outputs": [
        {
          "data": {
            "text/plain": [
              "0    97.851798\n",
              "1     2.148202\n",
              "Name: Bad_Customer, dtype: float64"
            ]
          },
          "execution_count": 97,
          "metadata": {},
          "output_type": "execute_result"
        }
      ],
      "source": [
        "df_labeled[\"Bad_Customer\"].value_counts(normalize=True)*100"
      ]
    },
    {
      "cell_type": "markdown",
      "id": "2c1c2de0",
      "metadata": {
        "papermill": {
          "duration": 0.064118,
          "end_time": "2023-08-17T06:40:42.749343",
          "exception": false,
          "start_time": "2023-08-17T06:40:42.685225",
          "status": "completed"
        },
        "tags": [],
        "id": "2c1c2de0"
      },
      "source": [
        "#### Split data into train and test set.\n",
        "\n",
        "#### Handle imbalance data by using SMOTE.\n",
        "\n",
        "#### Encode data"
      ]
    },
    {
      "cell_type": "code",
      "execution_count": null,
      "id": "65ee2186",
      "metadata": {
        "execution": {
          "iopub.execute_input": "2023-08-17T06:40:42.880108Z",
          "iopub.status.busy": "2023-08-17T06:40:42.879696Z",
          "iopub.status.idle": "2023-08-17T06:40:42.892802Z",
          "shell.execute_reply": "2023-08-17T06:40:42.891637Z"
        },
        "papermill": {
          "duration": 0.081881,
          "end_time": "2023-08-17T06:40:42.895690",
          "exception": false,
          "start_time": "2023-08-17T06:40:42.813809",
          "status": "completed"
        },
        "tags": [],
        "id": "65ee2186"
      },
      "outputs": [],
      "source": [
        "df_LogReg_one = df_labeled\n",
        "x_LogReg = df_LogReg_one.drop(\"Bad_Customer\",axis=1)\n",
        "y_LogReg = df_LogReg_one[\"Bad_Customer\"]\n",
        "x_LogReg_train, x_LogReg_test, y_LogReg_train, y_LogReg_test = train_test_split(x_LogReg, y_LogReg, test_size=0.25, stratify=y_LogReg, random_state=42)"
      ]
    },
    {
      "cell_type": "code",
      "execution_count": null,
      "id": "d86863b3",
      "metadata": {
        "execution": {
          "iopub.execute_input": "2023-08-17T06:40:43.032893Z",
          "iopub.status.busy": "2023-08-17T06:40:43.031596Z",
          "iopub.status.idle": "2023-08-17T06:40:43.052547Z",
          "shell.execute_reply": "2023-08-17T06:40:43.050855Z"
        },
        "papermill": {
          "duration": 0.09049,
          "end_time": "2023-08-17T06:40:43.055082",
          "exception": false,
          "start_time": "2023-08-17T06:40:42.964592",
          "status": "completed"
        },
        "tags": [],
        "id": "d86863b3",
        "outputId": "86f38de1-cd78-40fa-882e-8554498c371b"
      },
      "outputs": [
        {
          "name": "stdout",
          "output_type": "stream",
          "text": [
            "<class 'pandas.core.frame.DataFrame'>\n",
            "Int64Index: 3107 entries, 2861 to 1167\n",
            "Data columns (total 7 columns):\n",
            " #   Column                  Non-Null Count  Dtype \n",
            "---  ------                  --------------  ----- \n",
            " 0   NAME_INCOME_TYPE        3107 non-null   object\n",
            " 1   NAME_FAMILY_STATUS      3107 non-null   object\n",
            " 2   OCCUPATION_TYPE         3107 non-null   object\n",
            " 3   FAM_GROUP               3107 non-null   object\n",
            " 4   AGE_GROUP               3107 non-null   object\n",
            " 5   AMT_INCOME_TOTAL_GROUP  3107 non-null   object\n",
            " 6   YEAR_EMPLOYED_GROUP     3107 non-null   object\n",
            "dtypes: object(7)\n",
            "memory usage: 194.2+ KB\n"
          ]
        }
      ],
      "source": [
        "x_LogReg_train.info()"
      ]
    },
    {
      "cell_type": "code",
      "execution_count": null,
      "id": "d2178d7a",
      "metadata": {
        "execution": {
          "iopub.execute_input": "2023-08-17T06:40:43.187826Z",
          "iopub.status.busy": "2023-08-17T06:40:43.187402Z",
          "iopub.status.idle": "2023-08-17T06:40:43.995218Z",
          "shell.execute_reply": "2023-08-17T06:40:43.993861Z"
        },
        "papermill": {
          "duration": 0.877706,
          "end_time": "2023-08-17T06:40:43.998369",
          "exception": false,
          "start_time": "2023-08-17T06:40:43.120663",
          "status": "completed"
        },
        "tags": [],
        "id": "d2178d7a"
      },
      "outputs": [],
      "source": [
        "x_train_balance,y_train_balance = SMOTEN(random_state=10).fit_resample(x_LogReg_train,y_LogReg_train)\n",
        "x_LogReg_train_encoded = pd.get_dummies(x_train_balance)\n",
        "x_LogReg_test_encoded = pd.get_dummies(x_LogReg_test)"
      ]
    },
    {
      "cell_type": "code",
      "execution_count": null,
      "id": "f757dc7f",
      "metadata": {
        "execution": {
          "iopub.execute_input": "2023-08-17T06:40:44.136069Z",
          "iopub.status.busy": "2023-08-17T06:40:44.135628Z",
          "iopub.status.idle": "2023-08-17T06:40:44.153657Z",
          "shell.execute_reply": "2023-08-17T06:40:44.151348Z"
        },
        "papermill": {
          "duration": 0.087495,
          "end_time": "2023-08-17T06:40:44.156492",
          "exception": false,
          "start_time": "2023-08-17T06:40:44.068997",
          "status": "completed"
        },
        "tags": [],
        "id": "f757dc7f",
        "outputId": "2f0146c0-aad2-4175-dbc3-2a0b9ade6e95"
      },
      "outputs": [
        {
          "name": "stdout",
          "output_type": "stream",
          "text": [
            "<class 'pandas.core.frame.DataFrame'>\n",
            "RangeIndex: 6080 entries, 0 to 6079\n",
            "Data columns (total 44 columns):\n",
            " #   Column                                   Non-Null Count  Dtype\n",
            "---  ------                                   --------------  -----\n",
            " 0   NAME_INCOME_TYPE_Commercial associate    6080 non-null   uint8\n",
            " 1   NAME_INCOME_TYPE_Pensioner               6080 non-null   uint8\n",
            " 2   NAME_INCOME_TYPE_State servant           6080 non-null   uint8\n",
            " 3   NAME_INCOME_TYPE_Working                 6080 non-null   uint8\n",
            " 4   NAME_FAMILY_STATUS_Civil marriage        6080 non-null   uint8\n",
            " 5   NAME_FAMILY_STATUS_Married               6080 non-null   uint8\n",
            " 6   NAME_FAMILY_STATUS_Separated/Widow       6080 non-null   uint8\n",
            " 7   NAME_FAMILY_STATUS_Single / not married  6080 non-null   uint8\n",
            " 8   OCCUPATION_TYPE_G1                       6080 non-null   uint8\n",
            " 9   OCCUPATION_TYPE_G2                       6080 non-null   uint8\n",
            " 10  OCCUPATION_TYPE_G3                       6080 non-null   uint8\n",
            " 11  OCCUPATION_TYPE_G4                       6080 non-null   uint8\n",
            " 12  OCCUPATION_TYPE_G5                       6080 non-null   uint8\n",
            " 13  OCCUPATION_TYPE_G6                       6080 non-null   uint8\n",
            " 14  OCCUPATION_TYPE_G7                       6080 non-null   uint8\n",
            " 15  OCCUPATION_TYPE_G8                       6080 non-null   uint8\n",
            " 16  FAM_GROUP_1                              6080 non-null   uint8\n",
            " 17  FAM_GROUP_2                              6080 non-null   uint8\n",
            " 18  FAM_GROUP_3                              6080 non-null   uint8\n",
            " 19  FAM_GROUP_4                              6080 non-null   uint8\n",
            " 20  FAM_GROUP_5                              6080 non-null   uint8\n",
            " 21  AGE_GROUP_1                              6080 non-null   uint8\n",
            " 22  AGE_GROUP_2                              6080 non-null   uint8\n",
            " 23  AGE_GROUP_3                              6080 non-null   uint8\n",
            " 24  AGE_GROUP_4                              6080 non-null   uint8\n",
            " 25  AGE_GROUP_5                              6080 non-null   uint8\n",
            " 26  AGE_GROUP_6                              6080 non-null   uint8\n",
            " 27  AGE_GROUP_7                              6080 non-null   uint8\n",
            " 28  AGE_GROUP_8                              6080 non-null   uint8\n",
            " 29  AMT_INCOME_TOTAL_GROUP_1                 6080 non-null   uint8\n",
            " 30  AMT_INCOME_TOTAL_GROUP_2                 6080 non-null   uint8\n",
            " 31  AMT_INCOME_TOTAL_GROUP_3                 6080 non-null   uint8\n",
            " 32  AMT_INCOME_TOTAL_GROUP_4                 6080 non-null   uint8\n",
            " 33  AMT_INCOME_TOTAL_GROUP_5                 6080 non-null   uint8\n",
            " 34  AMT_INCOME_TOTAL_GROUP_6                 6080 non-null   uint8\n",
            " 35  YEAR_EMPLOYED_GROUP_1                    6080 non-null   uint8\n",
            " 36  YEAR_EMPLOYED_GROUP_2                    6080 non-null   uint8\n",
            " 37  YEAR_EMPLOYED_GROUP_3                    6080 non-null   uint8\n",
            " 38  YEAR_EMPLOYED_GROUP_4                    6080 non-null   uint8\n",
            " 39  YEAR_EMPLOYED_GROUP_5                    6080 non-null   uint8\n",
            " 40  YEAR_EMPLOYED_GROUP_6                    6080 non-null   uint8\n",
            " 41  YEAR_EMPLOYED_GROUP_7                    6080 non-null   uint8\n",
            " 42  YEAR_EMPLOYED_GROUP_8                    6080 non-null   uint8\n",
            " 43  YEAR_EMPLOYED_GROUP_9                    6080 non-null   uint8\n",
            "dtypes: uint8(44)\n",
            "memory usage: 261.4 KB\n"
          ]
        }
      ],
      "source": [
        "x_LogReg_train_encoded.info()"
      ]
    },
    {
      "cell_type": "markdown",
      "id": "7ad877ce",
      "metadata": {
        "papermill": {
          "duration": 0.066429,
          "end_time": "2023-08-17T06:40:44.290222",
          "exception": false,
          "start_time": "2023-08-17T06:40:44.223793",
          "status": "completed"
        },
        "tags": [],
        "id": "7ad877ce"
      },
      "source": [
        "## Binary Logistic regression\n"
      ]
    },
    {
      "cell_type": "code",
      "execution_count": null,
      "id": "8384ec6b",
      "metadata": {
        "execution": {
          "iopub.execute_input": "2023-08-17T06:40:44.425746Z",
          "iopub.status.busy": "2023-08-17T06:40:44.425336Z",
          "iopub.status.idle": "2023-08-17T06:40:44.937367Z",
          "shell.execute_reply": "2023-08-17T06:40:44.936178Z"
        },
        "papermill": {
          "duration": 0.580596,
          "end_time": "2023-08-17T06:40:44.939701",
          "exception": false,
          "start_time": "2023-08-17T06:40:44.359105",
          "status": "completed"
        },
        "tags": [],
        "id": "8384ec6b",
        "outputId": "571fb618-eea0-49c4-a65d-bd05d5e7b0b3"
      },
      "outputs": [
        {
          "data": {
            "image/png": "[encoded data removed]",
            "text/plain": [
              "<Figure size 640x480 with 2 Axes>"
            ]
          },
          "metadata": {},
          "output_type": "display_data"
        },
        {
          "name": "stdout",
          "output_type": "stream",
          "text": [
            "              precision    recall  f1-score   support\n",
            "\n",
            "           0       0.98      0.83      0.90      1014\n",
            "           1       0.02      0.14      0.03        22\n",
            "\n",
            "    accuracy                           0.81      1036\n",
            "   macro avg       0.50      0.48      0.46      1036\n",
            "weighted avg       0.96      0.81      0.88      1036\n",
            "\n"
          ]
        }
      ],
      "source": [
        "log_clf = LogisticRegression(random_state=42, max_iter=2000).fit(x_LogReg_train_encoded, y_train_balance)\n",
        "y_predict= log_clf.predict(x_LogReg_test_encoded)\n",
        "log_cm = confusion_matrix(y_LogReg_test, y_predict, labels=log_clf.classes_)\n",
        "\n",
        "# Create display of confusion matrix\n",
        "log_disp = ConfusionMatrixDisplay(confusion_matrix=log_cm,\n",
        "                                  display_labels=log_clf.classes_)\n",
        "\n",
        "# Plot confusion matrix\n",
        "log_disp.plot(values_format='')\n",
        "\n",
        "# Display plot\n",
        "plt.show()\n",
        "print(classification_report(y_LogReg_test,y_predict))\n",
        "y_pred_log = y_predict.copy()\n"
      ]
    },
    {
      "cell_type": "markdown",
      "id": "2230a714",
      "metadata": {
        "papermill": {
          "duration": 0.065858,
          "end_time": "2023-08-17T06:40:45.071146",
          "exception": false,
          "start_time": "2023-08-17T06:40:45.005288",
          "status": "completed"
        },
        "tags": [],
        "id": "2230a714"
      },
      "source": [
        "## Random Forest"
      ]
    },
    {
      "cell_type": "code",
      "execution_count": null,
      "id": "8ec02dd8",
      "metadata": {
        "execution": {
          "iopub.execute_input": "2023-08-17T06:40:45.204136Z",
          "iopub.status.busy": "2023-08-17T06:40:45.203422Z",
          "iopub.status.idle": "2023-08-17T06:42:08.833522Z",
          "shell.execute_reply": "2023-08-17T06:42:08.832262Z"
        },
        "papermill": {
          "duration": 83.766289,
          "end_time": "2023-08-17T06:42:08.902933",
          "exception": false,
          "start_time": "2023-08-17T06:40:45.136644",
          "status": "completed"
        },
        "tags": [],
        "id": "8ec02dd8",
        "outputId": "f383a7b8-c247-4bee-d4ab-977295281cc1"
      },
      "outputs": [
        {
          "data": {
            "text/html": [
              "<style>#sk-container-id-1 {color: black;background-color: white;}#sk-container-id-1 pre{padding: 0;}#sk-container-id-1 div.sk-toggleable {background-color: white;}#sk-container-id-1 label.sk-toggleable__label {cursor: pointer;display: block;width: 100%;margin-bottom: 0;padding: 0.3em;box-sizing: border-box;text-align: center;}#sk-container-id-1 label.sk-toggleable__label-arrow:before {content: \"▸\";float: left;margin-right: 0.25em;color: #696969;}#sk-container-id-1 label.sk-toggleable__label-arrow:hover:before {color: black;}#sk-container-id-1 div.sk-estimator:hover label.sk-toggleable__label-arrow:before {color: black;}#sk-container-id-1 div.sk-toggleable__content {max-height: 0;max-width: 0;overflow: hidden;text-align: left;background-color: #f0f8ff;}#sk-container-id-1 div.sk-toggleable__content pre {margin: 0.2em;color: black;border-radius: 0.25em;background-color: #f0f8ff;}#sk-container-id-1 input.sk-toggleable__control:checked~div.sk-toggleable__content {max-height: 200px;max-width: 100%;overflow: auto;}#sk-container-id-1 input.sk-toggleable__control:checked~label.sk-toggleable__label-arrow:before {content: \"▾\";}#sk-container-id-1 div.sk-estimator input.sk-toggleable__control:checked~label.sk-toggleable__label {background-color: #d4ebff;}#sk-container-id-1 div.sk-label input.sk-toggleable__control:checked~label.sk-toggleable__label {background-color: #d4ebff;}#sk-container-id-1 input.sk-hidden--visually {border: 0;clip: rect(1px 1px 1px 1px);clip: rect(1px, 1px, 1px, 1px);height: 1px;margin: -1px;overflow: hidden;padding: 0;position: absolute;width: 1px;}#sk-container-id-1 div.sk-estimator {font-family: monospace;background-color: #f0f8ff;border: 1px dotted black;border-radius: 0.25em;box-sizing: border-box;margin-bottom: 0.5em;}#sk-container-id-1 div.sk-estimator:hover {background-color: #d4ebff;}#sk-container-id-1 div.sk-parallel-item::after {content: \"\";width: 100%;border-bottom: 1px solid gray;flex-grow: 1;}#sk-container-id-1 div.sk-label:hover label.sk-toggleable__label {background-color: #d4ebff;}#sk-container-id-1 div.sk-serial::before {content: \"\";position: absolute;border-left: 1px solid gray;box-sizing: border-box;top: 0;bottom: 0;left: 50%;z-index: 0;}#sk-container-id-1 div.sk-serial {display: flex;flex-direction: column;align-items: center;background-color: white;padding-right: 0.2em;padding-left: 0.2em;position: relative;}#sk-container-id-1 div.sk-item {position: relative;z-index: 1;}#sk-container-id-1 div.sk-parallel {display: flex;align-items: stretch;justify-content: center;background-color: white;position: relative;}#sk-container-id-1 div.sk-item::before, #sk-container-id-1 div.sk-parallel-item::before {content: \"\";position: absolute;border-left: 1px solid gray;box-sizing: border-box;top: 0;bottom: 0;left: 50%;z-index: -1;}#sk-container-id-1 div.sk-parallel-item {display: flex;flex-direction: column;z-index: 1;position: relative;background-color: white;}#sk-container-id-1 div.sk-parallel-item:first-child::after {align-self: flex-end;width: 50%;}#sk-container-id-1 div.sk-parallel-item:last-child::after {align-self: flex-start;width: 50%;}#sk-container-id-1 div.sk-parallel-item:only-child::after {width: 0;}#sk-container-id-1 div.sk-dashed-wrapped {border: 1px dashed gray;margin: 0 0.4em 0.5em 0.4em;box-sizing: border-box;padding-bottom: 0.4em;background-color: white;}#sk-container-id-1 div.sk-label label {font-family: monospace;font-weight: bold;display: inline-block;line-height: 1.2em;}#sk-container-id-1 div.sk-label-container {text-align: center;}#sk-container-id-1 div.sk-container {/* jupyter's `normalize.less` sets `[hidden] { display: none; }` but bootstrap.min.css set `[hidden] { display: none !important; }` so we also need the `!important` here to be able to override the default hidden behavior on the sphinx rendered scikit-learn.org. See: https://github.com/scikit-learn/scikit-learn/issues/21755 */display: inline-block !important;position: relative;}#sk-container-id-1 div.sk-text-repr-fallback {display: none;}</style><div id=\"sk-container-id-1\" class=\"sk-top-container\"><div class=\"sk-text-repr-fallback\"><pre>GridSearchCV(estimator=RandomForestClassifier(random_state=0),\n",
              "             param_grid={&#x27;max_depth&#x27;: [10, 20, 50],\n",
              "                         &#x27;min_samples_leaf&#x27;: [1, 5, 10],\n",
              "                         &#x27;n_estimators&#x27;: [50, 100, 200]},\n",
              "             refit=&#x27;f1&#x27;)</pre><b>In a Jupyter environment, please rerun this cell to show the HTML representation or trust the notebook. <br />On GitHub, the HTML representation is unable to render, please try loading this page with nbviewer.org.</b></div><div class=\"sk-container\" hidden><div class=\"sk-item sk-dashed-wrapped\"><div class=\"sk-label-container\"><div class=\"sk-label sk-toggleable\"><input class=\"sk-toggleable__control sk-hidden--visually\" id=\"sk-estimator-id-1\" type=\"checkbox\" ><label for=\"sk-estimator-id-1\" class=\"sk-toggleable__label sk-toggleable__label-arrow\">GridSearchCV</label><div class=\"sk-toggleable__content\"><pre>GridSearchCV(estimator=RandomForestClassifier(random_state=0),\n",
              "             param_grid={&#x27;max_depth&#x27;: [10, 20, 50],\n",
              "                         &#x27;min_samples_leaf&#x27;: [1, 5, 10],\n",
              "                         &#x27;n_estimators&#x27;: [50, 100, 200]},\n",
              "             refit=&#x27;f1&#x27;)</pre></div></div></div><div class=\"sk-parallel\"><div class=\"sk-parallel-item\"><div class=\"sk-item\"><div class=\"sk-label-container\"><div class=\"sk-label sk-toggleable\"><input class=\"sk-toggleable__control sk-hidden--visually\" id=\"sk-estimator-id-2\" type=\"checkbox\" ><label for=\"sk-estimator-id-2\" class=\"sk-toggleable__label sk-toggleable__label-arrow\">estimator: RandomForestClassifier</label><div class=\"sk-toggleable__content\"><pre>RandomForestClassifier(random_state=0)</pre></div></div></div><div class=\"sk-serial\"><div class=\"sk-item\"><div class=\"sk-estimator sk-toggleable\"><input class=\"sk-toggleable__control sk-hidden--visually\" id=\"sk-estimator-id-3\" type=\"checkbox\" ><label for=\"sk-estimator-id-3\" class=\"sk-toggleable__label sk-toggleable__label-arrow\">RandomForestClassifier</label><div class=\"sk-toggleable__content\"><pre>RandomForestClassifier(random_state=0)</pre></div></div></div></div></div></div></div></div></div></div>"
            ],
            "text/plain": [
              "GridSearchCV(estimator=RandomForestClassifier(random_state=0),\n",
              "             param_grid={'max_depth': [10, 20, 50],\n",
              "                         'min_samples_leaf': [1, 5, 10],\n",
              "                         'n_estimators': [50, 100, 200]},\n",
              "             refit='f1')"
            ]
          },
          "execution_count": 103,
          "metadata": {},
          "output_type": "execute_result"
        }
      ],
      "source": [
        "cv_params = {'n_estimators' : [50,100,200],\n",
        "              'max_depth' : [10,20,50],\n",
        "              'min_samples_leaf':[1,5,10]}\n",
        "rf = RandomForestClassifier(random_state=0)\n",
        "rf_val = GridSearchCV(rf, cv_params, refit='f1')\n",
        "rf_val.fit(x_LogReg_train_encoded, y_train_balance)"
      ]
    },
    {
      "cell_type": "code",
      "execution_count": null,
      "id": "36fc99e0",
      "metadata": {
        "execution": {
          "iopub.execute_input": "2023-08-17T06:42:09.037512Z",
          "iopub.status.busy": "2023-08-17T06:42:09.037093Z",
          "iopub.status.idle": "2023-08-17T06:42:09.373475Z",
          "shell.execute_reply": "2023-08-17T06:42:09.371999Z"
        },
        "papermill": {
          "duration": 0.407014,
          "end_time": "2023-08-17T06:42:09.376142",
          "exception": false,
          "start_time": "2023-08-17T06:42:08.969128",
          "status": "completed"
        },
        "tags": [],
        "id": "36fc99e0",
        "outputId": "978c6dc8-7f09-49a0-80f1-5418a86a89a9"
      },
      "outputs": [
        {
          "data": {
            "image/png": "[encoded data removed]",
            "text/plain": [
              "<Figure size 640x480 with 2 Axes>"
            ]
          },
          "metadata": {},
          "output_type": "display_data"
        },
        {
          "name": "stdout",
          "output_type": "stream",
          "text": [
            "              precision    recall  f1-score   support\n",
            "\n",
            "           0       0.98      0.96      0.97      1014\n",
            "           1       0.02      0.05      0.03        22\n",
            "\n",
            "    accuracy                           0.94      1036\n",
            "   macro avg       0.50      0.50      0.50      1036\n",
            "weighted avg       0.96      0.94      0.95      1036\n",
            "\n"
          ]
        }
      ],
      "source": [
        "y_predict = rf_val.predict(x_LogReg_test_encoded)\n",
        "log_cm = confusion_matrix(y_LogReg_test, y_predict, labels=log_clf.classes_)\n",
        "\n",
        "# Create display of confusion matrix\n",
        "log_disp = ConfusionMatrixDisplay(confusion_matrix=log_cm,\n",
        "                                  display_labels=log_clf.classes_)\n",
        "\n",
        "# Plot confusion matrix\n",
        "log_disp.plot(values_format='')\n",
        "\n",
        "# Display plot\n",
        "plt.show()\n",
        "print(classification_report(y_LogReg_test,y_predict))\n",
        "y_pred_rf = y_predict.copy()"
      ]
    },
    {
      "cell_type": "markdown",
      "id": "9b312aa2",
      "metadata": {
        "papermill": {
          "duration": 0.06691,
          "end_time": "2023-08-17T06:42:09.509990",
          "exception": false,
          "start_time": "2023-08-17T06:42:09.443080",
          "status": "completed"
        },
        "tags": [],
        "id": "9b312aa2"
      },
      "source": [
        "# XGBOOST"
      ]
    },
    {
      "cell_type": "code",
      "execution_count": null,
      "id": "b8563a40",
      "metadata": {
        "execution": {
          "iopub.execute_input": "2023-08-17T06:42:09.645692Z",
          "iopub.status.busy": "2023-08-17T06:42:09.645021Z",
          "iopub.status.idle": "2023-08-17T06:42:09.651108Z",
          "shell.execute_reply": "2023-08-17T06:42:09.649974Z"
        },
        "papermill": {
          "duration": 0.076893,
          "end_time": "2023-08-17T06:42:09.653488",
          "exception": false,
          "start_time": "2023-08-17T06:42:09.576595",
          "status": "completed"
        },
        "tags": [],
        "id": "b8563a40"
      },
      "outputs": [],
      "source": [
        "cv_params = {'max_depth': [4, 6, 8],\n",
        "              'min_child_weight': [1, 3, 5],\n",
        "              'learning_rate': [0.1, 0.3, 0.5],\n",
        "              'n_estimators': [50,100,200],\n",
        "              }\n",
        "scoring = {'accuracy', 'precision', 'recall', 'f1'}"
      ]
    },
    {
      "cell_type": "code",
      "execution_count": null,
      "id": "81560845",
      "metadata": {
        "execution": {
          "iopub.execute_input": "2023-08-17T06:42:09.792179Z",
          "iopub.status.busy": "2023-08-17T06:42:09.791376Z",
          "iopub.status.idle": "2023-08-17T06:42:09.796885Z",
          "shell.execute_reply": "2023-08-17T06:42:09.796013Z"
        },
        "papermill": {
          "duration": 0.076667,
          "end_time": "2023-08-17T06:42:09.799209",
          "exception": false,
          "start_time": "2023-08-17T06:42:09.722542",
          "status": "completed"
        },
        "tags": [],
        "id": "81560845"
      },
      "outputs": [],
      "source": [
        "xgb = XGBClassifier(objective='binary:logistic', random_state=0)\n",
        "xgb_cv = GridSearchCV(xgb,\n",
        "                      cv_params,\n",
        "                      scoring = scoring,\n",
        "                      cv = 5,\n",
        "                      refit = 'f1'\n",
        "                     )"
      ]
    },
    {
      "cell_type": "code",
      "execution_count": null,
      "id": "0c8b40ae",
      "metadata": {
        "execution": {
          "iopub.execute_input": "2023-08-17T06:42:09.935395Z",
          "iopub.status.busy": "2023-08-17T06:42:09.934614Z",
          "iopub.status.idle": "2023-08-17T06:46:45.320775Z",
          "shell.execute_reply": "2023-08-17T06:46:45.319894Z"
        },
        "papermill": {
          "duration": 275.524232,
          "end_time": "2023-08-17T06:46:45.390384",
          "exception": false,
          "start_time": "2023-08-17T06:42:09.866152",
          "status": "completed"
        },
        "tags": [],
        "id": "0c8b40ae",
        "outputId": "0b14d9fc-614e-49de-9103-fb560890b710"
      },
      "outputs": [
        {
          "data": {
            "text/html": [
              "<style>#sk-container-id-2 {color: black;background-color: white;}#sk-container-id-2 pre{padding: 0;}#sk-container-id-2 div.sk-toggleable {background-color: white;}#sk-container-id-2 label.sk-toggleable__label {cursor: pointer;display: block;width: 100%;margin-bottom: 0;padding: 0.3em;box-sizing: border-box;text-align: center;}#sk-container-id-2 label.sk-toggleable__label-arrow:before {content: \"▸\";float: left;margin-right: 0.25em;color: #696969;}#sk-container-id-2 label.sk-toggleable__label-arrow:hover:before {color: black;}#sk-container-id-2 div.sk-estimator:hover label.sk-toggleable__label-arrow:before {color: black;}#sk-container-id-2 div.sk-toggleable__content {max-height: 0;max-width: 0;overflow: hidden;text-align: left;background-color: #f0f8ff;}#sk-container-id-2 div.sk-toggleable__content pre {margin: 0.2em;color: black;border-radius: 0.25em;background-color: #f0f8ff;}#sk-container-id-2 input.sk-toggleable__control:checked~div.sk-toggleable__content {max-height: 200px;max-width: 100%;overflow: auto;}#sk-container-id-2 input.sk-toggleable__control:checked~label.sk-toggleable__label-arrow:before {content: \"▾\";}#sk-container-id-2 div.sk-estimator input.sk-toggleable__control:checked~label.sk-toggleable__label {background-color: #d4ebff;}#sk-container-id-2 div.sk-label input.sk-toggleable__control:checked~label.sk-toggleable__label {background-color: #d4ebff;}#sk-container-id-2 input.sk-hidden--visually {border: 0;clip: rect(1px 1px 1px 1px);clip: rect(1px, 1px, 1px, 1px);height: 1px;margin: -1px;overflow: hidden;padding: 0;position: absolute;width: 1px;}#sk-container-id-2 div.sk-estimator {font-family: monospace;background-color: #f0f8ff;border: 1px dotted black;border-radius: 0.25em;box-sizing: border-box;margin-bottom: 0.5em;}#sk-container-id-2 div.sk-estimator:hover {background-color: #d4ebff;}#sk-container-id-2 div.sk-parallel-item::after {content: \"\";width: 100%;border-bottom: 1px solid gray;flex-grow: 1;}#sk-container-id-2 div.sk-label:hover label.sk-toggleable__label {background-color: #d4ebff;}#sk-container-id-2 div.sk-serial::before {content: \"\";position: absolute;border-left: 1px solid gray;box-sizing: border-box;top: 0;bottom: 0;left: 50%;z-index: 0;}#sk-container-id-2 div.sk-serial {display: flex;flex-direction: column;align-items: center;background-color: white;padding-right: 0.2em;padding-left: 0.2em;position: relative;}#sk-container-id-2 div.sk-item {position: relative;z-index: 1;}#sk-container-id-2 div.sk-parallel {display: flex;align-items: stretch;justify-content: center;background-color: white;position: relative;}#sk-container-id-2 div.sk-item::before, #sk-container-id-2 div.sk-parallel-item::before {content: \"\";position: absolute;border-left: 1px solid gray;box-sizing: border-box;top: 0;bottom: 0;left: 50%;z-index: -1;}#sk-container-id-2 div.sk-parallel-item {display: flex;flex-direction: column;z-index: 1;position: relative;background-color: white;}#sk-container-id-2 div.sk-parallel-item:first-child::after {align-self: flex-end;width: 50%;}#sk-container-id-2 div.sk-parallel-item:last-child::after {align-self: flex-start;width: 50%;}#sk-container-id-2 div.sk-parallel-item:only-child::after {width: 0;}#sk-container-id-2 div.sk-dashed-wrapped {border: 1px dashed gray;margin: 0 0.4em 0.5em 0.4em;box-sizing: border-box;padding-bottom: 0.4em;background-color: white;}#sk-container-id-2 div.sk-label label {font-family: monospace;font-weight: bold;display: inline-block;line-height: 1.2em;}#sk-container-id-2 div.sk-label-container {text-align: center;}#sk-container-id-2 div.sk-container {/* jupyter's `normalize.less` sets `[hidden] { display: none; }` but bootstrap.min.css set `[hidden] { display: none !important; }` so we also need the `!important` here to be able to override the default hidden behavior on the sphinx rendered scikit-learn.org. See: https://github.com/scikit-learn/scikit-learn/issues/21755 */display: inline-block !important;position: relative;}#sk-container-id-2 div.sk-text-repr-fallback {display: none;}</style><div id=\"sk-container-id-2\" class=\"sk-top-container\"><div class=\"sk-text-repr-fallback\"><pre>GridSearchCV(cv=5,\n",
              "             estimator=XGBClassifier(base_score=None, booster=None,\n",
              "                                     callbacks=None, colsample_bylevel=None,\n",
              "                                     colsample_bynode=None,\n",
              "                                     colsample_bytree=None,\n",
              "                                     early_stopping_rounds=None,\n",
              "                                     enable_categorical=False, eval_metric=None,\n",
              "                                     feature_types=None, gamma=None,\n",
              "                                     gpu_id=None, grow_policy=None,\n",
              "                                     importance_type=None,\n",
              "                                     interaction_constraints=None,\n",
              "                                     learning_rate=None,...\n",
              "                                     max_delta_step=None, max_depth=None,\n",
              "                                     max_leaves=None, min_child_weight=None,\n",
              "                                     missing=nan, monotone_constraints=None,\n",
              "                                     n_estimators=100, n_jobs=None,\n",
              "                                     num_parallel_tree=None, predictor=None,\n",
              "                                     random_state=0, ...),\n",
              "             param_grid={&#x27;learning_rate&#x27;: [0.1, 0.3, 0.5],\n",
              "                         &#x27;max_depth&#x27;: [4, 6, 8], &#x27;min_child_weight&#x27;: [1, 3, 5],\n",
              "                         &#x27;n_estimators&#x27;: [50, 100, 200]},\n",
              "             refit=&#x27;f1&#x27;, scoring={&#x27;precision&#x27;, &#x27;recall&#x27;, &#x27;accuracy&#x27;, &#x27;f1&#x27;})</pre><b>In a Jupyter environment, please rerun this cell to show the HTML representation or trust the notebook. <br />On GitHub, the HTML representation is unable to render, please try loading this page with nbviewer.org.</b></div><div class=\"sk-container\" hidden><div class=\"sk-item sk-dashed-wrapped\"><div class=\"sk-label-container\"><div class=\"sk-label sk-toggleable\"><input class=\"sk-toggleable__control sk-hidden--visually\" id=\"sk-estimator-id-4\" type=\"checkbox\" ><label for=\"sk-estimator-id-4\" class=\"sk-toggleable__label sk-toggleable__label-arrow\">GridSearchCV</label><div class=\"sk-toggleable__content\"><pre>GridSearchCV(cv=5,\n",
              "             estimator=XGBClassifier(base_score=None, booster=None,\n",
              "                                     callbacks=None, colsample_bylevel=None,\n",
              "                                     colsample_bynode=None,\n",
              "                                     colsample_bytree=None,\n",
              "                                     early_stopping_rounds=None,\n",
              "                                     enable_categorical=False, eval_metric=None,\n",
              "                                     feature_types=None, gamma=None,\n",
              "                                     gpu_id=None, grow_policy=None,\n",
              "                                     importance_type=None,\n",
              "                                     interaction_constraints=None,\n",
              "                                     learning_rate=None,...\n",
              "                                     max_delta_step=None, max_depth=None,\n",
              "                                     max_leaves=None, min_child_weight=None,\n",
              "                                     missing=nan, monotone_constraints=None,\n",
              "                                     n_estimators=100, n_jobs=None,\n",
              "                                     num_parallel_tree=None, predictor=None,\n",
              "                                     random_state=0, ...),\n",
              "             param_grid={&#x27;learning_rate&#x27;: [0.1, 0.3, 0.5],\n",
              "                         &#x27;max_depth&#x27;: [4, 6, 8], &#x27;min_child_weight&#x27;: [1, 3, 5],\n",
              "                         &#x27;n_estimators&#x27;: [50, 100, 200]},\n",
              "             refit=&#x27;f1&#x27;, scoring={&#x27;precision&#x27;, &#x27;recall&#x27;, &#x27;accuracy&#x27;, &#x27;f1&#x27;})</pre></div></div></div><div class=\"sk-parallel\"><div class=\"sk-parallel-item\"><div class=\"sk-item\"><div class=\"sk-label-container\"><div class=\"sk-label sk-toggleable\"><input class=\"sk-toggleable__control sk-hidden--visually\" id=\"sk-estimator-id-5\" type=\"checkbox\" ><label for=\"sk-estimator-id-5\" class=\"sk-toggleable__label sk-toggleable__label-arrow\">estimator: XGBClassifier</label><div class=\"sk-toggleable__content\"><pre>XGBClassifier(base_score=None, booster=None, callbacks=None,\n",
              "              colsample_bylevel=None, colsample_bynode=None,\n",
              "              colsample_bytree=None, early_stopping_rounds=None,\n",
              "              enable_categorical=False, eval_metric=None, feature_types=None,\n",
              "              gamma=None, gpu_id=None, grow_policy=None, importance_type=None,\n",
              "              interaction_constraints=None, learning_rate=None, max_bin=None,\n",
              "              max_cat_threshold=None, max_cat_to_onehot=None,\n",
              "              max_delta_step=None, max_depth=None, max_leaves=None,\n",
              "              min_child_weight=None, missing=nan, monotone_constraints=None,\n",
              "              n_estimators=100, n_jobs=None, num_parallel_tree=None,\n",
              "              predictor=None, random_state=0, ...)</pre></div></div></div><div class=\"sk-serial\"><div class=\"sk-item\"><div class=\"sk-estimator sk-toggleable\"><input class=\"sk-toggleable__control sk-hidden--visually\" id=\"sk-estimator-id-6\" type=\"checkbox\" ><label for=\"sk-estimator-id-6\" class=\"sk-toggleable__label sk-toggleable__label-arrow\">XGBClassifier</label><div class=\"sk-toggleable__content\"><pre>XGBClassifier(base_score=None, booster=None, callbacks=None,\n",
              "              colsample_bylevel=None, colsample_bynode=None,\n",
              "              colsample_bytree=None, early_stopping_rounds=None,\n",
              "              enable_categorical=False, eval_metric=None, feature_types=None,\n",
              "              gamma=None, gpu_id=None, grow_policy=None, importance_type=None,\n",
              "              interaction_constraints=None, learning_rate=None, max_bin=None,\n",
              "              max_cat_threshold=None, max_cat_to_onehot=None,\n",
              "              max_delta_step=None, max_depth=None, max_leaves=None,\n",
              "              min_child_weight=None, missing=nan, monotone_constraints=None,\n",
              "              n_estimators=100, n_jobs=None, num_parallel_tree=None,\n",
              "              predictor=None, random_state=0, ...)</pre></div></div></div></div></div></div></div></div></div></div>"
            ],
            "text/plain": [
              "GridSearchCV(cv=5,\n",
              "             estimator=XGBClassifier(base_score=None, booster=None,\n",
              "                                     callbacks=None, colsample_bylevel=None,\n",
              "                                     colsample_bynode=None,\n",
              "                                     colsample_bytree=None,\n",
              "                                     early_stopping_rounds=None,\n",
              "                                     enable_categorical=False, eval_metric=None,\n",
              "                                     feature_types=None, gamma=None,\n",
              "                                     gpu_id=None, grow_policy=None,\n",
              "                                     importance_type=None,\n",
              "                                     interaction_constraints=None,\n",
              "                                     learning_rate=None,...\n",
              "                                     max_delta_step=None, max_depth=None,\n",
              "                                     max_leaves=None, min_child_weight=None,\n",
              "                                     missing=nan, monotone_constraints=None,\n",
              "                                     n_estimators=100, n_jobs=None,\n",
              "                                     num_parallel_tree=None, predictor=None,\n",
              "                                     random_state=0, ...),\n",
              "             param_grid={'learning_rate': [0.1, 0.3, 0.5],\n",
              "                         'max_depth': [4, 6, 8], 'min_child_weight': [1, 3, 5],\n",
              "                         'n_estimators': [50, 100, 200]},\n",
              "             refit='f1', scoring={'precision', 'recall', 'accuracy', 'f1'})"
            ]
          },
          "execution_count": 107,
          "metadata": {},
          "output_type": "execute_result"
        }
      ],
      "source": [
        "xgb_cv = xgb_cv.fit(x_LogReg_train_encoded, y_train_balance)\n",
        "xgb_cv"
      ]
    },
    {
      "cell_type": "code",
      "execution_count": null,
      "id": "f9962af4",
      "metadata": {
        "execution": {
          "iopub.execute_input": "2023-08-17T06:46:45.527739Z",
          "iopub.status.busy": "2023-08-17T06:46:45.527049Z",
          "iopub.status.idle": "2023-08-17T06:46:45.813453Z",
          "shell.execute_reply": "2023-08-17T06:46:45.812368Z"
        },
        "papermill": {
          "duration": 0.358472,
          "end_time": "2023-08-17T06:46:45.816088",
          "exception": false,
          "start_time": "2023-08-17T06:46:45.457616",
          "status": "completed"
        },
        "tags": [],
        "id": "f9962af4",
        "outputId": "accc8465-c033-4462-a867-ea7d645b6528"
      },
      "outputs": [
        {
          "data": {
            "image/png": "[encoded data removed]",
            "text/plain": [
              "<Figure size 640x480 with 2 Axes>"
            ]
          },
          "metadata": {},
          "output_type": "display_data"
        },
        {
          "name": "stdout",
          "output_type": "stream",
          "text": [
            "              precision    recall  f1-score   support\n",
            "\n",
            "           0       0.98      0.95      0.96      1014\n",
            "           1       0.02      0.05      0.03        22\n",
            "\n",
            "    accuracy                           0.93      1036\n",
            "   macro avg       0.50      0.50      0.50      1036\n",
            "weighted avg       0.96      0.93      0.94      1036\n",
            "\n"
          ]
        }
      ],
      "source": [
        "y_predict = xgb_cv.predict(x_LogReg_test_encoded)\n",
        "log_cm = confusion_matrix(y_LogReg_test, y_predict, labels=log_clf.classes_)\n",
        "\n",
        "# Create display of confusion matrix\n",
        "log_disp = ConfusionMatrixDisplay(confusion_matrix=log_cm,\n",
        "                                  display_labels=log_clf.classes_)\n",
        "\n",
        "# Plot confusion matrix\n",
        "log_disp.plot(values_format='')\n",
        "\n",
        "# Display plot\n",
        "plt.show()\n",
        "print(classification_report(y_LogReg_test,y_predict))\n",
        "y_pred_xg = y_predict.copy()"
      ]
    },
    {
      "cell_type": "markdown",
      "id": "9eb21ddb",
      "metadata": {
        "papermill": {
          "duration": 0.067415,
          "end_time": "2023-08-17T06:46:45.951943",
          "exception": false,
          "start_time": "2023-08-17T06:46:45.884528",
          "status": "completed"
        },
        "tags": [],
        "id": "9eb21ddb"
      },
      "source": [
        "## Conclusion ==========="
      ]
    },
    {
      "cell_type": "markdown",
      "id": "9265b91a",
      "metadata": {
        "papermill": {
          "duration": 0.068486,
          "end_time": "2023-08-17T06:46:46.088240",
          "exception": false,
          "start_time": "2023-08-17T06:46:46.019754",
          "status": "completed"
        },
        "tags": [],
        "id": "9265b91a"
      },
      "source": [
        "The models developed failed to predict bad customers. Though the process can be finely tuned, e.g. choices of grouping data, and feature engineering (which we already did some experiment (not shown here)), the performance of the model is not increase significantlty. The assumption we made are 1) The lack of highly relavant data, e.g. debt, mortgage, and expense. 2) There is small example of bad customer (the data is highly imbalance)."
      ]
    }
  ],
  "metadata": {
    "kernelspec": {
      "display_name": "Python 3",
      "language": "python",
      "name": "python3"
    },
    "language_info": {
      "codemirror_mode": {
        "name": "ipython",
        "version": 3
      },
      "file_extension": ".py",
      "mimetype": "text/x-python",
      "name": "python",
      "nbconvert_exporter": "python",
      "pygments_lexer": "ipython3",
      "version": "3.10.12"
    },
    "papermill": {
      "default_parameters": {},
      "duration": 418.263782,
      "end_time": "2023-08-17T06:46:47.381327",
      "environment_variables": {},
      "exception": null,
      "input_path": "__notebook__.ipynb",
      "output_path": "__notebook__.ipynb",
      "parameters": {},
      "start_time": "2023-08-17T06:39:49.117545",
      "version": "2.4.0"
    },
    "colab": {
      "provenance": []
    }
  },
  "nbformat": 4,
  "nbformat_minor": 5
}